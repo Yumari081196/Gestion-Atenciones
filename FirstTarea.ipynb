{
 "cells": [
  {
   "cell_type": "code",
   "execution_count": 1,
   "metadata": {},
   "outputs": [
    {
     "name": "stdout",
     "output_type": "stream",
     "text": [
      "c:\\Users\\Cruz\\Desktop\\Pytho for ETL\\Gestion Atenciones\\Gestion Atenciones\\primerEntregable\\Scripts\\python.exe\n"
     ]
    }
   ],
   "source": [
    "import sys\n",
    "# Verificar si se esta trabajando en el entorno virtual\n",
    "print(sys.executable)\n"
   ]
  },
  {
   "cell_type": "code",
   "execution_count": 2,
   "metadata": {},
   "outputs": [],
   "source": [
    "# Instalar  ultima version y complemento\n",
    "# %pip install -U polars\n",
    "# %pip install xlsx2csv\n"
   ]
  },
  {
   "cell_type": "code",
   "execution_count": 3,
   "metadata": {},
   "outputs": [
    {
     "name": "stdout",
     "output_type": "stream",
     "text": [
      "shape: (9_206, 7)\n",
      "┌──────────────┬──────────────┬──────────────┬─────────┬──────────────┬──────────────┬─────────────┐\n",
      "│ TicketID     ┆ Ubicacion    ┆ Service Desk ┆ Estado  ┆ Fecha        ┆ Fecha        ┆ Fecha       │\n",
      "│ ---          ┆ ---          ┆ ---          ┆ ---     ┆ Creacion     ┆ Termino      ┆ Cierre      │\n",
      "│ str          ┆ str          ┆ str          ┆ str     ┆ ---          ┆ ---          ┆ ---         │\n",
      "│              ┆              ┆              ┆         ┆ date         ┆ date         ┆ date        │\n",
      "╞══════════════╪══════════════╪══════════════╪═════════╪══════════════╪══════════════╪═════════════╡\n",
      "│ WO0000004122 ┆ AREQUIPA -   ┆ Zona Norte   ┆ Cerrado ┆ 2022-06-01   ┆ 2022-06-14   ┆ 2022-06-14  │\n",
      "│ 687          ┆ 215000       ┆              ┆         ┆              ┆              ┆             │\n",
      "│ WO0000004122 ┆ METRO AV.    ┆ Zona Centro  ┆ Cerrado ┆ 2022-06-01   ┆ 2022-06-17   ┆ 2022-06-17  │\n",
      "│ 649          ┆ WIESSE -     ┆              ┆         ┆              ┆              ┆             │\n",
      "│              ┆ 191106       ┆              ┆         ┆              ┆              ┆             │\n",
      "│ WO0000004122 ┆ NICOLAS      ┆ Zona Centro  ┆ Cerrado ┆ 2022-06-01   ┆ 2022-06-08   ┆ 2022-06-08  │\n",
      "│ 502          ┆ AYLLON -     ┆              ┆         ┆              ┆              ┆             │\n",
      "│              ┆ 191027       ┆              ┆         ┆              ┆              ┆             │\n",
      "│ WO0000004122 ┆ JAUREGUI -   ┆ Zona Norte   ┆ Cerrado ┆ 2022-06-01   ┆ 2022-06-18   ┆ 2022-06-18  │\n",
      "│ 513          ┆ 405005       ┆              ┆         ┆              ┆              ┆             │\n",
      "│ WO0000004122 ┆ CANTO GRANDE ┆ Zona Centro  ┆ Cerrado ┆ 2022-06-01   ┆ 2022-06-08   ┆ 2022-06-08  │\n",
      "│ 741          ┆ - 191096     ┆              ┆         ┆              ┆              ┆             │\n",
      "│ …            ┆ …            ┆ …            ┆ …       ┆ …            ┆ …            ┆ …           │\n",
      "│ WO0000004848 ┆ ILO - 385000 ┆ Zona Norte   ┆ Cerrado ┆ 2022-12-31   ┆ 2023-01-09   ┆ 2023-01-12  │\n",
      "│ 619          ┆              ┆              ┆         ┆              ┆              ┆             │\n",
      "│ WO0000004848 ┆ QUILCA -     ┆ Zona Centro  ┆ Cerrado ┆ 2022-12-31   ┆ 2023-01-04   ┆ 2023-01-07  │\n",
      "│ 666          ┆ 191160       ┆              ┆         ┆              ┆              ┆             │\n",
      "│ WO0000004848 ┆ MERCADO DE   ┆ Zona Centro  ┆ Cerrado ┆ 2022-12-31   ┆ 2023-01-13   ┆ 2023-01-16  │\n",
      "│ 654          ┆ FRUTAS -     ┆              ┆         ┆              ┆              ┆             │\n",
      "│              ┆ 191064       ┆              ┆         ┆              ┆              ┆             │\n",
      "│ WO0000004849 ┆ VITARTE -    ┆ Zona Centro  ┆ Cerrado ┆ 2022-12-31   ┆ 2023-01-03   ┆ 2023-01-06  │\n",
      "│ 355          ┆ 191043       ┆              ┆         ┆              ┆              ┆             │\n",
      "│ WO0000004848 ┆ VILLA SOL -  ┆ Zona Centro  ┆ Cerrado ┆ 2022-12-31   ┆ 2022-12-31   ┆ 2023-01-03  │\n",
      "│ 638          ┆ 191059       ┆              ┆         ┆              ┆              ┆             │\n",
      "└──────────────┴──────────────┴──────────────┴─────────┴──────────────┴──────────────┴─────────────┘\n"
     ]
    }
   ],
   "source": [
    "import polars as pl\n",
    "\n",
    "# Ruta del archivo de texto\n",
    "ruta_historicos = './Tickets/Tickets Historico.txt'\n",
    "\n",
    "# Lista de nombres de columnas a seleccionar\n",
    "columnas_seleccionadas = ['Numero Ticket', 'Ubicacion', 'Service Desk', 'Estado', 'Fecha Creacion','Fecha Termino','Fecha Cierre']\n",
    "\n",
    "# Leer y seleccionar\n",
    "df_historico = pl.read_csv(ruta_historicos,separator=\";\")\n",
    "df_historico = df_historico.select(columnas_seleccionadas)\n",
    "\n",
    "# Convertir las columnas 'str' a date\n",
    "df_historico = df_historico.cast({\"Fecha Creacion\":pl.Date, \"Fecha Termino\":pl.Date, \"Fecha Cierre\":pl.Date}\n",
    ")\n",
    "\n",
    "# Renombrar columnas\n",
    "df_historico = df_historico.select(\n",
    "    pl.col(\"Numero Ticket\").alias(\"TicketID\"), *df_historico.drop(\"Numero Ticket\")\n",
    ")\n",
    "\n",
    "\n",
    "print(df_historico)\n"
   ]
  },
  {
   "cell_type": "code",
   "execution_count": 4,
   "metadata": {},
   "outputs": [
    {
     "name": "stdout",
     "output_type": "stream",
     "text": [
      "shape: (13_050, 7)\n",
      "┌──────────────┬──────────────┬──────────────┬──────────┬──────────────┬─────────────┬─────────────┐\n",
      "│ Numero       ┆ Ubicacion    ┆ Service Desk ┆ Estado   ┆ Fecha        ┆ Fecha       ┆ Fecha       │\n",
      "│ Ticket       ┆ ---          ┆ ---          ┆ ---      ┆ Creacion     ┆ Termino     ┆ Cierre      │\n",
      "│ ---          ┆ str          ┆ str          ┆ str      ┆ ---          ┆ ---         ┆ ---         │\n",
      "│ str          ┆              ┆              ┆          ┆ str          ┆ str         ┆ str         │\n",
      "╞══════════════╪══════════════╪══════════════╪══════════╪══════════════╪═════════════╪═════════════╡\n",
      "│ WO0000004853 ┆ TUPAC AMARU  ┆ Zona Centro  ┆ Cerrado  ┆ 2023-01-02   ┆ 10/01/2023  ┆ 13/01/2023  │\n",
      "│ 311          ┆ - 191038     ┆              ┆          ┆              ┆             ┆             │\n",
      "│ WO0000004852 ┆ SAN JUAN DE  ┆ Zona Centro  ┆ Cerrado  ┆ 2023-01-02   ┆ 2/01/2023   ┆ 5/01/2023   │\n",
      "│ 942          ┆ LURIGANCHO - ┆              ┆          ┆              ┆             ┆             │\n",
      "│              ┆ 191017       ┆              ┆          ┆              ┆             ┆             │\n",
      "│ WO0000004852 ┆ MARIANO      ┆ Zona Norte   ┆ Cerrado  ┆ 2023-01-02   ┆ 6/01/2023   ┆ 9/01/2023   │\n",
      "│ 621          ┆ MELGAR -     ┆              ┆          ┆              ┆             ┆             │\n",
      "│              ┆ 215014       ┆              ┆          ┆              ┆             ┆             │\n",
      "│ SA0000004853 ┆ ANDAHUAYLAS  ┆ Zona Norte   ┆ Cerrado  ┆ 2023-01-02   ┆ 7/01/2023   ┆ 10/01/2023  │\n",
      "│ 328          ┆ - 205000     ┆              ┆          ┆              ┆             ┆             │\n",
      "│ SA0000004853 ┆ COLLIQUE -   ┆ Zona Centro  ┆ Cerrado  ┆ 2023-01-02   ┆ 4/01/2023   ┆ 7/01/2023   │\n",
      "│ 160          ┆ 191065       ┆              ┆          ┆              ┆             ┆             │\n",
      "│ …            ┆ …            ┆ …            ┆ …        ┆ …            ┆ …           ┆ …           │\n",
      "│ WO0000005737 ┆ CANTO GRANDE ┆ Zona Centro  ┆ En curso ┆ 2023-10-29   ┆ null        ┆ null        │\n",
      "│ 139          ┆ - 191096     ┆              ┆          ┆              ┆             ┆             │\n",
      "│ WO0000005736 ┆ NARANJAL -   ┆ Zona Centro  ┆ En curso ┆ 2023-10-29   ┆ null        ┆ null        │\n",
      "│ 853          ┆ 191141       ┆              ┆          ┆              ┆             ┆             │\n",
      "│ WO0000005736 ┆ NARANJAL -   ┆ Zona Centro  ┆ En curso ┆ 2023-10-29   ┆ null        ┆ null        │\n",
      "│ 847          ┆ 191141       ┆              ┆          ┆              ┆             ┆             │\n",
      "│ WO0000005736 ┆ NARANJAL -   ┆ Zona Centro  ┆ En curso ┆ 2023-10-29   ┆ null        ┆ null        │\n",
      "│ 845          ┆ 191141       ┆              ┆          ┆              ┆             ┆             │\n",
      "│ WO0000005736 ┆ TARAPACA -   ┆ Zona Centro  ┆ En curso ┆ 2023-10-29   ┆ null        ┆ null        │\n",
      "│ 387          ┆ 191030       ┆              ┆          ┆              ┆             ┆             │\n",
      "└──────────────┴──────────────┴──────────────┴──────────┴──────────────┴─────────────┴─────────────┘\n"
     ]
    }
   ],
   "source": [
    "ruta_actual = './Tickets/Tickets Actual.csv'\n",
    "\n",
    "# Leer y seleccionar\n",
    "df_actual = pl.read_csv(ruta_actual,separator=\"|\")\n",
    "df_actual = df_actual.select(columnas_seleccionadas)\n",
    "\n",
    "print(df_actual)"
   ]
  },
  {
   "cell_type": "code",
   "execution_count": 5,
   "metadata": {},
   "outputs": [
    {
     "name": "stdout",
     "output_type": "stream",
     "text": [
      "shape: (13_050, 7)\n",
      "┌──────────────┬──────────────┬──────────────┬──────────┬──────────────┬─────────────┬─────────────┐\n",
      "│ Numero       ┆ Ubicacion    ┆ Service Desk ┆ Estado   ┆ Fecha        ┆ Fecha       ┆ Fecha       │\n",
      "│ Ticket       ┆ ---          ┆ ---          ┆ ---      ┆ Creacion     ┆ Termino     ┆ Cierre      │\n",
      "│ ---          ┆ str          ┆ str          ┆ str      ┆ ---          ┆ ---         ┆ ---         │\n",
      "│ str          ┆              ┆              ┆          ┆ date         ┆ date        ┆ date        │\n",
      "╞══════════════╪══════════════╪══════════════╪══════════╪══════════════╪═════════════╪═════════════╡\n",
      "│ WO0000004853 ┆ TUPAC AMARU  ┆ Zona Centro  ┆ Cerrado  ┆ 2023-01-02   ┆ 2023-01-10  ┆ 2023-01-13  │\n",
      "│ 311          ┆ - 191038     ┆              ┆          ┆              ┆             ┆             │\n",
      "│ WO0000004852 ┆ SAN JUAN DE  ┆ Zona Centro  ┆ Cerrado  ┆ 2023-01-02   ┆ 2023-01-02  ┆ 2023-01-05  │\n",
      "│ 942          ┆ LURIGANCHO - ┆              ┆          ┆              ┆             ┆             │\n",
      "│              ┆ 191017       ┆              ┆          ┆              ┆             ┆             │\n",
      "│ WO0000004852 ┆ MARIANO      ┆ Zona Norte   ┆ Cerrado  ┆ 2023-01-02   ┆ 2023-01-06  ┆ 2023-01-09  │\n",
      "│ 621          ┆ MELGAR -     ┆              ┆          ┆              ┆             ┆             │\n",
      "│              ┆ 215014       ┆              ┆          ┆              ┆             ┆             │\n",
      "│ SA0000004853 ┆ ANDAHUAYLAS  ┆ Zona Norte   ┆ Cerrado  ┆ 2023-01-02   ┆ 2023-01-07  ┆ 2023-01-10  │\n",
      "│ 328          ┆ - 205000     ┆              ┆          ┆              ┆             ┆             │\n",
      "│ SA0000004853 ┆ COLLIQUE -   ┆ Zona Centro  ┆ Cerrado  ┆ 2023-01-02   ┆ 2023-01-04  ┆ 2023-01-07  │\n",
      "│ 160          ┆ 191065       ┆              ┆          ┆              ┆             ┆             │\n",
      "│ …            ┆ …            ┆ …            ┆ …        ┆ …            ┆ …           ┆ …           │\n",
      "│ WO0000005737 ┆ CANTO GRANDE ┆ Zona Centro  ┆ En curso ┆ 2023-10-29   ┆ null        ┆ null        │\n",
      "│ 139          ┆ - 191096     ┆              ┆          ┆              ┆             ┆             │\n",
      "│ WO0000005736 ┆ NARANJAL -   ┆ Zona Centro  ┆ En curso ┆ 2023-10-29   ┆ null        ┆ null        │\n",
      "│ 853          ┆ 191141       ┆              ┆          ┆              ┆             ┆             │\n",
      "│ WO0000005736 ┆ NARANJAL -   ┆ Zona Centro  ┆ En curso ┆ 2023-10-29   ┆ null        ┆ null        │\n",
      "│ 847          ┆ 191141       ┆              ┆          ┆              ┆             ┆             │\n",
      "│ WO0000005736 ┆ NARANJAL -   ┆ Zona Centro  ┆ En curso ┆ 2023-10-29   ┆ null        ┆ null        │\n",
      "│ 845          ┆ 191141       ┆              ┆          ┆              ┆             ┆             │\n",
      "│ WO0000005736 ┆ TARAPACA -   ┆ Zona Centro  ┆ En curso ┆ 2023-10-29   ┆ null        ┆ null        │\n",
      "│ 387          ┆ 191030       ┆              ┆          ┆              ┆             ┆             │\n",
      "└──────────────┴──────────────┴──────────────┴──────────┴──────────────┴─────────────┴─────────────┘\n"
     ]
    },
    {
     "name": "stderr",
     "output_type": "stream",
     "text": [
      "C:\\Users\\Cruz\\AppData\\Local\\Temp\\ipykernel_25452\\2305387383.py:3: DeprecationWarning: `apply` is deprecated. It has been renamed to `map_elements`.\n",
      "  df_actual = df_actual.with_columns(pl.col(\"Fecha Cierre\").str.split('/').apply(\n",
      "C:\\Users\\Cruz\\AppData\\Local\\Temp\\ipykernel_25452\\2305387383.py:6: DeprecationWarning: `apply` is deprecated. It has been renamed to `map_elements`.\n",
      "  pl.col(\"Fecha Termino\").str.split('/').apply(\n"
     ]
    }
   ],
   "source": [
    "# Convertir las columnas 'str' a date\n",
    "\n",
    "df_actual = df_actual.with_columns(pl.col(\"Fecha Cierre\").str.split('/').apply(\n",
    "        lambda lista: lista[2]+\"-\"+lista[1]+\"-\"+lista[0] if lista is not None else None\n",
    "    ),\n",
    "    pl.col(\"Fecha Termino\").str.split('/').apply(\n",
    "        lambda lista: lista[2]+\"-\"+lista[1]+\"-\"+lista[0] if lista is not None else None\n",
    "    )\n",
    ")\n",
    "df_actual = df_actual.cast({\"Fecha Creacion\":pl.Date, \"Fecha Termino\":pl.Date, \"Fecha Cierre\":pl.Date}, strict=False)\n",
    "\n",
    "print(df_actual)"
   ]
  },
  {
   "cell_type": "code",
   "execution_count": 6,
   "metadata": {},
   "outputs": [
    {
     "name": "stdout",
     "output_type": "stream",
     "text": [
      "shape: (13_050, 7)\n",
      "┌──────────────┬──────────────┬──────────────┬──────────┬──────────────┬─────────────┬─────────────┐\n",
      "│ TicketID     ┆ Ubicacion    ┆ Service Desk ┆ Estado   ┆ Fecha        ┆ Fecha       ┆ Fecha       │\n",
      "│ ---          ┆ ---          ┆ ---          ┆ ---      ┆ Creacion     ┆ Termino     ┆ Cierre      │\n",
      "│ str          ┆ str          ┆ str          ┆ str      ┆ ---          ┆ ---         ┆ ---         │\n",
      "│              ┆              ┆              ┆          ┆ date         ┆ date        ┆ date        │\n",
      "╞══════════════╪══════════════╪══════════════╪══════════╪══════════════╪═════════════╪═════════════╡\n",
      "│ WO0000004853 ┆ TUPAC AMARU  ┆ Zona Centro  ┆ Cerrado  ┆ 2023-01-02   ┆ 2023-01-10  ┆ 2023-01-13  │\n",
      "│ 311          ┆ - 191038     ┆              ┆          ┆              ┆             ┆             │\n",
      "│ WO0000004852 ┆ SAN JUAN DE  ┆ Zona Centro  ┆ Cerrado  ┆ 2023-01-02   ┆ 2023-01-02  ┆ 2023-01-05  │\n",
      "│ 942          ┆ LURIGANCHO - ┆              ┆          ┆              ┆             ┆             │\n",
      "│              ┆ 191017       ┆              ┆          ┆              ┆             ┆             │\n",
      "│ WO0000004852 ┆ MARIANO      ┆ Zona Norte   ┆ Cerrado  ┆ 2023-01-02   ┆ 2023-01-06  ┆ 2023-01-09  │\n",
      "│ 621          ┆ MELGAR -     ┆              ┆          ┆              ┆             ┆             │\n",
      "│              ┆ 215014       ┆              ┆          ┆              ┆             ┆             │\n",
      "│ SA0000004853 ┆ ANDAHUAYLAS  ┆ Zona Norte   ┆ Cerrado  ┆ 2023-01-02   ┆ 2023-01-07  ┆ 2023-01-10  │\n",
      "│ 328          ┆ - 205000     ┆              ┆          ┆              ┆             ┆             │\n",
      "│ SA0000004853 ┆ COLLIQUE -   ┆ Zona Centro  ┆ Cerrado  ┆ 2023-01-02   ┆ 2023-01-04  ┆ 2023-01-07  │\n",
      "│ 160          ┆ 191065       ┆              ┆          ┆              ┆             ┆             │\n",
      "│ …            ┆ …            ┆ …            ┆ …        ┆ …            ┆ …           ┆ …           │\n",
      "│ WO0000005737 ┆ CANTO GRANDE ┆ Zona Centro  ┆ En curso ┆ 2023-10-29   ┆ null        ┆ null        │\n",
      "│ 139          ┆ - 191096     ┆              ┆          ┆              ┆             ┆             │\n",
      "│ WO0000005736 ┆ NARANJAL -   ┆ Zona Centro  ┆ En curso ┆ 2023-10-29   ┆ null        ┆ null        │\n",
      "│ 853          ┆ 191141       ┆              ┆          ┆              ┆             ┆             │\n",
      "│ WO0000005736 ┆ NARANJAL -   ┆ Zona Centro  ┆ En curso ┆ 2023-10-29   ┆ null        ┆ null        │\n",
      "│ 847          ┆ 191141       ┆              ┆          ┆              ┆             ┆             │\n",
      "│ WO0000005736 ┆ NARANJAL -   ┆ Zona Centro  ┆ En curso ┆ 2023-10-29   ┆ null        ┆ null        │\n",
      "│ 845          ┆ 191141       ┆              ┆          ┆              ┆             ┆             │\n",
      "│ WO0000005736 ┆ TARAPACA -   ┆ Zona Centro  ┆ En curso ┆ 2023-10-29   ┆ null        ┆ null        │\n",
      "│ 387          ┆ 191030       ┆              ┆          ┆              ┆             ┆             │\n",
      "└──────────────┴──────────────┴──────────────┴──────────┴──────────────┴─────────────┴─────────────┘\n"
     ]
    }
   ],
   "source": [
    "# Renombrar columnas\n",
    "df_actual = df_actual.select(\n",
    "    pl.col(\"Numero Ticket\").alias(\"TicketID\"), *df_actual.drop(\"Numero Ticket\")\n",
    ")\n",
    "\n",
    "print(df_actual)"
   ]
  },
  {
   "cell_type": "code",
   "execution_count": 7,
   "metadata": {},
   "outputs": [
    {
     "name": "stdout",
     "output_type": "stream",
     "text": [
      "shape: (13_022, 7)\n",
      "┌──────────────┬──────────────┬──────────────┬──────────┬──────────────┬─────────────┬─────────────┐\n",
      "│ TicketID     ┆ Ubicacion    ┆ Service Desk ┆ Estado   ┆ Fecha        ┆ Fecha       ┆ Fecha       │\n",
      "│ ---          ┆ ---          ┆ ---          ┆ ---      ┆ Creacion     ┆ Termino     ┆ Cierre      │\n",
      "│ str          ┆ str          ┆ str          ┆ str      ┆ ---          ┆ ---         ┆ ---         │\n",
      "│              ┆              ┆              ┆          ┆ date         ┆ date        ┆ date        │\n",
      "╞══════════════╪══════════════╪══════════════╪══════════╪══════════════╪═════════════╪═════════════╡\n",
      "│ WO0000004853 ┆ TUPAC AMARU  ┆ Zona Centro  ┆ Cerrado  ┆ 2023-01-02   ┆ 2023-01-10  ┆ 2023-01-13  │\n",
      "│ 311          ┆ - 191038     ┆              ┆          ┆              ┆             ┆             │\n",
      "│ WO0000004852 ┆ SAN JUAN DE  ┆ Zona Centro  ┆ Cerrado  ┆ 2023-01-02   ┆ 2023-01-02  ┆ 2023-01-05  │\n",
      "│ 942          ┆ LURIGANCHO - ┆              ┆          ┆              ┆             ┆             │\n",
      "│              ┆ 191017       ┆              ┆          ┆              ┆             ┆             │\n",
      "│ WO0000004852 ┆ MARIANO      ┆ Zona Norte   ┆ Cerrado  ┆ 2023-01-02   ┆ 2023-01-06  ┆ 2023-01-09  │\n",
      "│ 621          ┆ MELGAR -     ┆              ┆          ┆              ┆             ┆             │\n",
      "│              ┆ 215014       ┆              ┆          ┆              ┆             ┆             │\n",
      "│ WO0000004853 ┆ ANDAHUAYLAS  ┆ Zona Norte   ┆ Cerrado  ┆ 2023-01-02   ┆ 2023-01-07  ┆ 2023-01-10  │\n",
      "│ 328          ┆ - 205000     ┆              ┆          ┆              ┆             ┆             │\n",
      "│ WO0000004853 ┆ COLLIQUE -   ┆ Zona Centro  ┆ Cerrado  ┆ 2023-01-02   ┆ 2023-01-04  ┆ 2023-01-07  │\n",
      "│ 160          ┆ 191065       ┆              ┆          ┆              ┆             ┆             │\n",
      "│ …            ┆ …            ┆ …            ┆ …        ┆ …            ┆ …           ┆ …           │\n",
      "│ WO0000005737 ┆ CANTO GRANDE ┆ Zona Centro  ┆ En curso ┆ 2023-10-29   ┆ null        ┆ null        │\n",
      "│ 139          ┆ - 191096     ┆              ┆          ┆              ┆             ┆             │\n",
      "│ WO0000005736 ┆ NARANJAL -   ┆ Zona Centro  ┆ En curso ┆ 2023-10-29   ┆ null        ┆ null        │\n",
      "│ 853          ┆ 191141       ┆              ┆          ┆              ┆             ┆             │\n",
      "│ WO0000005736 ┆ NARANJAL -   ┆ Zona Centro  ┆ En curso ┆ 2023-10-29   ┆ null        ┆ null        │\n",
      "│ 847          ┆ 191141       ┆              ┆          ┆              ┆             ┆             │\n",
      "│ WO0000005736 ┆ NARANJAL -   ┆ Zona Centro  ┆ En curso ┆ 2023-10-29   ┆ null        ┆ null        │\n",
      "│ 845          ┆ 191141       ┆              ┆          ┆              ┆             ┆             │\n",
      "│ WO0000005736 ┆ TARAPACA -   ┆ Zona Centro  ┆ En curso ┆ 2023-10-29   ┆ null        ┆ null        │\n",
      "│ 387          ┆ 191030       ┆              ┆          ┆              ┆             ┆             │\n",
      "└──────────────┴──────────────┴──────────────┴──────────┴──────────────┴─────────────┴─────────────┘\n"
     ]
    }
   ],
   "source": [
    "# Filtrar \n",
    "df_actual= df_actual.filter(pl.col(\"TicketID\").str.slice(0, 2)==\"WO\")\n",
    "print(df_actual)"
   ]
  },
  {
   "cell_type": "code",
   "execution_count": 8,
   "metadata": {},
   "outputs": [
    {
     "data": {
      "text/html": [
       "<div><style>\n",
       ".dataframe > thead > tr,\n",
       ".dataframe > tbody > tr {\n",
       "  text-align: right;\n",
       "  white-space: pre-wrap;\n",
       "}\n",
       "</style>\n",
       "<small>shape: (22_228, 7)</small><table border=\"1\" class=\"dataframe\"><thead><tr><th>TicketID</th><th>Ubicacion</th><th>Service Desk</th><th>Estado</th><th>Fecha Creacion</th><th>Fecha Termino</th><th>Fecha Cierre</th></tr><tr><td>str</td><td>str</td><td>str</td><td>str</td><td>date</td><td>date</td><td>date</td></tr></thead><tbody><tr><td>&quot;WO000000412268…</td><td>&quot;AREQUIPA - 215…</td><td>&quot;Zona Norte&quot;</td><td>&quot;Cerrado&quot;</td><td>2022-06-01</td><td>2022-06-14</td><td>2022-06-14</td></tr><tr><td>&quot;WO000000412264…</td><td>&quot;METRO AV. WIES…</td><td>&quot;Zona Centro&quot;</td><td>&quot;Cerrado&quot;</td><td>2022-06-01</td><td>2022-06-17</td><td>2022-06-17</td></tr><tr><td>&quot;WO000000412250…</td><td>&quot;NICOLAS AYLLON…</td><td>&quot;Zona Centro&quot;</td><td>&quot;Cerrado&quot;</td><td>2022-06-01</td><td>2022-06-08</td><td>2022-06-08</td></tr><tr><td>&quot;WO000000412251…</td><td>&quot;JAUREGUI - 405…</td><td>&quot;Zona Norte&quot;</td><td>&quot;Cerrado&quot;</td><td>2022-06-01</td><td>2022-06-18</td><td>2022-06-18</td></tr><tr><td>&quot;WO000000412274…</td><td>&quot;CANTO GRANDE -…</td><td>&quot;Zona Centro&quot;</td><td>&quot;Cerrado&quot;</td><td>2022-06-01</td><td>2022-06-08</td><td>2022-06-08</td></tr><tr><td>&quot;WO000000412251…</td><td>&quot;CHIMPU OCLLO -…</td><td>&quot;Zona Centro&quot;</td><td>&quot;Cerrado&quot;</td><td>2022-06-01</td><td>2022-06-03</td><td>2022-06-03</td></tr><tr><td>&quot;WO000000412252…</td><td>&quot;MINI AGENCIA B…</td><td>&quot;Zona Centro&quot;</td><td>&quot;Cerrado&quot;</td><td>2022-06-01</td><td>2022-06-07</td><td>2022-06-07</td></tr><tr><td>&quot;WO000000412230…</td><td>&quot;IMPERIAL - 255…</td><td>&quot;Zona Norte&quot;</td><td>&quot;Cerrado&quot;</td><td>2022-06-01</td><td>2022-06-10</td><td>2022-06-10</td></tr><tr><td>&quot;WO000000412236…</td><td>&quot;AREQUIPA - 215…</td><td>&quot;Zona Norte&quot;</td><td>&quot;Cerrado&quot;</td><td>2022-06-01</td><td>2022-06-13</td><td>2022-06-13</td></tr><tr><td>&quot;WO000000412268…</td><td>&quot;AREQUIPA - 215…</td><td>&quot;Zona Norte&quot;</td><td>&quot;Cerrado&quot;</td><td>2022-06-01</td><td>2022-06-17</td><td>2022-06-17</td></tr><tr><td>&quot;WO000000412230…</td><td>&quot;IMPERIAL - 255…</td><td>&quot;Zona Norte&quot;</td><td>&quot;Cerrado&quot;</td><td>2022-06-01</td><td>2022-06-17</td><td>2022-06-17</td></tr><tr><td>&quot;WO000000412272…</td><td>&quot;LA SALLE - 191…</td><td>&quot;Zona Centro&quot;</td><td>&quot;Cerrado&quot;</td><td>2022-06-01</td><td>2022-06-07</td><td>2022-06-07</td></tr><tr><td>&hellip;</td><td>&hellip;</td><td>&hellip;</td><td>&hellip;</td><td>&hellip;</td><td>&hellip;</td><td>&hellip;</td></tr><tr><td>&quot;WO000000573713…</td><td>&quot;VENEZUELA - 19…</td><td>&quot;Zona Sur&quot;</td><td>&quot;En curso&quot;</td><td>2023-10-29</td><td>null</td><td>null</td></tr><tr><td>&quot;WO000000573686…</td><td>&quot;PLAZA SAN MART…</td><td>&quot;Zona Sur&quot;</td><td>&quot;En curso&quot;</td><td>2023-10-29</td><td>null</td><td>null</td></tr><tr><td>&quot;WO000000573683…</td><td>&quot;ICA - 380000&quot;</td><td>&quot;Zona Sur&quot;</td><td>&quot;En curso&quot;</td><td>2023-10-29</td><td>null</td><td>null</td></tr><tr><td>&quot;WO000000573782…</td><td>&quot;EDUARDO DE HAB…</td><td>&quot;Zona Centro&quot;</td><td>&quot;En curso&quot;</td><td>2023-10-29</td><td>null</td><td>null</td></tr><tr><td>&quot;WO000000573782…</td><td>&quot;EDUARDO DE HAB…</td><td>&quot;Zona Centro&quot;</td><td>&quot;En curso&quot;</td><td>2023-10-29</td><td>null</td><td>null</td></tr><tr><td>&quot;WO000000573782…</td><td>&quot;EDUARDO DE HAB…</td><td>&quot;Zona Centro&quot;</td><td>&quot;En curso&quot;</td><td>2023-10-29</td><td>null</td><td>null</td></tr><tr><td>&quot;WO000000573685…</td><td>&quot;NARANJAL - 191…</td><td>&quot;Zona Centro&quot;</td><td>&quot;En curso&quot;</td><td>2023-10-29</td><td>null</td><td>null</td></tr><tr><td>&quot;WO000000573713…</td><td>&quot;CANTO GRANDE -…</td><td>&quot;Zona Centro&quot;</td><td>&quot;En curso&quot;</td><td>2023-10-29</td><td>null</td><td>null</td></tr><tr><td>&quot;WO000000573685…</td><td>&quot;NARANJAL - 191…</td><td>&quot;Zona Centro&quot;</td><td>&quot;En curso&quot;</td><td>2023-10-29</td><td>null</td><td>null</td></tr><tr><td>&quot;WO000000573684…</td><td>&quot;NARANJAL - 191…</td><td>&quot;Zona Centro&quot;</td><td>&quot;En curso&quot;</td><td>2023-10-29</td><td>null</td><td>null</td></tr><tr><td>&quot;WO000000573684…</td><td>&quot;NARANJAL - 191…</td><td>&quot;Zona Centro&quot;</td><td>&quot;En curso&quot;</td><td>2023-10-29</td><td>null</td><td>null</td></tr><tr><td>&quot;WO000000573638…</td><td>&quot;TARAPACA - 191…</td><td>&quot;Zona Centro&quot;</td><td>&quot;En curso&quot;</td><td>2023-10-29</td><td>null</td><td>null</td></tr></tbody></table></div>"
      ],
      "text/plain": [
       "shape: (22_228, 7)\n",
       "┌──────────────┬──────────────┬──────────────┬──────────┬──────────────┬─────────────┬─────────────┐\n",
       "│ TicketID     ┆ Ubicacion    ┆ Service Desk ┆ Estado   ┆ Fecha        ┆ Fecha       ┆ Fecha       │\n",
       "│ ---          ┆ ---          ┆ ---          ┆ ---      ┆ Creacion     ┆ Termino     ┆ Cierre      │\n",
       "│ str          ┆ str          ┆ str          ┆ str      ┆ ---          ┆ ---         ┆ ---         │\n",
       "│              ┆              ┆              ┆          ┆ date         ┆ date        ┆ date        │\n",
       "╞══════════════╪══════════════╪══════════════╪══════════╪══════════════╪═════════════╪═════════════╡\n",
       "│ WO0000004122 ┆ AREQUIPA -   ┆ Zona Norte   ┆ Cerrado  ┆ 2022-06-01   ┆ 2022-06-14  ┆ 2022-06-14  │\n",
       "│ 687          ┆ 215000       ┆              ┆          ┆              ┆             ┆             │\n",
       "│ WO0000004122 ┆ METRO AV.    ┆ Zona Centro  ┆ Cerrado  ┆ 2022-06-01   ┆ 2022-06-17  ┆ 2022-06-17  │\n",
       "│ 649          ┆ WIESSE -     ┆              ┆          ┆              ┆             ┆             │\n",
       "│              ┆ 191106       ┆              ┆          ┆              ┆             ┆             │\n",
       "│ WO0000004122 ┆ NICOLAS      ┆ Zona Centro  ┆ Cerrado  ┆ 2022-06-01   ┆ 2022-06-08  ┆ 2022-06-08  │\n",
       "│ 502          ┆ AYLLON -     ┆              ┆          ┆              ┆             ┆             │\n",
       "│              ┆ 191027       ┆              ┆          ┆              ┆             ┆             │\n",
       "│ WO0000004122 ┆ JAUREGUI -   ┆ Zona Norte   ┆ Cerrado  ┆ 2022-06-01   ┆ 2022-06-18  ┆ 2022-06-18  │\n",
       "│ 513          ┆ 405005       ┆              ┆          ┆              ┆             ┆             │\n",
       "│ WO0000004122 ┆ CANTO GRANDE ┆ Zona Centro  ┆ Cerrado  ┆ 2022-06-01   ┆ 2022-06-08  ┆ 2022-06-08  │\n",
       "│ 741          ┆ - 191096     ┆              ┆          ┆              ┆             ┆             │\n",
       "│ …            ┆ …            ┆ …            ┆ …        ┆ …            ┆ …           ┆ …           │\n",
       "│ WO0000005737 ┆ CANTO GRANDE ┆ Zona Centro  ┆ En curso ┆ 2023-10-29   ┆ null        ┆ null        │\n",
       "│ 139          ┆ - 191096     ┆              ┆          ┆              ┆             ┆             │\n",
       "│ WO0000005736 ┆ NARANJAL -   ┆ Zona Centro  ┆ En curso ┆ 2023-10-29   ┆ null        ┆ null        │\n",
       "│ 853          ┆ 191141       ┆              ┆          ┆              ┆             ┆             │\n",
       "│ WO0000005736 ┆ NARANJAL -   ┆ Zona Centro  ┆ En curso ┆ 2023-10-29   ┆ null        ┆ null        │\n",
       "│ 847          ┆ 191141       ┆              ┆          ┆              ┆             ┆             │\n",
       "│ WO0000005736 ┆ NARANJAL -   ┆ Zona Centro  ┆ En curso ┆ 2023-10-29   ┆ null        ┆ null        │\n",
       "│ 845          ┆ 191141       ┆              ┆          ┆              ┆             ┆             │\n",
       "│ WO0000005736 ┆ TARAPACA -   ┆ Zona Centro  ┆ En curso ┆ 2023-10-29   ┆ null        ┆ null        │\n",
       "│ 387          ┆ 191030       ┆              ┆          ┆              ┆             ┆             │\n",
       "└──────────────┴──────────────┴──────────────┴──────────┴──────────────┴─────────────┴─────────────┘"
      ]
     },
     "execution_count": 8,
     "metadata": {},
     "output_type": "execute_result"
    }
   ],
   "source": [
    "# Unir y/o concatenar lasdos bases\n",
    "df_tickets = pl.concat([df_historico, df_actual])\n",
    "df_tickets"
   ]
  },
  {
   "cell_type": "code",
   "execution_count": 9,
   "metadata": {},
   "outputs": [
    {
     "data": {
      "text/html": [
       "<div><style>\n",
       ".dataframe > thead > tr,\n",
       ".dataframe > tbody > tr {\n",
       "  text-align: right;\n",
       "  white-space: pre-wrap;\n",
       "}\n",
       "</style>\n",
       "<small>shape: (22_215, 7)</small><table border=\"1\" class=\"dataframe\"><thead><tr><th>TicketID</th><th>Ubicacion</th><th>Service Desk</th><th>Estado</th><th>Fecha Creacion</th><th>Fecha Termino</th><th>Fecha Cierre</th></tr><tr><td>str</td><td>str</td><td>str</td><td>str</td><td>date</td><td>date</td><td>date</td></tr></thead><tbody><tr><td>&quot;WO000000412250…</td><td>&quot;NICOLAS AYLLON…</td><td>&quot;Zona Centro&quot;</td><td>&quot;Cerrado&quot;</td><td>2022-06-01</td><td>2022-06-08</td><td>2022-06-08</td></tr><tr><td>&quot;WO000000412573…</td><td>&quot;MALL AVENTURA …</td><td>&quot;Zona Norte&quot;</td><td>&quot;Cerrado&quot;</td><td>2022-06-03</td><td>2022-06-06</td><td>2022-06-06</td></tr><tr><td>&quot;WO000000412692…</td><td>&quot;DEL AIRE - 193…</td><td>&quot;Zona Centro&quot;</td><td>&quot;Cerrado&quot;</td><td>2022-06-03</td><td>2022-06-10</td><td>2022-06-10</td></tr><tr><td>&quot;WO000000412465…</td><td>&quot;PLAZA CIVICA V…</td><td>&quot;Zona Centro&quot;</td><td>&quot;Cerrado&quot;</td><td>2022-06-03</td><td>2022-06-12</td><td>2022-06-12</td></tr><tr><td>&quot;WO000000412687…</td><td>&quot;AGUAS CALIENTE…</td><td>&quot;Zona Norte&quot;</td><td>&quot;Cerrado&quot;</td><td>2022-06-03</td><td>2022-06-21</td><td>2022-06-21</td></tr><tr><td>&quot;WO000000412579…</td><td>&quot;AREQUIPA - 215…</td><td>&quot;Zona Norte&quot;</td><td>&quot;Cerrado&quot;</td><td>2022-06-03</td><td>2022-06-14</td><td>2022-06-14</td></tr><tr><td>&quot;WO000000412422…</td><td>&quot;MONEY AND TOUR…</td><td>&quot;Zona Norte&quot;</td><td>&quot;Cerrado&quot;</td><td>2022-06-03</td><td>2022-06-12</td><td>2022-06-12</td></tr><tr><td>&quot;WO000000412514…</td><td>&quot;MINI AGENCIA B…</td><td>&quot;Zona Centro&quot;</td><td>&quot;Rechazado&quot;</td><td>2022-06-03</td><td>2022-06-06</td><td>null</td></tr><tr><td>&quot;WO000000412566…</td><td>&quot;LAS VIÑAS - 19…</td><td>&quot;Zona Centro&quot;</td><td>&quot;Rechazado&quot;</td><td>2022-06-03</td><td>2022-06-12</td><td>null</td></tr><tr><td>&quot;WO000000412555…</td><td>&quot;MALA - 255002&quot;</td><td>&quot;Zona Norte&quot;</td><td>&quot;Cerrado&quot;</td><td>2022-06-03</td><td>2022-06-15</td><td>2022-06-15</td></tr><tr><td>&quot;WO000000412462…</td><td>&quot;CHACLACAYO - 1…</td><td>&quot;Zona Centro&quot;</td><td>&quot;Cerrado&quot;</td><td>2022-06-03</td><td>2022-06-11</td><td>2022-06-11</td></tr><tr><td>&quot;WO000000412491…</td><td>&quot;MONEY AND TOUR…</td><td>&quot;Zona Norte&quot;</td><td>&quot;Cerrado&quot;</td><td>2022-06-03</td><td>2022-06-12</td><td>2022-06-12</td></tr><tr><td>&hellip;</td><td>&hellip;</td><td>&hellip;</td><td>&hellip;</td><td>&hellip;</td><td>&hellip;</td><td>&hellip;</td></tr><tr><td>&quot;WO000000573603…</td><td>&quot;JULIACA - 4050…</td><td>&quot;Zona Norte&quot;</td><td>&quot;En curso&quot;</td><td>2023-10-28</td><td>null</td><td>null</td></tr><tr><td>&quot;WO000000573602…</td><td>&quot;ZARATE - 19109…</td><td>&quot;Zona Centro&quot;</td><td>&quot;En curso&quot;</td><td>2023-10-28</td><td>null</td><td>null</td></tr><tr><td>&quot;WO000000573526…</td><td>&quot;DIAGONAL - 285…</td><td>&quot;Zona Norte&quot;</td><td>&quot;Terminado&quot;</td><td>2023-10-28</td><td>2023-10-28</td><td>2023-10-28</td></tr><tr><td>&quot;WO000000573377…</td><td>&quot;MEGA PLAZA - 1…</td><td>&quot;Zona Centro&quot;</td><td>&quot;Terminado&quot;</td><td>2023-10-28</td><td>2023-10-29</td><td>2023-10-29</td></tr><tr><td>&quot;WO000000573561…</td><td>&quot;SICUANI - 5330…</td><td>&quot;Zona Norte&quot;</td><td>&quot;En curso&quot;</td><td>2023-10-28</td><td>null</td><td>null</td></tr><tr><td>&quot;WO000000573756…</td><td>&quot;CHACLACAYO - 1…</td><td>&quot;Zona Sur&quot;</td><td>&quot;En curso&quot;</td><td>2023-10-29</td><td>null</td><td>null</td></tr><tr><td>&quot;WO000000573872…</td><td>&quot;PISCO - 470000…</td><td>&quot;Zona Sur&quot;</td><td>&quot;En curso&quot;</td><td>2023-10-29</td><td>null</td><td>null</td></tr><tr><td>&quot;WO000000573716…</td><td>&quot;VENEZUELA - 19…</td><td>&quot;Zona Sur&quot;</td><td>&quot;En curso&quot;</td><td>2023-10-29</td><td>null</td><td>null</td></tr><tr><td>&quot;WO000000573872…</td><td>&quot;NACIONES UNIDA…</td><td>&quot;Zona Centro&quot;</td><td>&quot;En curso&quot;</td><td>2023-10-29</td><td>null</td><td>null</td></tr><tr><td>&quot;WO000000573711…</td><td>&quot;MESA REDONDA -…</td><td>&quot;Zona Sur&quot;</td><td>&quot;En curso&quot;</td><td>2023-10-29</td><td>null</td><td>null</td></tr><tr><td>&quot;WO000000573782…</td><td>&quot;EDUARDO DE HAB…</td><td>&quot;Zona Centro&quot;</td><td>&quot;En curso&quot;</td><td>2023-10-29</td><td>null</td><td>null</td></tr><tr><td>&quot;WO000000573684…</td><td>&quot;NARANJAL - 191…</td><td>&quot;Zona Centro&quot;</td><td>&quot;En curso&quot;</td><td>2023-10-29</td><td>null</td><td>null</td></tr></tbody></table></div>"
      ],
      "text/plain": [
       "shape: (22_215, 7)\n",
       "┌──────────────┬──────────────┬──────────────┬──────────┬──────────────┬─────────────┬─────────────┐\n",
       "│ TicketID     ┆ Ubicacion    ┆ Service Desk ┆ Estado   ┆ Fecha        ┆ Fecha       ┆ Fecha       │\n",
       "│ ---          ┆ ---          ┆ ---          ┆ ---      ┆ Creacion     ┆ Termino     ┆ Cierre      │\n",
       "│ str          ┆ str          ┆ str          ┆ str      ┆ ---          ┆ ---         ┆ ---         │\n",
       "│              ┆              ┆              ┆          ┆ date         ┆ date        ┆ date        │\n",
       "╞══════════════╪══════════════╪══════════════╪══════════╪══════════════╪═════════════╪═════════════╡\n",
       "│ WO0000004122 ┆ NICOLAS      ┆ Zona Centro  ┆ Cerrado  ┆ 2022-06-01   ┆ 2022-06-08  ┆ 2022-06-08  │\n",
       "│ 502          ┆ AYLLON -     ┆              ┆          ┆              ┆             ┆             │\n",
       "│              ┆ 191027       ┆              ┆          ┆              ┆             ┆             │\n",
       "│ WO0000004125 ┆ MALL         ┆ Zona Norte   ┆ Cerrado  ┆ 2022-06-03   ┆ 2022-06-06  ┆ 2022-06-06  │\n",
       "│ 730          ┆ AVENTURA     ┆              ┆          ┆              ┆             ┆             │\n",
       "│              ┆ PLAZA        ┆              ┆          ┆              ┆             ┆             │\n",
       "│              ┆ AREQUIPA -   ┆              ┆          ┆              ┆             ┆             │\n",
       "│              ┆ 2…           ┆              ┆          ┆              ┆             ┆             │\n",
       "│ WO0000004126 ┆ DEL AIRE -   ┆ Zona Centro  ┆ Cerrado  ┆ 2022-06-03   ┆ 2022-06-10  ┆ 2022-06-10  │\n",
       "│ 922          ┆ 193064       ┆              ┆          ┆              ┆             ┆             │\n",
       "│ WO0000004124 ┆ PLAZA CIVICA ┆ Zona Centro  ┆ Cerrado  ┆ 2022-06-03   ┆ 2022-06-12  ┆ 2022-06-12  │\n",
       "│ 657          ┆ VENTANILLA - ┆              ┆          ┆              ┆             ┆             │\n",
       "│              ┆ 192026       ┆              ┆          ┆              ┆             ┆             │\n",
       "│ WO0000004126 ┆ AGUAS        ┆ Zona Norte   ┆ Cerrado  ┆ 2022-06-03   ┆ 2022-06-21  ┆ 2022-06-21  │\n",
       "│ 874          ┆ CALIENTES -  ┆              ┆          ┆              ┆             ┆             │\n",
       "│              ┆ 285004       ┆              ┆          ┆              ┆             ┆             │\n",
       "│ …            ┆ …            ┆ …            ┆ …        ┆ …            ┆ …           ┆ …           │\n",
       "│ WO0000005737 ┆ VENEZUELA -  ┆ Zona Sur     ┆ En curso ┆ 2023-10-29   ┆ null        ┆ null        │\n",
       "│ 163          ┆ 191026       ┆              ┆          ┆              ┆             ┆             │\n",
       "│ WO0000005738 ┆ NACIONES     ┆ Zona Centro  ┆ En curso ┆ 2023-10-29   ┆ null        ┆ null        │\n",
       "│ 726          ┆ UNIDAS -     ┆              ┆          ┆              ┆             ┆             │\n",
       "│              ┆ 191084       ┆              ┆          ┆              ┆             ┆             │\n",
       "│ WO0000005737 ┆ MESA REDONDA ┆ Zona Sur     ┆ En curso ┆ 2023-10-29   ┆ null        ┆ null        │\n",
       "│ 119          ┆ - 191069     ┆              ┆          ┆              ┆             ┆             │\n",
       "│ WO0000005737 ┆ EDUARDO DE   ┆ Zona Centro  ┆ En curso ┆ 2023-10-29   ┆ null        ┆ null        │\n",
       "│ 829          ┆ HABICH -     ┆              ┆          ┆              ┆             ┆             │\n",
       "│              ┆ 191023       ┆              ┆          ┆              ┆             ┆             │\n",
       "│ WO0000005736 ┆ NARANJAL -   ┆ Zona Centro  ┆ En curso ┆ 2023-10-29   ┆ null        ┆ null        │\n",
       "│ 847          ┆ 191141       ┆              ┆          ┆              ┆             ┆             │\n",
       "└──────────────┴──────────────┴──────────────┴──────────┴──────────────┴─────────────┴─────────────┘"
      ]
     },
     "execution_count": 9,
     "metadata": {},
     "output_type": "execute_result"
    }
   ],
   "source": [
    "# Eliminar duplicados\n",
    "df_tickets= df_tickets.group_by(\"*\").agg(pl.col(\"*\").unique())\n",
    "df_tickets"
   ]
  },
  {
   "cell_type": "code",
   "execution_count": 10,
   "metadata": {},
   "outputs": [
    {
     "data": {
      "text/html": [
       "<div><style>\n",
       ".dataframe > thead > tr,\n",
       ".dataframe > tbody > tr {\n",
       "  text-align: right;\n",
       "  white-space: pre-wrap;\n",
       "}\n",
       "</style>\n",
       "<small>shape: (22_215, 2)</small><table border=\"1\" class=\"dataframe\"><thead><tr><th>TicketID</th><th>Fecha Creacion</th></tr><tr><td>str</td><td>date</td></tr></thead><tbody><tr><td>&quot;WO000000487022…</td><td>2023-01-07</td></tr><tr><td>&quot;WO000000552951…</td><td>2023-08-24</td></tr><tr><td>&quot;WO000000558272…</td><td>2023-09-08</td></tr><tr><td>&quot;WO000000543762…</td><td>2023-07-24</td></tr><tr><td>&quot;WO000000503018…</td><td>2023-02-27</td></tr><tr><td>&quot;WO000000514626…</td><td>2023-04-13</td></tr><tr><td>&quot;WO000000560473…</td><td>2023-09-15</td></tr><tr><td>&quot;WO000000438468…</td><td>2022-08-29</td></tr><tr><td>&quot;WO000000439658…</td><td>2022-09-03</td></tr><tr><td>&quot;WO000000508393…</td><td>2023-03-13</td></tr><tr><td>&quot;WO000000573683…</td><td>2023-10-29</td></tr><tr><td>&quot;WO000000443001…</td><td>2022-09-12</td></tr><tr><td>&hellip;</td><td>&hellip;</td></tr><tr><td>&quot;WO000000472804…</td><td>2022-11-15</td></tr><tr><td>&quot;WO000000483697…</td><td>2022-12-26</td></tr><tr><td>&quot;WO000000485710…</td><td>2023-01-03</td></tr><tr><td>&quot;WO000000490614…</td><td>2023-01-17</td></tr><tr><td>&quot;WO000000491338…</td><td>2023-01-21</td></tr><tr><td>&quot;WO000000542814…</td><td>2023-07-21</td></tr><tr><td>&quot;WO000000544258…</td><td>2023-07-27</td></tr><tr><td>&quot;WO000000515669…</td><td>2023-04-16</td></tr><tr><td>&quot;WO000000425656…</td><td>2022-07-15</td></tr><tr><td>&quot;WO000000415674…</td><td>2022-06-12</td></tr><tr><td>&quot;WO000000510054…</td><td>2023-03-23</td></tr><tr><td>&quot;WO000000559448…</td><td>2023-09-11</td></tr></tbody></table></div>"
      ],
      "text/plain": [
       "shape: (22_215, 2)\n",
       "┌─────────────────┬────────────────┐\n",
       "│ TicketID        ┆ Fecha Creacion │\n",
       "│ ---             ┆ ---            │\n",
       "│ str             ┆ date           │\n",
       "╞═════════════════╪════════════════╡\n",
       "│ WO0000004870223 ┆ 2023-01-07     │\n",
       "│ WO0000005529519 ┆ 2023-08-24     │\n",
       "│ WO0000005582722 ┆ 2023-09-08     │\n",
       "│ WO0000005437623 ┆ 2023-07-24     │\n",
       "│ WO0000005030180 ┆ 2023-02-27     │\n",
       "│ …               ┆ …              │\n",
       "│ WO0000005156693 ┆ 2023-04-16     │\n",
       "│ WO0000004256566 ┆ 2022-07-15     │\n",
       "│ WO0000004156740 ┆ 2022-06-12     │\n",
       "│ WO0000005100548 ┆ 2023-03-23     │\n",
       "│ WO0000005594485 ┆ 2023-09-11     │\n",
       "└─────────────────┴────────────────┘"
      ]
     },
     "execution_count": 10,
     "metadata": {},
     "output_type": "execute_result"
    }
   ],
   "source": [
    "# Quitar duplicados por condicional\n",
    "df_tickets=df_tickets.sort(\"Fecha Creacion\", descending = False)\n",
    "df_tickets_sin_duplicados_condiconal= df_tickets.group_by(\"TicketID\").agg(pl.col(\"Fecha Creacion\").last())\n",
    "df_tickets_sin_duplicados_condiconal"
   ]
  },
  {
   "cell_type": "code",
   "execution_count": 11,
   "metadata": {},
   "outputs": [
    {
     "data": {
      "text/html": [
       "<div><style>\n",
       ".dataframe > thead > tr,\n",
       ".dataframe > tbody > tr {\n",
       "  text-align: right;\n",
       "  white-space: pre-wrap;\n",
       "}\n",
       "</style>\n",
       "<small>shape: (22_215, 7)</small><table border=\"1\" class=\"dataframe\"><thead><tr><th>TicketID</th><th>Ubicacion</th><th>Service Desk</th><th>Estado</th><th>Fecha Creacion</th><th>Fecha Termino</th><th>Fecha Cierre</th></tr><tr><td>str</td><td>str</td><td>str</td><td>str</td><td>date</td><td>date</td><td>date</td></tr></thead><tbody><tr><td>&quot;WO000000487022…</td><td>&quot;SAN MARTIN DE …</td><td>&quot;Zona Centro&quot;</td><td>&quot;Cerrado&quot;</td><td>2023-01-07</td><td>2023-02-01</td><td>2023-02-04</td></tr><tr><td>&quot;WO000000552951…</td><td>&quot;PRO - 191029&quot;</td><td>&quot;Zona Centro&quot;</td><td>&quot;Cerrado&quot;</td><td>2023-08-24</td><td>2023-08-27</td><td>2023-08-30</td></tr><tr><td>&quot;WO000000558272…</td><td>&quot;EL SOL - 19108…</td><td>&quot;Zona Centro&quot;</td><td>&quot;Cerrado&quot;</td><td>2023-09-08</td><td>2023-09-15</td><td>2023-09-18</td></tr><tr><td>&quot;WO000000543762…</td><td>&quot;SANTA ANITA - …</td><td>&quot;Zona Sur&quot;</td><td>&quot;Cerrado&quot;</td><td>2023-07-24</td><td>2023-08-03</td><td>2023-08-06</td></tr><tr><td>&quot;WO000000503018…</td><td>&quot;SAN JUAN DE LU…</td><td>&quot;Zona Centro&quot;</td><td>&quot;Cerrado&quot;</td><td>2023-02-27</td><td>2023-03-03</td><td>2023-03-06</td></tr><tr><td>&quot;WO000000514626…</td><td>&quot;TUPAC AMARU - …</td><td>&quot;Zona Centro&quot;</td><td>&quot;Rechazado&quot;</td><td>2023-04-13</td><td>null</td><td>null</td></tr><tr><td>&quot;WO000000560473…</td><td>&quot;RAUL FERRERO -…</td><td>&quot;Zona Sur&quot;</td><td>&quot;Cerrado&quot;</td><td>2023-09-15</td><td>2023-09-16</td><td>2023-09-20</td></tr><tr><td>&quot;WO000000438468…</td><td>&quot;MALL AVENTURA …</td><td>&quot;Zona Norte&quot;</td><td>&quot;Cerrado&quot;</td><td>2022-08-29</td><td>2022-09-19</td><td>2022-09-19</td></tr><tr><td>&quot;WO000000439658…</td><td>&quot;PLAZA SAN MART…</td><td>&quot;Zona Centro&quot;</td><td>&quot;Terminado&quot;</td><td>2022-09-03</td><td>2022-09-03</td><td>null</td></tr><tr><td>&quot;WO000000508393…</td><td>&quot;C.B. FIORI - 1…</td><td>&quot;Zona Centro&quot;</td><td>&quot;Cerrado&quot;</td><td>2023-03-13</td><td>2023-04-18</td><td>2023-04-21</td></tr><tr><td>&quot;WO000000573683…</td><td>&quot;ICA - 380000&quot;</td><td>&quot;Zona Sur&quot;</td><td>&quot;En curso&quot;</td><td>2023-10-29</td><td>null</td><td>null</td></tr><tr><td>&quot;WO000000443001…</td><td>&quot;MARISCAL CÁCER…</td><td>&quot;Zona Centro&quot;</td><td>&quot;Cerrado&quot;</td><td>2022-09-12</td><td>2022-09-19</td><td>2022-09-19</td></tr><tr><td>&hellip;</td><td>&hellip;</td><td>&hellip;</td><td>&hellip;</td><td>&hellip;</td><td>&hellip;</td><td>&hellip;</td></tr><tr><td>&quot;WO000000472804…</td><td>&quot;AREQUIPA - 215…</td><td>&quot;Zona Norte&quot;</td><td>&quot;Rechazado&quot;</td><td>2022-11-15</td><td>null</td><td>null</td></tr><tr><td>&quot;WO000000483697…</td><td>&quot;LA PLANICIE - …</td><td>&quot;Zona Centro&quot;</td><td>&quot;Cerrado&quot;</td><td>2022-12-26</td><td>2022-12-30</td><td>2023-01-02</td></tr><tr><td>&quot;WO000000485710…</td><td>&quot;SAN ROMAN - 40…</td><td>&quot;Zona Norte&quot;</td><td>&quot;Cerrado&quot;</td><td>2023-01-03</td><td>2023-01-20</td><td>2023-01-22</td></tr><tr><td>&quot;WO000000490614…</td><td>&quot;EL PINO - 1910…</td><td>&quot;Zona Centro&quot;</td><td>&quot;Cerrado&quot;</td><td>2023-01-17</td><td>2023-01-22</td><td>2023-01-25</td></tr><tr><td>&quot;WO000000491338…</td><td>&quot;PLAZA SAN MART…</td><td>&quot;Zona Sur&quot;</td><td>&quot;Cerrado&quot;</td><td>2023-01-21</td><td>2023-01-24</td><td>2023-01-27</td></tr><tr><td>&quot;WO000000542814…</td><td>&quot;HUAYCAN - 1910…</td><td>&quot;Zona Sur&quot;</td><td>&quot;Cerrado&quot;</td><td>2023-07-21</td><td>2023-07-22</td><td>2023-07-25</td></tr><tr><td>&quot;WO000000544258…</td><td>&quot;PUNO - 495000&quot;</td><td>&quot;Zona Norte&quot;</td><td>&quot;Cerrado&quot;</td><td>2023-07-27</td><td>2023-08-07</td><td>2023-08-10</td></tr><tr><td>&quot;WO000000515669…</td><td>&quot;ELIO - 191067&quot;</td><td>&quot;Zona Sur&quot;</td><td>&quot;Cerrado&quot;</td><td>2023-04-16</td><td>2023-04-16</td><td>2023-04-19</td></tr><tr><td>&quot;WO000000425656…</td><td>&quot;ROSA TORO - 19…</td><td>&quot;Zona Centro&quot;</td><td>&quot;Cerrado&quot;</td><td>2022-07-15</td><td>2022-07-17</td><td>2022-07-17</td></tr><tr><td>&quot;WO000000415674…</td><td>&quot;AREQUIPA - 215…</td><td>&quot;Zona Norte&quot;</td><td>&quot;Cerrado&quot;</td><td>2022-06-12</td><td>2022-06-27</td><td>2022-06-27</td></tr><tr><td>&quot;WO000000510054…</td><td>&quot;SANTA LUZMILA …</td><td>&quot;Zona Centro&quot;</td><td>&quot;Cerrado&quot;</td><td>2023-03-23</td><td>2023-03-23</td><td>2023-03-26</td></tr><tr><td>&quot;WO000000559448…</td><td>&quot;ZARATE - 19109…</td><td>&quot;Zona Centro&quot;</td><td>&quot;Rechazado&quot;</td><td>2023-09-11</td><td>null</td><td>null</td></tr></tbody></table></div>"
      ],
      "text/plain": [
       "shape: (22_215, 7)\n",
       "┌──────────────┬──────────────┬──────────────┬───────────┬─────────────┬─────────────┬─────────────┐\n",
       "│ TicketID     ┆ Ubicacion    ┆ Service Desk ┆ Estado    ┆ Fecha       ┆ Fecha       ┆ Fecha       │\n",
       "│ ---          ┆ ---          ┆ ---          ┆ ---       ┆ Creacion    ┆ Termino     ┆ Cierre      │\n",
       "│ str          ┆ str          ┆ str          ┆ str       ┆ ---         ┆ ---         ┆ ---         │\n",
       "│              ┆              ┆              ┆           ┆ date        ┆ date        ┆ date        │\n",
       "╞══════════════╪══════════════╪══════════════╪═══════════╪═════════════╪═════════════╪═════════════╡\n",
       "│ WO0000004870 ┆ SAN MARTIN   ┆ Zona Centro  ┆ Cerrado   ┆ 2023-01-07  ┆ 2023-02-01  ┆ 2023-02-04  │\n",
       "│ 223          ┆ DE PORRES -  ┆              ┆           ┆             ┆             ┆             │\n",
       "│              ┆ 191021       ┆              ┆           ┆             ┆             ┆             │\n",
       "│ WO0000005529 ┆ PRO - 191029 ┆ Zona Centro  ┆ Cerrado   ┆ 2023-08-24  ┆ 2023-08-27  ┆ 2023-08-30  │\n",
       "│ 519          ┆              ┆              ┆           ┆             ┆             ┆             │\n",
       "│ WO0000005582 ┆ EL SOL -     ┆ Zona Centro  ┆ Cerrado   ┆ 2023-09-08  ┆ 2023-09-15  ┆ 2023-09-18  │\n",
       "│ 722          ┆ 191082       ┆              ┆           ┆             ┆             ┆             │\n",
       "│ WO0000005437 ┆ SANTA ANITA  ┆ Zona Sur     ┆ Cerrado   ┆ 2023-07-24  ┆ 2023-08-03  ┆ 2023-08-06  │\n",
       "│ 623          ┆ - 191052     ┆              ┆           ┆             ┆             ┆             │\n",
       "│ WO0000005030 ┆ SAN JUAN DE  ┆ Zona Centro  ┆ Cerrado   ┆ 2023-02-27  ┆ 2023-03-03  ┆ 2023-03-06  │\n",
       "│ 180          ┆ LURIGANCHO - ┆              ┆           ┆             ┆             ┆             │\n",
       "│              ┆ 191017       ┆              ┆           ┆             ┆             ┆             │\n",
       "│ …            ┆ …            ┆ …            ┆ …         ┆ …           ┆ …           ┆ …           │\n",
       "│ WO0000005156 ┆ ELIO -       ┆ Zona Sur     ┆ Cerrado   ┆ 2023-04-16  ┆ 2023-04-16  ┆ 2023-04-19  │\n",
       "│ 693          ┆ 191067       ┆              ┆           ┆             ┆             ┆             │\n",
       "│ WO0000004256 ┆ ROSA TORO -  ┆ Zona Centro  ┆ Cerrado   ┆ 2022-07-15  ┆ 2022-07-17  ┆ 2022-07-17  │\n",
       "│ 566          ┆ 193022       ┆              ┆           ┆             ┆             ┆             │\n",
       "│ WO0000004156 ┆ AREQUIPA -   ┆ Zona Norte   ┆ Cerrado   ┆ 2022-06-12  ┆ 2022-06-27  ┆ 2022-06-27  │\n",
       "│ 740          ┆ 215000       ┆              ┆           ┆             ┆             ┆             │\n",
       "│ WO0000005100 ┆ SANTA        ┆ Zona Centro  ┆ Cerrado   ┆ 2023-03-23  ┆ 2023-03-23  ┆ 2023-03-26  │\n",
       "│ 548          ┆ LUZMILA -    ┆              ┆           ┆             ┆             ┆             │\n",
       "│              ┆ 191063       ┆              ┆           ┆             ┆             ┆             │\n",
       "│ WO0000005594 ┆ ZARATE -     ┆ Zona Centro  ┆ Rechazado ┆ 2023-09-11  ┆ null        ┆ null        │\n",
       "│ 485          ┆ 191097       ┆              ┆           ┆             ┆             ┆             │\n",
       "└──────────────┴──────────────┴──────────────┴───────────┴─────────────┴─────────────┴─────────────┘"
      ]
     },
     "execution_count": 11,
     "metadata": {},
     "output_type": "execute_result"
    }
   ],
   "source": [
    "# Conservar las otras columnas\n",
    "df_tickets = df_tickets.join(df_tickets_sin_duplicados_condiconal, on=[\"TicketID\",\"Fecha Creacion\"], how=\"inner\")\n",
    "df_tickets\n"
   ]
  },
  {
   "cell_type": "code",
   "execution_count": 12,
   "metadata": {},
   "outputs": [
    {
     "data": {
      "text/html": [
       "<div><style>\n",
       ".dataframe > thead > tr,\n",
       ".dataframe > tbody > tr {\n",
       "  text-align: right;\n",
       "  white-space: pre-wrap;\n",
       "}\n",
       "</style>\n",
       "<small>shape: (22_215, 9)</small><table border=\"1\" class=\"dataframe\"><thead><tr><th>TicketID</th><th>Ubicacion</th><th>Service Desk</th><th>Estado</th><th>Fecha Creacion</th><th>Fecha Termino</th><th>Fecha Cierre</th><th>Agencia</th><th>AgenciaID</th></tr><tr><td>str</td><td>str</td><td>str</td><td>str</td><td>date</td><td>date</td><td>date</td><td>str</td><td>str</td></tr></thead><tbody><tr><td>&quot;WO000000487022…</td><td>&quot;SAN MARTIN DE …</td><td>&quot;Zona Centro&quot;</td><td>&quot;Cerrado&quot;</td><td>2023-01-07</td><td>2023-02-01</td><td>2023-02-04</td><td>&quot;SAN MARTIN DE …</td><td>&quot;191021&quot;</td></tr><tr><td>&quot;WO000000552951…</td><td>&quot;PRO - 191029&quot;</td><td>&quot;Zona Centro&quot;</td><td>&quot;Cerrado&quot;</td><td>2023-08-24</td><td>2023-08-27</td><td>2023-08-30</td><td>&quot;PRO &quot;</td><td>&quot;191029&quot;</td></tr><tr><td>&quot;WO000000558272…</td><td>&quot;EL SOL - 19108…</td><td>&quot;Zona Centro&quot;</td><td>&quot;Cerrado&quot;</td><td>2023-09-08</td><td>2023-09-15</td><td>2023-09-18</td><td>&quot;EL SOL &quot;</td><td>&quot;191082&quot;</td></tr><tr><td>&quot;WO000000543762…</td><td>&quot;SANTA ANITA - …</td><td>&quot;Zona Sur&quot;</td><td>&quot;Cerrado&quot;</td><td>2023-07-24</td><td>2023-08-03</td><td>2023-08-06</td><td>&quot;SANTA ANITA &quot;</td><td>&quot;191052&quot;</td></tr><tr><td>&quot;WO000000503018…</td><td>&quot;SAN JUAN DE LU…</td><td>&quot;Zona Centro&quot;</td><td>&quot;Cerrado&quot;</td><td>2023-02-27</td><td>2023-03-03</td><td>2023-03-06</td><td>&quot;SAN JUAN DE LU…</td><td>&quot;191017&quot;</td></tr><tr><td>&quot;WO000000514626…</td><td>&quot;TUPAC AMARU - …</td><td>&quot;Zona Centro&quot;</td><td>&quot;Rechazado&quot;</td><td>2023-04-13</td><td>null</td><td>null</td><td>&quot;TUPAC AMARU &quot;</td><td>&quot;191038&quot;</td></tr><tr><td>&quot;WO000000560473…</td><td>&quot;RAUL FERRERO -…</td><td>&quot;Zona Sur&quot;</td><td>&quot;Cerrado&quot;</td><td>2023-09-15</td><td>2023-09-16</td><td>2023-09-20</td><td>&quot;RAUL FERRERO &quot;</td><td>&quot;193012&quot;</td></tr><tr><td>&quot;WO000000438468…</td><td>&quot;MALL AVENTURA …</td><td>&quot;Zona Norte&quot;</td><td>&quot;Cerrado&quot;</td><td>2022-08-29</td><td>2022-09-19</td><td>2022-09-19</td><td>&quot;MALL AVENTURA …</td><td>&quot;215011&quot;</td></tr><tr><td>&quot;WO000000439658…</td><td>&quot;PLAZA SAN MART…</td><td>&quot;Zona Centro&quot;</td><td>&quot;Terminado&quot;</td><td>2022-09-03</td><td>2022-09-03</td><td>null</td><td>&quot;PLAZA SAN MART…</td><td>&quot;191004&quot;</td></tr><tr><td>&quot;WO000000508393…</td><td>&quot;C.B. FIORI - 1…</td><td>&quot;Zona Centro&quot;</td><td>&quot;Cerrado&quot;</td><td>2023-03-13</td><td>2023-04-18</td><td>2023-04-21</td><td>&quot;C.B. FIORI &quot;</td><td>&quot;191088&quot;</td></tr><tr><td>&quot;WO000000573683…</td><td>&quot;ICA - 380000&quot;</td><td>&quot;Zona Sur&quot;</td><td>&quot;En curso&quot;</td><td>2023-10-29</td><td>null</td><td>null</td><td>&quot;ICA &quot;</td><td>&quot;380000&quot;</td></tr><tr><td>&quot;WO000000443001…</td><td>&quot;MARISCAL CÁCER…</td><td>&quot;Zona Centro&quot;</td><td>&quot;Cerrado&quot;</td><td>2022-09-12</td><td>2022-09-19</td><td>2022-09-19</td><td>&quot;MARISCAL CÁCER…</td><td>&quot;220002&quot;</td></tr><tr><td>&hellip;</td><td>&hellip;</td><td>&hellip;</td><td>&hellip;</td><td>&hellip;</td><td>&hellip;</td><td>&hellip;</td><td>&hellip;</td><td>&hellip;</td></tr><tr><td>&quot;WO000000472804…</td><td>&quot;AREQUIPA - 215…</td><td>&quot;Zona Norte&quot;</td><td>&quot;Rechazado&quot;</td><td>2022-11-15</td><td>null</td><td>null</td><td>&quot;AREQUIPA &quot;</td><td>&quot;215000&quot;</td></tr><tr><td>&quot;WO000000483697…</td><td>&quot;LA PLANICIE - …</td><td>&quot;Zona Centro&quot;</td><td>&quot;Cerrado&quot;</td><td>2022-12-26</td><td>2022-12-30</td><td>2023-01-02</td><td>&quot;LA PLANICIE &quot;</td><td>&quot;193045&quot;</td></tr><tr><td>&quot;WO000000485710…</td><td>&quot;SAN ROMAN - 40…</td><td>&quot;Zona Norte&quot;</td><td>&quot;Cerrado&quot;</td><td>2023-01-03</td><td>2023-01-20</td><td>2023-01-22</td><td>&quot;SAN ROMAN &quot;</td><td>&quot;405003&quot;</td></tr><tr><td>&quot;WO000000490614…</td><td>&quot;EL PINO - 1910…</td><td>&quot;Zona Centro&quot;</td><td>&quot;Cerrado&quot;</td><td>2023-01-17</td><td>2023-01-22</td><td>2023-01-25</td><td>&quot;EL PINO &quot;</td><td>&quot;191087&quot;</td></tr><tr><td>&quot;WO000000491338…</td><td>&quot;PLAZA SAN MART…</td><td>&quot;Zona Sur&quot;</td><td>&quot;Cerrado&quot;</td><td>2023-01-21</td><td>2023-01-24</td><td>2023-01-27</td><td>&quot;PLAZA SAN MART…</td><td>&quot;191004&quot;</td></tr><tr><td>&quot;WO000000542814…</td><td>&quot;HUAYCAN - 1910…</td><td>&quot;Zona Sur&quot;</td><td>&quot;Cerrado&quot;</td><td>2023-07-21</td><td>2023-07-22</td><td>2023-07-25</td><td>&quot;HUAYCAN &quot;</td><td>&quot;191085&quot;</td></tr><tr><td>&quot;WO000000544258…</td><td>&quot;PUNO - 495000&quot;</td><td>&quot;Zona Norte&quot;</td><td>&quot;Cerrado&quot;</td><td>2023-07-27</td><td>2023-08-07</td><td>2023-08-10</td><td>&quot;PUNO &quot;</td><td>&quot;495000&quot;</td></tr><tr><td>&quot;WO000000515669…</td><td>&quot;ELIO - 191067&quot;</td><td>&quot;Zona Sur&quot;</td><td>&quot;Cerrado&quot;</td><td>2023-04-16</td><td>2023-04-16</td><td>2023-04-19</td><td>&quot;ELIO &quot;</td><td>&quot;191067&quot;</td></tr><tr><td>&quot;WO000000425656…</td><td>&quot;ROSA TORO - 19…</td><td>&quot;Zona Centro&quot;</td><td>&quot;Cerrado&quot;</td><td>2022-07-15</td><td>2022-07-17</td><td>2022-07-17</td><td>&quot;ROSA TORO &quot;</td><td>&quot;193022&quot;</td></tr><tr><td>&quot;WO000000415674…</td><td>&quot;AREQUIPA - 215…</td><td>&quot;Zona Norte&quot;</td><td>&quot;Cerrado&quot;</td><td>2022-06-12</td><td>2022-06-27</td><td>2022-06-27</td><td>&quot;AREQUIPA &quot;</td><td>&quot;215000&quot;</td></tr><tr><td>&quot;WO000000510054…</td><td>&quot;SANTA LUZMILA …</td><td>&quot;Zona Centro&quot;</td><td>&quot;Cerrado&quot;</td><td>2023-03-23</td><td>2023-03-23</td><td>2023-03-26</td><td>&quot;SANTA LUZMILA …</td><td>&quot;191063&quot;</td></tr><tr><td>&quot;WO000000559448…</td><td>&quot;ZARATE - 19109…</td><td>&quot;Zona Centro&quot;</td><td>&quot;Rechazado&quot;</td><td>2023-09-11</td><td>null</td><td>null</td><td>&quot;ZARATE &quot;</td><td>&quot;191097&quot;</td></tr></tbody></table></div>"
      ],
      "text/plain": [
       "shape: (22_215, 9)\n",
       "┌───────────┬───────────┬───────────┬───────────┬───┬───────────┬───────────┬───────────┬──────────┐\n",
       "│ TicketID  ┆ Ubicacion ┆ Service   ┆ Estado    ┆ … ┆ Fecha     ┆ Fecha     ┆ Agencia   ┆ AgenciaI │\n",
       "│ ---       ┆ ---       ┆ Desk      ┆ ---       ┆   ┆ Termino   ┆ Cierre    ┆ ---       ┆ D        │\n",
       "│ str       ┆ str       ┆ ---       ┆ str       ┆   ┆ ---       ┆ ---       ┆ str       ┆ ---      │\n",
       "│           ┆           ┆ str       ┆           ┆   ┆ date      ┆ date      ┆           ┆ str      │\n",
       "╞═══════════╪═══════════╪═══════════╪═══════════╪═══╪═══════════╪═══════════╪═══════════╪══════════╡\n",
       "│ WO0000004 ┆ SAN       ┆ Zona      ┆ Cerrado   ┆ … ┆ 2023-02-0 ┆ 2023-02-0 ┆ SAN       ┆ 191021   │\n",
       "│ 870223    ┆ MARTIN DE ┆ Centro    ┆           ┆   ┆ 1         ┆ 4         ┆ MARTIN DE ┆          │\n",
       "│           ┆ PORRES -  ┆           ┆           ┆   ┆           ┆           ┆ PORRES    ┆          │\n",
       "│           ┆ 191021    ┆           ┆           ┆   ┆           ┆           ┆           ┆          │\n",
       "│ WO0000005 ┆ PRO -     ┆ Zona      ┆ Cerrado   ┆ … ┆ 2023-08-2 ┆ 2023-08-3 ┆ PRO       ┆ 191029   │\n",
       "│ 529519    ┆ 191029    ┆ Centro    ┆           ┆   ┆ 7         ┆ 0         ┆           ┆          │\n",
       "│ WO0000005 ┆ EL SOL -  ┆ Zona      ┆ Cerrado   ┆ … ┆ 2023-09-1 ┆ 2023-09-1 ┆ EL SOL    ┆ 191082   │\n",
       "│ 582722    ┆ 191082    ┆ Centro    ┆           ┆   ┆ 5         ┆ 8         ┆           ┆          │\n",
       "│ WO0000005 ┆ SANTA     ┆ Zona Sur  ┆ Cerrado   ┆ … ┆ 2023-08-0 ┆ 2023-08-0 ┆ SANTA     ┆ 191052   │\n",
       "│ 437623    ┆ ANITA -   ┆           ┆           ┆   ┆ 3         ┆ 6         ┆ ANITA     ┆          │\n",
       "│           ┆ 191052    ┆           ┆           ┆   ┆           ┆           ┆           ┆          │\n",
       "│ WO0000005 ┆ SAN JUAN  ┆ Zona      ┆ Cerrado   ┆ … ┆ 2023-03-0 ┆ 2023-03-0 ┆ SAN JUAN  ┆ 191017   │\n",
       "│ 030180    ┆ DE LURIGA ┆ Centro    ┆           ┆   ┆ 3         ┆ 6         ┆ DE LURIGA ┆          │\n",
       "│           ┆ NCHO -    ┆           ┆           ┆   ┆           ┆           ┆ NCHO      ┆          │\n",
       "│           ┆ 191017    ┆           ┆           ┆   ┆           ┆           ┆           ┆          │\n",
       "│ …         ┆ …         ┆ …         ┆ …         ┆ … ┆ …         ┆ …         ┆ …         ┆ …        │\n",
       "│ WO0000005 ┆ ELIO -    ┆ Zona Sur  ┆ Cerrado   ┆ … ┆ 2023-04-1 ┆ 2023-04-1 ┆ ELIO      ┆ 191067   │\n",
       "│ 156693    ┆ 191067    ┆           ┆           ┆   ┆ 6         ┆ 9         ┆           ┆          │\n",
       "│ WO0000004 ┆ ROSA TORO ┆ Zona      ┆ Cerrado   ┆ … ┆ 2022-07-1 ┆ 2022-07-1 ┆ ROSA TORO ┆ 193022   │\n",
       "│ 256566    ┆ - 193022  ┆ Centro    ┆           ┆   ┆ 7         ┆ 7         ┆           ┆          │\n",
       "│ WO0000004 ┆ AREQUIPA  ┆ Zona      ┆ Cerrado   ┆ … ┆ 2022-06-2 ┆ 2022-06-2 ┆ AREQUIPA  ┆ 215000   │\n",
       "│ 156740    ┆ - 215000  ┆ Norte     ┆           ┆   ┆ 7         ┆ 7         ┆           ┆          │\n",
       "│ WO0000005 ┆ SANTA     ┆ Zona      ┆ Cerrado   ┆ … ┆ 2023-03-2 ┆ 2023-03-2 ┆ SANTA     ┆ 191063   │\n",
       "│ 100548    ┆ LUZMILA - ┆ Centro    ┆           ┆   ┆ 3         ┆ 6         ┆ LUZMILA   ┆          │\n",
       "│           ┆ 191063    ┆           ┆           ┆   ┆           ┆           ┆           ┆          │\n",
       "│ WO0000005 ┆ ZARATE -  ┆ Zona      ┆ Rechazado ┆ … ┆ null      ┆ null      ┆ ZARATE    ┆ 191097   │\n",
       "│ 594485    ┆ 191097    ┆ Centro    ┆           ┆   ┆           ┆           ┆           ┆          │\n",
       "└───────────┴───────────┴───────────┴───────────┴───┴───────────┴───────────┴───────────┴──────────┘"
      ]
     },
     "execution_count": 12,
     "metadata": {},
     "output_type": "execute_result"
    }
   ],
   "source": [
    "# Separar la columna ubicacion\n",
    "df_tickets=df_tickets.with_columns((pl.col(\"Ubicacion\").str.split('-').map_elements(\n",
    "        lambda lista: lista[0]\n",
    "    )).alias(\"Agencia\"),\n",
    "    (pl.col(\"Ubicacion\").str.split('-').map_elements(\n",
    "        lambda lista: lista[1].strip()\n",
    "    )).alias(\"AgenciaID\")\n",
    ")\n",
    "df_tickets"
   ]
  },
  {
   "cell_type": "code",
   "execution_count": 13,
   "metadata": {},
   "outputs": [
    {
     "data": {
      "text/html": [
       "<div><style>\n",
       ".dataframe > thead > tr,\n",
       ".dataframe > tbody > tr {\n",
       "  text-align: right;\n",
       "  white-space: pre-wrap;\n",
       "}\n",
       "</style>\n",
       "<small>shape: (22_215, 9)</small><table border=\"1\" class=\"dataframe\"><thead><tr><th>TicketID</th><th>Ubicacion</th><th>Service Desk</th><th>Estado</th><th>Fecha Creacion</th><th>Fecha Termino</th><th>Fecha Cierre</th><th>Agencia</th><th>AgenciaID</th></tr><tr><td>str</td><td>str</td><td>str</td><td>str</td><td>date</td><td>date</td><td>date</td><td>str</td><td>i64</td></tr></thead><tbody><tr><td>&quot;WO000000487022…</td><td>&quot;SAN MARTIN DE …</td><td>&quot;Zona Centro&quot;</td><td>&quot;Cerrado&quot;</td><td>2023-01-07</td><td>2023-02-01</td><td>2023-02-04</td><td>&quot;SAN MARTIN DE …</td><td>191021</td></tr><tr><td>&quot;WO000000552951…</td><td>&quot;PRO - 191029&quot;</td><td>&quot;Zona Centro&quot;</td><td>&quot;Cerrado&quot;</td><td>2023-08-24</td><td>2023-08-27</td><td>2023-08-30</td><td>&quot;PRO &quot;</td><td>191029</td></tr><tr><td>&quot;WO000000558272…</td><td>&quot;EL SOL - 19108…</td><td>&quot;Zona Centro&quot;</td><td>&quot;Cerrado&quot;</td><td>2023-09-08</td><td>2023-09-15</td><td>2023-09-18</td><td>&quot;EL SOL &quot;</td><td>191082</td></tr><tr><td>&quot;WO000000543762…</td><td>&quot;SANTA ANITA - …</td><td>&quot;Zona Sur&quot;</td><td>&quot;Cerrado&quot;</td><td>2023-07-24</td><td>2023-08-03</td><td>2023-08-06</td><td>&quot;SANTA ANITA &quot;</td><td>191052</td></tr><tr><td>&quot;WO000000503018…</td><td>&quot;SAN JUAN DE LU…</td><td>&quot;Zona Centro&quot;</td><td>&quot;Cerrado&quot;</td><td>2023-02-27</td><td>2023-03-03</td><td>2023-03-06</td><td>&quot;SAN JUAN DE LU…</td><td>191017</td></tr><tr><td>&quot;WO000000514626…</td><td>&quot;TUPAC AMARU - …</td><td>&quot;Zona Centro&quot;</td><td>&quot;Rechazado&quot;</td><td>2023-04-13</td><td>null</td><td>null</td><td>&quot;TUPAC AMARU &quot;</td><td>191038</td></tr><tr><td>&quot;WO000000560473…</td><td>&quot;RAUL FERRERO -…</td><td>&quot;Zona Sur&quot;</td><td>&quot;Cerrado&quot;</td><td>2023-09-15</td><td>2023-09-16</td><td>2023-09-20</td><td>&quot;RAUL FERRERO &quot;</td><td>193012</td></tr><tr><td>&quot;WO000000438468…</td><td>&quot;MALL AVENTURA …</td><td>&quot;Zona Norte&quot;</td><td>&quot;Cerrado&quot;</td><td>2022-08-29</td><td>2022-09-19</td><td>2022-09-19</td><td>&quot;MALL AVENTURA …</td><td>215011</td></tr><tr><td>&quot;WO000000439658…</td><td>&quot;PLAZA SAN MART…</td><td>&quot;Zona Centro&quot;</td><td>&quot;Terminado&quot;</td><td>2022-09-03</td><td>2022-09-03</td><td>null</td><td>&quot;PLAZA SAN MART…</td><td>191004</td></tr><tr><td>&quot;WO000000508393…</td><td>&quot;C.B. FIORI - 1…</td><td>&quot;Zona Centro&quot;</td><td>&quot;Cerrado&quot;</td><td>2023-03-13</td><td>2023-04-18</td><td>2023-04-21</td><td>&quot;C.B. FIORI &quot;</td><td>191088</td></tr><tr><td>&quot;WO000000573683…</td><td>&quot;ICA - 380000&quot;</td><td>&quot;Zona Sur&quot;</td><td>&quot;En curso&quot;</td><td>2023-10-29</td><td>null</td><td>null</td><td>&quot;ICA &quot;</td><td>380000</td></tr><tr><td>&quot;WO000000443001…</td><td>&quot;MARISCAL CÁCER…</td><td>&quot;Zona Centro&quot;</td><td>&quot;Cerrado&quot;</td><td>2022-09-12</td><td>2022-09-19</td><td>2022-09-19</td><td>&quot;MARISCAL CÁCER…</td><td>220002</td></tr><tr><td>&hellip;</td><td>&hellip;</td><td>&hellip;</td><td>&hellip;</td><td>&hellip;</td><td>&hellip;</td><td>&hellip;</td><td>&hellip;</td><td>&hellip;</td></tr><tr><td>&quot;WO000000472804…</td><td>&quot;AREQUIPA - 215…</td><td>&quot;Zona Norte&quot;</td><td>&quot;Rechazado&quot;</td><td>2022-11-15</td><td>null</td><td>null</td><td>&quot;AREQUIPA &quot;</td><td>215000</td></tr><tr><td>&quot;WO000000483697…</td><td>&quot;LA PLANICIE - …</td><td>&quot;Zona Centro&quot;</td><td>&quot;Cerrado&quot;</td><td>2022-12-26</td><td>2022-12-30</td><td>2023-01-02</td><td>&quot;LA PLANICIE &quot;</td><td>193045</td></tr><tr><td>&quot;WO000000485710…</td><td>&quot;SAN ROMAN - 40…</td><td>&quot;Zona Norte&quot;</td><td>&quot;Cerrado&quot;</td><td>2023-01-03</td><td>2023-01-20</td><td>2023-01-22</td><td>&quot;SAN ROMAN &quot;</td><td>405003</td></tr><tr><td>&quot;WO000000490614…</td><td>&quot;EL PINO - 1910…</td><td>&quot;Zona Centro&quot;</td><td>&quot;Cerrado&quot;</td><td>2023-01-17</td><td>2023-01-22</td><td>2023-01-25</td><td>&quot;EL PINO &quot;</td><td>191087</td></tr><tr><td>&quot;WO000000491338…</td><td>&quot;PLAZA SAN MART…</td><td>&quot;Zona Sur&quot;</td><td>&quot;Cerrado&quot;</td><td>2023-01-21</td><td>2023-01-24</td><td>2023-01-27</td><td>&quot;PLAZA SAN MART…</td><td>191004</td></tr><tr><td>&quot;WO000000542814…</td><td>&quot;HUAYCAN - 1910…</td><td>&quot;Zona Sur&quot;</td><td>&quot;Cerrado&quot;</td><td>2023-07-21</td><td>2023-07-22</td><td>2023-07-25</td><td>&quot;HUAYCAN &quot;</td><td>191085</td></tr><tr><td>&quot;WO000000544258…</td><td>&quot;PUNO - 495000&quot;</td><td>&quot;Zona Norte&quot;</td><td>&quot;Cerrado&quot;</td><td>2023-07-27</td><td>2023-08-07</td><td>2023-08-10</td><td>&quot;PUNO &quot;</td><td>495000</td></tr><tr><td>&quot;WO000000515669…</td><td>&quot;ELIO - 191067&quot;</td><td>&quot;Zona Sur&quot;</td><td>&quot;Cerrado&quot;</td><td>2023-04-16</td><td>2023-04-16</td><td>2023-04-19</td><td>&quot;ELIO &quot;</td><td>191067</td></tr><tr><td>&quot;WO000000425656…</td><td>&quot;ROSA TORO - 19…</td><td>&quot;Zona Centro&quot;</td><td>&quot;Cerrado&quot;</td><td>2022-07-15</td><td>2022-07-17</td><td>2022-07-17</td><td>&quot;ROSA TORO &quot;</td><td>193022</td></tr><tr><td>&quot;WO000000415674…</td><td>&quot;AREQUIPA - 215…</td><td>&quot;Zona Norte&quot;</td><td>&quot;Cerrado&quot;</td><td>2022-06-12</td><td>2022-06-27</td><td>2022-06-27</td><td>&quot;AREQUIPA &quot;</td><td>215000</td></tr><tr><td>&quot;WO000000510054…</td><td>&quot;SANTA LUZMILA …</td><td>&quot;Zona Centro&quot;</td><td>&quot;Cerrado&quot;</td><td>2023-03-23</td><td>2023-03-23</td><td>2023-03-26</td><td>&quot;SANTA LUZMILA …</td><td>191063</td></tr><tr><td>&quot;WO000000559448…</td><td>&quot;ZARATE - 19109…</td><td>&quot;Zona Centro&quot;</td><td>&quot;Rechazado&quot;</td><td>2023-09-11</td><td>null</td><td>null</td><td>&quot;ZARATE &quot;</td><td>191097</td></tr></tbody></table></div>"
      ],
      "text/plain": [
       "shape: (22_215, 9)\n",
       "┌───────────┬───────────┬───────────┬───────────┬───┬───────────┬───────────┬───────────┬──────────┐\n",
       "│ TicketID  ┆ Ubicacion ┆ Service   ┆ Estado    ┆ … ┆ Fecha     ┆ Fecha     ┆ Agencia   ┆ AgenciaI │\n",
       "│ ---       ┆ ---       ┆ Desk      ┆ ---       ┆   ┆ Termino   ┆ Cierre    ┆ ---       ┆ D        │\n",
       "│ str       ┆ str       ┆ ---       ┆ str       ┆   ┆ ---       ┆ ---       ┆ str       ┆ ---      │\n",
       "│           ┆           ┆ str       ┆           ┆   ┆ date      ┆ date      ┆           ┆ i64      │\n",
       "╞═══════════╪═══════════╪═══════════╪═══════════╪═══╪═══════════╪═══════════╪═══════════╪══════════╡\n",
       "│ WO0000004 ┆ SAN       ┆ Zona      ┆ Cerrado   ┆ … ┆ 2023-02-0 ┆ 2023-02-0 ┆ SAN       ┆ 191021   │\n",
       "│ 870223    ┆ MARTIN DE ┆ Centro    ┆           ┆   ┆ 1         ┆ 4         ┆ MARTIN DE ┆          │\n",
       "│           ┆ PORRES -  ┆           ┆           ┆   ┆           ┆           ┆ PORRES    ┆          │\n",
       "│           ┆ 191021    ┆           ┆           ┆   ┆           ┆           ┆           ┆          │\n",
       "│ WO0000005 ┆ PRO -     ┆ Zona      ┆ Cerrado   ┆ … ┆ 2023-08-2 ┆ 2023-08-3 ┆ PRO       ┆ 191029   │\n",
       "│ 529519    ┆ 191029    ┆ Centro    ┆           ┆   ┆ 7         ┆ 0         ┆           ┆          │\n",
       "│ WO0000005 ┆ EL SOL -  ┆ Zona      ┆ Cerrado   ┆ … ┆ 2023-09-1 ┆ 2023-09-1 ┆ EL SOL    ┆ 191082   │\n",
       "│ 582722    ┆ 191082    ┆ Centro    ┆           ┆   ┆ 5         ┆ 8         ┆           ┆          │\n",
       "│ WO0000005 ┆ SANTA     ┆ Zona Sur  ┆ Cerrado   ┆ … ┆ 2023-08-0 ┆ 2023-08-0 ┆ SANTA     ┆ 191052   │\n",
       "│ 437623    ┆ ANITA -   ┆           ┆           ┆   ┆ 3         ┆ 6         ┆ ANITA     ┆          │\n",
       "│           ┆ 191052    ┆           ┆           ┆   ┆           ┆           ┆           ┆          │\n",
       "│ WO0000005 ┆ SAN JUAN  ┆ Zona      ┆ Cerrado   ┆ … ┆ 2023-03-0 ┆ 2023-03-0 ┆ SAN JUAN  ┆ 191017   │\n",
       "│ 030180    ┆ DE LURIGA ┆ Centro    ┆           ┆   ┆ 3         ┆ 6         ┆ DE LURIGA ┆          │\n",
       "│           ┆ NCHO -    ┆           ┆           ┆   ┆           ┆           ┆ NCHO      ┆          │\n",
       "│           ┆ 191017    ┆           ┆           ┆   ┆           ┆           ┆           ┆          │\n",
       "│ …         ┆ …         ┆ …         ┆ …         ┆ … ┆ …         ┆ …         ┆ …         ┆ …        │\n",
       "│ WO0000005 ┆ ELIO -    ┆ Zona Sur  ┆ Cerrado   ┆ … ┆ 2023-04-1 ┆ 2023-04-1 ┆ ELIO      ┆ 191067   │\n",
       "│ 156693    ┆ 191067    ┆           ┆           ┆   ┆ 6         ┆ 9         ┆           ┆          │\n",
       "│ WO0000004 ┆ ROSA TORO ┆ Zona      ┆ Cerrado   ┆ … ┆ 2022-07-1 ┆ 2022-07-1 ┆ ROSA TORO ┆ 193022   │\n",
       "│ 256566    ┆ - 193022  ┆ Centro    ┆           ┆   ┆ 7         ┆ 7         ┆           ┆          │\n",
       "│ WO0000004 ┆ AREQUIPA  ┆ Zona      ┆ Cerrado   ┆ … ┆ 2022-06-2 ┆ 2022-06-2 ┆ AREQUIPA  ┆ 215000   │\n",
       "│ 156740    ┆ - 215000  ┆ Norte     ┆           ┆   ┆ 7         ┆ 7         ┆           ┆          │\n",
       "│ WO0000005 ┆ SANTA     ┆ Zona      ┆ Cerrado   ┆ … ┆ 2023-03-2 ┆ 2023-03-2 ┆ SANTA     ┆ 191063   │\n",
       "│ 100548    ┆ LUZMILA - ┆ Centro    ┆           ┆   ┆ 3         ┆ 6         ┆ LUZMILA   ┆          │\n",
       "│           ┆ 191063    ┆           ┆           ┆   ┆           ┆           ┆           ┆          │\n",
       "│ WO0000005 ┆ ZARATE -  ┆ Zona      ┆ Rechazado ┆ … ┆ null      ┆ null      ┆ ZARATE    ┆ 191097   │\n",
       "│ 594485    ┆ 191097    ┆ Centro    ┆           ┆   ┆           ┆           ┆           ┆          │\n",
       "└───────────┴───────────┴───────────┴───────────┴───┴───────────┴───────────┴───────────┴──────────┘"
      ]
     },
     "execution_count": 13,
     "metadata": {},
     "output_type": "execute_result"
    }
   ],
   "source": [
    "# Cambiaratipo entero\n",
    "\n",
    "df_tickets = df_tickets.cast({\"AgenciaID\": pl.Int64})\n",
    "df_tickets"
   ]
  },
  {
   "cell_type": "code",
   "execution_count": 14,
   "metadata": {},
   "outputs": [
    {
     "data": {
      "text/html": [
       "<div><style>\n",
       ".dataframe > thead > tr,\n",
       ".dataframe > tbody > tr {\n",
       "  text-align: right;\n",
       "  white-space: pre-wrap;\n",
       "}\n",
       "</style>\n",
       "<small>shape: (22_215, 10)</small><table border=\"1\" class=\"dataframe\"><thead><tr><th>TicketID</th><th>Ubicacion</th><th>Service Desk</th><th>Estado</th><th>Fecha Creacion</th><th>Fecha Termino</th><th>Fecha Cierre</th><th>Agencia</th><th>AgenciaID</th><th>Fecha Real Fin</th></tr><tr><td>str</td><td>str</td><td>str</td><td>str</td><td>date</td><td>date</td><td>date</td><td>str</td><td>i64</td><td>date</td></tr></thead><tbody><tr><td>&quot;WO000000487022…</td><td>&quot;SAN MARTIN DE …</td><td>&quot;Zona Centro&quot;</td><td>&quot;Cerrado&quot;</td><td>2023-01-07</td><td>2023-02-01</td><td>2023-02-04</td><td>&quot;SAN MARTIN DE …</td><td>191021</td><td>2023-02-01</td></tr><tr><td>&quot;WO000000552951…</td><td>&quot;PRO - 191029&quot;</td><td>&quot;Zona Centro&quot;</td><td>&quot;Cerrado&quot;</td><td>2023-08-24</td><td>2023-08-27</td><td>2023-08-30</td><td>&quot;PRO &quot;</td><td>191029</td><td>2023-08-27</td></tr><tr><td>&quot;WO000000558272…</td><td>&quot;EL SOL - 19108…</td><td>&quot;Zona Centro&quot;</td><td>&quot;Cerrado&quot;</td><td>2023-09-08</td><td>2023-09-15</td><td>2023-09-18</td><td>&quot;EL SOL &quot;</td><td>191082</td><td>2023-09-15</td></tr><tr><td>&quot;WO000000543762…</td><td>&quot;SANTA ANITA - …</td><td>&quot;Zona Sur&quot;</td><td>&quot;Cerrado&quot;</td><td>2023-07-24</td><td>2023-08-03</td><td>2023-08-06</td><td>&quot;SANTA ANITA &quot;</td><td>191052</td><td>2023-08-03</td></tr><tr><td>&quot;WO000000503018…</td><td>&quot;SAN JUAN DE LU…</td><td>&quot;Zona Centro&quot;</td><td>&quot;Cerrado&quot;</td><td>2023-02-27</td><td>2023-03-03</td><td>2023-03-06</td><td>&quot;SAN JUAN DE LU…</td><td>191017</td><td>2023-03-03</td></tr><tr><td>&quot;WO000000514626…</td><td>&quot;TUPAC AMARU - …</td><td>&quot;Zona Centro&quot;</td><td>&quot;Rechazado&quot;</td><td>2023-04-13</td><td>null</td><td>null</td><td>&quot;TUPAC AMARU &quot;</td><td>191038</td><td>null</td></tr><tr><td>&quot;WO000000560473…</td><td>&quot;RAUL FERRERO -…</td><td>&quot;Zona Sur&quot;</td><td>&quot;Cerrado&quot;</td><td>2023-09-15</td><td>2023-09-16</td><td>2023-09-20</td><td>&quot;RAUL FERRERO &quot;</td><td>193012</td><td>2023-09-16</td></tr><tr><td>&quot;WO000000438468…</td><td>&quot;MALL AVENTURA …</td><td>&quot;Zona Norte&quot;</td><td>&quot;Cerrado&quot;</td><td>2022-08-29</td><td>2022-09-19</td><td>2022-09-19</td><td>&quot;MALL AVENTURA …</td><td>215011</td><td>2022-09-19</td></tr><tr><td>&quot;WO000000439658…</td><td>&quot;PLAZA SAN MART…</td><td>&quot;Zona Centro&quot;</td><td>&quot;Terminado&quot;</td><td>2022-09-03</td><td>2022-09-03</td><td>null</td><td>&quot;PLAZA SAN MART…</td><td>191004</td><td>2022-09-03</td></tr><tr><td>&quot;WO000000508393…</td><td>&quot;C.B. FIORI - 1…</td><td>&quot;Zona Centro&quot;</td><td>&quot;Cerrado&quot;</td><td>2023-03-13</td><td>2023-04-18</td><td>2023-04-21</td><td>&quot;C.B. FIORI &quot;</td><td>191088</td><td>2023-04-18</td></tr><tr><td>&quot;WO000000573683…</td><td>&quot;ICA - 380000&quot;</td><td>&quot;Zona Sur&quot;</td><td>&quot;En curso&quot;</td><td>2023-10-29</td><td>null</td><td>null</td><td>&quot;ICA &quot;</td><td>380000</td><td>null</td></tr><tr><td>&quot;WO000000443001…</td><td>&quot;MARISCAL CÁCER…</td><td>&quot;Zona Centro&quot;</td><td>&quot;Cerrado&quot;</td><td>2022-09-12</td><td>2022-09-19</td><td>2022-09-19</td><td>&quot;MARISCAL CÁCER…</td><td>220002</td><td>2022-09-19</td></tr><tr><td>&hellip;</td><td>&hellip;</td><td>&hellip;</td><td>&hellip;</td><td>&hellip;</td><td>&hellip;</td><td>&hellip;</td><td>&hellip;</td><td>&hellip;</td><td>&hellip;</td></tr><tr><td>&quot;WO000000472804…</td><td>&quot;AREQUIPA - 215…</td><td>&quot;Zona Norte&quot;</td><td>&quot;Rechazado&quot;</td><td>2022-11-15</td><td>null</td><td>null</td><td>&quot;AREQUIPA &quot;</td><td>215000</td><td>null</td></tr><tr><td>&quot;WO000000483697…</td><td>&quot;LA PLANICIE - …</td><td>&quot;Zona Centro&quot;</td><td>&quot;Cerrado&quot;</td><td>2022-12-26</td><td>2022-12-30</td><td>2023-01-02</td><td>&quot;LA PLANICIE &quot;</td><td>193045</td><td>2022-12-30</td></tr><tr><td>&quot;WO000000485710…</td><td>&quot;SAN ROMAN - 40…</td><td>&quot;Zona Norte&quot;</td><td>&quot;Cerrado&quot;</td><td>2023-01-03</td><td>2023-01-20</td><td>2023-01-22</td><td>&quot;SAN ROMAN &quot;</td><td>405003</td><td>2023-01-20</td></tr><tr><td>&quot;WO000000490614…</td><td>&quot;EL PINO - 1910…</td><td>&quot;Zona Centro&quot;</td><td>&quot;Cerrado&quot;</td><td>2023-01-17</td><td>2023-01-22</td><td>2023-01-25</td><td>&quot;EL PINO &quot;</td><td>191087</td><td>2023-01-22</td></tr><tr><td>&quot;WO000000491338…</td><td>&quot;PLAZA SAN MART…</td><td>&quot;Zona Sur&quot;</td><td>&quot;Cerrado&quot;</td><td>2023-01-21</td><td>2023-01-24</td><td>2023-01-27</td><td>&quot;PLAZA SAN MART…</td><td>191004</td><td>2023-01-24</td></tr><tr><td>&quot;WO000000542814…</td><td>&quot;HUAYCAN - 1910…</td><td>&quot;Zona Sur&quot;</td><td>&quot;Cerrado&quot;</td><td>2023-07-21</td><td>2023-07-22</td><td>2023-07-25</td><td>&quot;HUAYCAN &quot;</td><td>191085</td><td>2023-07-22</td></tr><tr><td>&quot;WO000000544258…</td><td>&quot;PUNO - 495000&quot;</td><td>&quot;Zona Norte&quot;</td><td>&quot;Cerrado&quot;</td><td>2023-07-27</td><td>2023-08-07</td><td>2023-08-10</td><td>&quot;PUNO &quot;</td><td>495000</td><td>2023-08-07</td></tr><tr><td>&quot;WO000000515669…</td><td>&quot;ELIO - 191067&quot;</td><td>&quot;Zona Sur&quot;</td><td>&quot;Cerrado&quot;</td><td>2023-04-16</td><td>2023-04-16</td><td>2023-04-19</td><td>&quot;ELIO &quot;</td><td>191067</td><td>2023-04-16</td></tr><tr><td>&quot;WO000000425656…</td><td>&quot;ROSA TORO - 19…</td><td>&quot;Zona Centro&quot;</td><td>&quot;Cerrado&quot;</td><td>2022-07-15</td><td>2022-07-17</td><td>2022-07-17</td><td>&quot;ROSA TORO &quot;</td><td>193022</td><td>2022-07-17</td></tr><tr><td>&quot;WO000000415674…</td><td>&quot;AREQUIPA - 215…</td><td>&quot;Zona Norte&quot;</td><td>&quot;Cerrado&quot;</td><td>2022-06-12</td><td>2022-06-27</td><td>2022-06-27</td><td>&quot;AREQUIPA &quot;</td><td>215000</td><td>2022-06-27</td></tr><tr><td>&quot;WO000000510054…</td><td>&quot;SANTA LUZMILA …</td><td>&quot;Zona Centro&quot;</td><td>&quot;Cerrado&quot;</td><td>2023-03-23</td><td>2023-03-23</td><td>2023-03-26</td><td>&quot;SANTA LUZMILA …</td><td>191063</td><td>2023-03-23</td></tr><tr><td>&quot;WO000000559448…</td><td>&quot;ZARATE - 19109…</td><td>&quot;Zona Centro&quot;</td><td>&quot;Rechazado&quot;</td><td>2023-09-11</td><td>null</td><td>null</td><td>&quot;ZARATE &quot;</td><td>191097</td><td>null</td></tr></tbody></table></div>"
      ],
      "text/plain": [
       "shape: (22_215, 10)\n",
       "┌───────────┬───────────┬───────────┬───────────┬───┬───────────┬───────────┬───────────┬──────────┐\n",
       "│ TicketID  ┆ Ubicacion ┆ Service   ┆ Estado    ┆ … ┆ Fecha     ┆ Agencia   ┆ AgenciaID ┆ Fecha    │\n",
       "│ ---       ┆ ---       ┆ Desk      ┆ ---       ┆   ┆ Cierre    ┆ ---       ┆ ---       ┆ Real Fin │\n",
       "│ str       ┆ str       ┆ ---       ┆ str       ┆   ┆ ---       ┆ str       ┆ i64       ┆ ---      │\n",
       "│           ┆           ┆ str       ┆           ┆   ┆ date      ┆           ┆           ┆ date     │\n",
       "╞═══════════╪═══════════╪═══════════╪═══════════╪═══╪═══════════╪═══════════╪═══════════╪══════════╡\n",
       "│ WO0000004 ┆ SAN       ┆ Zona      ┆ Cerrado   ┆ … ┆ 2023-02-0 ┆ SAN       ┆ 191021    ┆ 2023-02- │\n",
       "│ 870223    ┆ MARTIN DE ┆ Centro    ┆           ┆   ┆ 4         ┆ MARTIN DE ┆           ┆ 01       │\n",
       "│           ┆ PORRES -  ┆           ┆           ┆   ┆           ┆ PORRES    ┆           ┆          │\n",
       "│           ┆ 191021    ┆           ┆           ┆   ┆           ┆           ┆           ┆          │\n",
       "│ WO0000005 ┆ PRO -     ┆ Zona      ┆ Cerrado   ┆ … ┆ 2023-08-3 ┆ PRO       ┆ 191029    ┆ 2023-08- │\n",
       "│ 529519    ┆ 191029    ┆ Centro    ┆           ┆   ┆ 0         ┆           ┆           ┆ 27       │\n",
       "│ WO0000005 ┆ EL SOL -  ┆ Zona      ┆ Cerrado   ┆ … ┆ 2023-09-1 ┆ EL SOL    ┆ 191082    ┆ 2023-09- │\n",
       "│ 582722    ┆ 191082    ┆ Centro    ┆           ┆   ┆ 8         ┆           ┆           ┆ 15       │\n",
       "│ WO0000005 ┆ SANTA     ┆ Zona Sur  ┆ Cerrado   ┆ … ┆ 2023-08-0 ┆ SANTA     ┆ 191052    ┆ 2023-08- │\n",
       "│ 437623    ┆ ANITA -   ┆           ┆           ┆   ┆ 6         ┆ ANITA     ┆           ┆ 03       │\n",
       "│           ┆ 191052    ┆           ┆           ┆   ┆           ┆           ┆           ┆          │\n",
       "│ WO0000005 ┆ SAN JUAN  ┆ Zona      ┆ Cerrado   ┆ … ┆ 2023-03-0 ┆ SAN JUAN  ┆ 191017    ┆ 2023-03- │\n",
       "│ 030180    ┆ DE LURIGA ┆ Centro    ┆           ┆   ┆ 6         ┆ DE LURIGA ┆           ┆ 03       │\n",
       "│           ┆ NCHO -    ┆           ┆           ┆   ┆           ┆ NCHO      ┆           ┆          │\n",
       "│           ┆ 191017    ┆           ┆           ┆   ┆           ┆           ┆           ┆          │\n",
       "│ …         ┆ …         ┆ …         ┆ …         ┆ … ┆ …         ┆ …         ┆ …         ┆ …        │\n",
       "│ WO0000005 ┆ ELIO -    ┆ Zona Sur  ┆ Cerrado   ┆ … ┆ 2023-04-1 ┆ ELIO      ┆ 191067    ┆ 2023-04- │\n",
       "│ 156693    ┆ 191067    ┆           ┆           ┆   ┆ 9         ┆           ┆           ┆ 16       │\n",
       "│ WO0000004 ┆ ROSA TORO ┆ Zona      ┆ Cerrado   ┆ … ┆ 2022-07-1 ┆ ROSA TORO ┆ 193022    ┆ 2022-07- │\n",
       "│ 256566    ┆ - 193022  ┆ Centro    ┆           ┆   ┆ 7         ┆           ┆           ┆ 17       │\n",
       "│ WO0000004 ┆ AREQUIPA  ┆ Zona      ┆ Cerrado   ┆ … ┆ 2022-06-2 ┆ AREQUIPA  ┆ 215000    ┆ 2022-06- │\n",
       "│ 156740    ┆ - 215000  ┆ Norte     ┆           ┆   ┆ 7         ┆           ┆           ┆ 27       │\n",
       "│ WO0000005 ┆ SANTA     ┆ Zona      ┆ Cerrado   ┆ … ┆ 2023-03-2 ┆ SANTA     ┆ 191063    ┆ 2023-03- │\n",
       "│ 100548    ┆ LUZMILA - ┆ Centro    ┆           ┆   ┆ 6         ┆ LUZMILA   ┆           ┆ 23       │\n",
       "│           ┆ 191063    ┆           ┆           ┆   ┆           ┆           ┆           ┆          │\n",
       "│ WO0000005 ┆ ZARATE -  ┆ Zona      ┆ Rechazado ┆ … ┆ null      ┆ ZARATE    ┆ 191097    ┆ null     │\n",
       "│ 594485    ┆ 191097    ┆ Centro    ┆           ┆   ┆           ┆           ┆           ┆          │\n",
       "└───────────┴───────────┴───────────┴───────────┴───┴───────────┴───────────┴───────────┴──────────┘"
      ]
     },
     "execution_count": 14,
     "metadata": {},
     "output_type": "execute_result"
    }
   ],
   "source": [
    "# Crear la nueva columna by condicion\n",
    "df_tickets = df_tickets.with_columns(\n",
    "    pl.when(pl.col(\"Fecha Termino\").is_null()).then(pl.col(\"Fecha Cierre\")).otherwise(pl.col(\"Fecha Termino\")).alias(\"Fecha Real Fin\")\n",
    ")\n",
    "df_tickets"
   ]
  },
  {
   "cell_type": "code",
   "execution_count": 15,
   "metadata": {},
   "outputs": [
    {
     "data": {
      "text/html": [
       "<div><style>\n",
       ".dataframe > thead > tr,\n",
       ".dataframe > tbody > tr {\n",
       "  text-align: right;\n",
       "  white-space: pre-wrap;\n",
       "}\n",
       "</style>\n",
       "<small>shape: (22_215, 11)</small><table border=\"1\" class=\"dataframe\"><thead><tr><th>TicketID</th><th>Ubicacion</th><th>Service Desk</th><th>Estado</th><th>Fecha Creacion</th><th>Fecha Termino</th><th>Fecha Cierre</th><th>Agencia</th><th>AgenciaID</th><th>Fecha Real Fin</th><th>Dias Cierre</th></tr><tr><td>str</td><td>str</td><td>str</td><td>str</td><td>date</td><td>date</td><td>date</td><td>str</td><td>i64</td><td>date</td><td>i64</td></tr></thead><tbody><tr><td>&quot;WO000000487022…</td><td>&quot;SAN MARTIN DE …</td><td>&quot;Zona Centro&quot;</td><td>&quot;Cerrado&quot;</td><td>2023-01-07</td><td>2023-02-01</td><td>2023-02-04</td><td>&quot;SAN MARTIN DE …</td><td>191021</td><td>2023-02-01</td><td>25</td></tr><tr><td>&quot;WO000000552951…</td><td>&quot;PRO - 191029&quot;</td><td>&quot;Zona Centro&quot;</td><td>&quot;Cerrado&quot;</td><td>2023-08-24</td><td>2023-08-27</td><td>2023-08-30</td><td>&quot;PRO &quot;</td><td>191029</td><td>2023-08-27</td><td>3</td></tr><tr><td>&quot;WO000000558272…</td><td>&quot;EL SOL - 19108…</td><td>&quot;Zona Centro&quot;</td><td>&quot;Cerrado&quot;</td><td>2023-09-08</td><td>2023-09-15</td><td>2023-09-18</td><td>&quot;EL SOL &quot;</td><td>191082</td><td>2023-09-15</td><td>7</td></tr><tr><td>&quot;WO000000543762…</td><td>&quot;SANTA ANITA - …</td><td>&quot;Zona Sur&quot;</td><td>&quot;Cerrado&quot;</td><td>2023-07-24</td><td>2023-08-03</td><td>2023-08-06</td><td>&quot;SANTA ANITA &quot;</td><td>191052</td><td>2023-08-03</td><td>10</td></tr><tr><td>&quot;WO000000503018…</td><td>&quot;SAN JUAN DE LU…</td><td>&quot;Zona Centro&quot;</td><td>&quot;Cerrado&quot;</td><td>2023-02-27</td><td>2023-03-03</td><td>2023-03-06</td><td>&quot;SAN JUAN DE LU…</td><td>191017</td><td>2023-03-03</td><td>4</td></tr><tr><td>&quot;WO000000514626…</td><td>&quot;TUPAC AMARU - …</td><td>&quot;Zona Centro&quot;</td><td>&quot;Rechazado&quot;</td><td>2023-04-13</td><td>null</td><td>null</td><td>&quot;TUPAC AMARU &quot;</td><td>191038</td><td>null</td><td>null</td></tr><tr><td>&quot;WO000000560473…</td><td>&quot;RAUL FERRERO -…</td><td>&quot;Zona Sur&quot;</td><td>&quot;Cerrado&quot;</td><td>2023-09-15</td><td>2023-09-16</td><td>2023-09-20</td><td>&quot;RAUL FERRERO &quot;</td><td>193012</td><td>2023-09-16</td><td>1</td></tr><tr><td>&quot;WO000000438468…</td><td>&quot;MALL AVENTURA …</td><td>&quot;Zona Norte&quot;</td><td>&quot;Cerrado&quot;</td><td>2022-08-29</td><td>2022-09-19</td><td>2022-09-19</td><td>&quot;MALL AVENTURA …</td><td>215011</td><td>2022-09-19</td><td>21</td></tr><tr><td>&quot;WO000000439658…</td><td>&quot;PLAZA SAN MART…</td><td>&quot;Zona Centro&quot;</td><td>&quot;Terminado&quot;</td><td>2022-09-03</td><td>2022-09-03</td><td>null</td><td>&quot;PLAZA SAN MART…</td><td>191004</td><td>2022-09-03</td><td>0</td></tr><tr><td>&quot;WO000000508393…</td><td>&quot;C.B. FIORI - 1…</td><td>&quot;Zona Centro&quot;</td><td>&quot;Cerrado&quot;</td><td>2023-03-13</td><td>2023-04-18</td><td>2023-04-21</td><td>&quot;C.B. FIORI &quot;</td><td>191088</td><td>2023-04-18</td><td>36</td></tr><tr><td>&quot;WO000000573683…</td><td>&quot;ICA - 380000&quot;</td><td>&quot;Zona Sur&quot;</td><td>&quot;En curso&quot;</td><td>2023-10-29</td><td>null</td><td>null</td><td>&quot;ICA &quot;</td><td>380000</td><td>null</td><td>null</td></tr><tr><td>&quot;WO000000443001…</td><td>&quot;MARISCAL CÁCER…</td><td>&quot;Zona Centro&quot;</td><td>&quot;Cerrado&quot;</td><td>2022-09-12</td><td>2022-09-19</td><td>2022-09-19</td><td>&quot;MARISCAL CÁCER…</td><td>220002</td><td>2022-09-19</td><td>7</td></tr><tr><td>&hellip;</td><td>&hellip;</td><td>&hellip;</td><td>&hellip;</td><td>&hellip;</td><td>&hellip;</td><td>&hellip;</td><td>&hellip;</td><td>&hellip;</td><td>&hellip;</td><td>&hellip;</td></tr><tr><td>&quot;WO000000472804…</td><td>&quot;AREQUIPA - 215…</td><td>&quot;Zona Norte&quot;</td><td>&quot;Rechazado&quot;</td><td>2022-11-15</td><td>null</td><td>null</td><td>&quot;AREQUIPA &quot;</td><td>215000</td><td>null</td><td>null</td></tr><tr><td>&quot;WO000000483697…</td><td>&quot;LA PLANICIE - …</td><td>&quot;Zona Centro&quot;</td><td>&quot;Cerrado&quot;</td><td>2022-12-26</td><td>2022-12-30</td><td>2023-01-02</td><td>&quot;LA PLANICIE &quot;</td><td>193045</td><td>2022-12-30</td><td>4</td></tr><tr><td>&quot;WO000000485710…</td><td>&quot;SAN ROMAN - 40…</td><td>&quot;Zona Norte&quot;</td><td>&quot;Cerrado&quot;</td><td>2023-01-03</td><td>2023-01-20</td><td>2023-01-22</td><td>&quot;SAN ROMAN &quot;</td><td>405003</td><td>2023-01-20</td><td>17</td></tr><tr><td>&quot;WO000000490614…</td><td>&quot;EL PINO - 1910…</td><td>&quot;Zona Centro&quot;</td><td>&quot;Cerrado&quot;</td><td>2023-01-17</td><td>2023-01-22</td><td>2023-01-25</td><td>&quot;EL PINO &quot;</td><td>191087</td><td>2023-01-22</td><td>5</td></tr><tr><td>&quot;WO000000491338…</td><td>&quot;PLAZA SAN MART…</td><td>&quot;Zona Sur&quot;</td><td>&quot;Cerrado&quot;</td><td>2023-01-21</td><td>2023-01-24</td><td>2023-01-27</td><td>&quot;PLAZA SAN MART…</td><td>191004</td><td>2023-01-24</td><td>3</td></tr><tr><td>&quot;WO000000542814…</td><td>&quot;HUAYCAN - 1910…</td><td>&quot;Zona Sur&quot;</td><td>&quot;Cerrado&quot;</td><td>2023-07-21</td><td>2023-07-22</td><td>2023-07-25</td><td>&quot;HUAYCAN &quot;</td><td>191085</td><td>2023-07-22</td><td>1</td></tr><tr><td>&quot;WO000000544258…</td><td>&quot;PUNO - 495000&quot;</td><td>&quot;Zona Norte&quot;</td><td>&quot;Cerrado&quot;</td><td>2023-07-27</td><td>2023-08-07</td><td>2023-08-10</td><td>&quot;PUNO &quot;</td><td>495000</td><td>2023-08-07</td><td>11</td></tr><tr><td>&quot;WO000000515669…</td><td>&quot;ELIO - 191067&quot;</td><td>&quot;Zona Sur&quot;</td><td>&quot;Cerrado&quot;</td><td>2023-04-16</td><td>2023-04-16</td><td>2023-04-19</td><td>&quot;ELIO &quot;</td><td>191067</td><td>2023-04-16</td><td>0</td></tr><tr><td>&quot;WO000000425656…</td><td>&quot;ROSA TORO - 19…</td><td>&quot;Zona Centro&quot;</td><td>&quot;Cerrado&quot;</td><td>2022-07-15</td><td>2022-07-17</td><td>2022-07-17</td><td>&quot;ROSA TORO &quot;</td><td>193022</td><td>2022-07-17</td><td>2</td></tr><tr><td>&quot;WO000000415674…</td><td>&quot;AREQUIPA - 215…</td><td>&quot;Zona Norte&quot;</td><td>&quot;Cerrado&quot;</td><td>2022-06-12</td><td>2022-06-27</td><td>2022-06-27</td><td>&quot;AREQUIPA &quot;</td><td>215000</td><td>2022-06-27</td><td>15</td></tr><tr><td>&quot;WO000000510054…</td><td>&quot;SANTA LUZMILA …</td><td>&quot;Zona Centro&quot;</td><td>&quot;Cerrado&quot;</td><td>2023-03-23</td><td>2023-03-23</td><td>2023-03-26</td><td>&quot;SANTA LUZMILA …</td><td>191063</td><td>2023-03-23</td><td>0</td></tr><tr><td>&quot;WO000000559448…</td><td>&quot;ZARATE - 19109…</td><td>&quot;Zona Centro&quot;</td><td>&quot;Rechazado&quot;</td><td>2023-09-11</td><td>null</td><td>null</td><td>&quot;ZARATE &quot;</td><td>191097</td><td>null</td><td>null</td></tr></tbody></table></div>"
      ],
      "text/plain": [
       "shape: (22_215, 11)\n",
       "┌───────────┬───────────┬───────────┬───────────┬───┬───────────┬───────────┬───────────┬──────────┐\n",
       "│ TicketID  ┆ Ubicacion ┆ Service   ┆ Estado    ┆ … ┆ Agencia   ┆ AgenciaID ┆ Fecha     ┆ Dias     │\n",
       "│ ---       ┆ ---       ┆ Desk      ┆ ---       ┆   ┆ ---       ┆ ---       ┆ Real Fin  ┆ Cierre   │\n",
       "│ str       ┆ str       ┆ ---       ┆ str       ┆   ┆ str       ┆ i64       ┆ ---       ┆ ---      │\n",
       "│           ┆           ┆ str       ┆           ┆   ┆           ┆           ┆ date      ┆ i64      │\n",
       "╞═══════════╪═══════════╪═══════════╪═══════════╪═══╪═══════════╪═══════════╪═══════════╪══════════╡\n",
       "│ WO0000004 ┆ SAN       ┆ Zona      ┆ Cerrado   ┆ … ┆ SAN       ┆ 191021    ┆ 2023-02-0 ┆ 25       │\n",
       "│ 870223    ┆ MARTIN DE ┆ Centro    ┆           ┆   ┆ MARTIN DE ┆           ┆ 1         ┆          │\n",
       "│           ┆ PORRES -  ┆           ┆           ┆   ┆ PORRES    ┆           ┆           ┆          │\n",
       "│           ┆ 191021    ┆           ┆           ┆   ┆           ┆           ┆           ┆          │\n",
       "│ WO0000005 ┆ PRO -     ┆ Zona      ┆ Cerrado   ┆ … ┆ PRO       ┆ 191029    ┆ 2023-08-2 ┆ 3        │\n",
       "│ 529519    ┆ 191029    ┆ Centro    ┆           ┆   ┆           ┆           ┆ 7         ┆          │\n",
       "│ WO0000005 ┆ EL SOL -  ┆ Zona      ┆ Cerrado   ┆ … ┆ EL SOL    ┆ 191082    ┆ 2023-09-1 ┆ 7        │\n",
       "│ 582722    ┆ 191082    ┆ Centro    ┆           ┆   ┆           ┆           ┆ 5         ┆          │\n",
       "│ WO0000005 ┆ SANTA     ┆ Zona Sur  ┆ Cerrado   ┆ … ┆ SANTA     ┆ 191052    ┆ 2023-08-0 ┆ 10       │\n",
       "│ 437623    ┆ ANITA -   ┆           ┆           ┆   ┆ ANITA     ┆           ┆ 3         ┆          │\n",
       "│           ┆ 191052    ┆           ┆           ┆   ┆           ┆           ┆           ┆          │\n",
       "│ WO0000005 ┆ SAN JUAN  ┆ Zona      ┆ Cerrado   ┆ … ┆ SAN JUAN  ┆ 191017    ┆ 2023-03-0 ┆ 4        │\n",
       "│ 030180    ┆ DE LURIGA ┆ Centro    ┆           ┆   ┆ DE LURIGA ┆           ┆ 3         ┆          │\n",
       "│           ┆ NCHO -    ┆           ┆           ┆   ┆ NCHO      ┆           ┆           ┆          │\n",
       "│           ┆ 191017    ┆           ┆           ┆   ┆           ┆           ┆           ┆          │\n",
       "│ …         ┆ …         ┆ …         ┆ …         ┆ … ┆ …         ┆ …         ┆ …         ┆ …        │\n",
       "│ WO0000005 ┆ ELIO -    ┆ Zona Sur  ┆ Cerrado   ┆ … ┆ ELIO      ┆ 191067    ┆ 2023-04-1 ┆ 0        │\n",
       "│ 156693    ┆ 191067    ┆           ┆           ┆   ┆           ┆           ┆ 6         ┆          │\n",
       "│ WO0000004 ┆ ROSA TORO ┆ Zona      ┆ Cerrado   ┆ … ┆ ROSA TORO ┆ 193022    ┆ 2022-07-1 ┆ 2        │\n",
       "│ 256566    ┆ - 193022  ┆ Centro    ┆           ┆   ┆           ┆           ┆ 7         ┆          │\n",
       "│ WO0000004 ┆ AREQUIPA  ┆ Zona      ┆ Cerrado   ┆ … ┆ AREQUIPA  ┆ 215000    ┆ 2022-06-2 ┆ 15       │\n",
       "│ 156740    ┆ - 215000  ┆ Norte     ┆           ┆   ┆           ┆           ┆ 7         ┆          │\n",
       "│ WO0000005 ┆ SANTA     ┆ Zona      ┆ Cerrado   ┆ … ┆ SANTA     ┆ 191063    ┆ 2023-03-2 ┆ 0        │\n",
       "│ 100548    ┆ LUZMILA - ┆ Centro    ┆           ┆   ┆ LUZMILA   ┆           ┆ 3         ┆          │\n",
       "│           ┆ 191063    ┆           ┆           ┆   ┆           ┆           ┆           ┆          │\n",
       "│ WO0000005 ┆ ZARATE -  ┆ Zona      ┆ Rechazado ┆ … ┆ ZARATE    ┆ 191097    ┆ null      ┆ null     │\n",
       "│ 594485    ┆ 191097    ┆ Centro    ┆           ┆   ┆           ┆           ┆           ┆          │\n",
       "└───────────┴───────────┴───────────┴───────────┴───┴───────────┴───────────┴───────────┴──────────┘"
      ]
     },
     "execution_count": 15,
     "metadata": {},
     "output_type": "execute_result"
    }
   ],
   "source": [
    "# Calculamos diferencia de fechas en dias\n",
    "df_tickets = df_tickets.with_columns(( pl.col(\"Fecha Real Fin\") - pl.col(\"Fecha Creacion\") ).dt.total_days().alias(\"Dias Cierre\"))\n",
    "\n",
    "df_tickets"
   ]
  },
  {
   "cell_type": "code",
   "execution_count": 16,
   "metadata": {},
   "outputs": [
    {
     "data": {
      "text/html": [
       "<div><style>\n",
       ".dataframe > thead > tr,\n",
       ".dataframe > tbody > tr {\n",
       "  text-align: right;\n",
       "  white-space: pre-wrap;\n",
       "}\n",
       "</style>\n",
       "<small>shape: (22_215, 12)</small><table border=\"1\" class=\"dataframe\"><thead><tr><th>TicketID</th><th>Ubicacion</th><th>Service Desk</th><th>Estado</th><th>Fecha Creacion</th><th>Fecha Termino</th><th>Fecha Cierre</th><th>Agencia</th><th>AgenciaID</th><th>Fecha Real Fin</th><th>Dias Cierre</th><th>Grupo Dias</th></tr><tr><td>str</td><td>str</td><td>str</td><td>str</td><td>date</td><td>date</td><td>date</td><td>str</td><td>i64</td><td>date</td><td>i64</td><td>str</td></tr></thead><tbody><tr><td>&quot;OT000000484937…</td><td>&quot;NAYLAMP - 1911…</td><td>&quot;Zona Centro&quot;</td><td>&quot;Cerrado&quot;</td><td>2022-12-31</td><td>2023-01-25</td><td>2023-01-28</td><td>&quot;NAYLAMP &quot;</td><td>191143</td><td>2023-01-25</td><td>25</td><td>&quot;+15 días&quot;</td></tr><tr><td>&quot;OT000000484938…</td><td>&quot;LOS DAMASCOS -…</td><td>&quot;Zona Sur&quot;</td><td>&quot;Cerrado&quot;</td><td>2022-12-31</td><td>2023-01-04</td><td>2023-01-07</td><td>&quot;LOS DAMASCOS &quot;</td><td>193038</td><td>2023-01-04</td><td>4</td><td>&quot;4 a 7 días&quot;</td></tr><tr><td>&quot;OT000000484972…</td><td>&quot;LUREN - 380004…</td><td>&quot;Zona Sur&quot;</td><td>&quot;Cerrado&quot;</td><td>2022-12-31</td><td>2023-01-02</td><td>2023-01-05</td><td>&quot;LUREN &quot;</td><td>380004</td><td>2023-01-02</td><td>2</td><td>&quot;0 a 3 días&quot;</td></tr><tr><td>&quot;OT000000484973…</td><td>&quot;EL PINO - 1910…</td><td>&quot;Zona Centro&quot;</td><td>&quot;Cerrado&quot;</td><td>2022-12-31</td><td>2023-01-06</td><td>2023-01-09</td><td>&quot;EL PINO &quot;</td><td>191087</td><td>2023-01-06</td><td>6</td><td>&quot;4 a 7 días&quot;</td></tr><tr><td>&quot;SA000000484930…</td><td>&quot;TUSILAGOS - 19…</td><td>&quot;Zona Centro&quot;</td><td>&quot;Rechazado&quot;</td><td>2022-12-31</td><td>null</td><td>null</td><td>&quot;TUSILAGOS &quot;</td><td>191108</td><td>null</td><td>null</td><td>null</td></tr><tr><td>&quot;WO000000412230…</td><td>&quot;IMPERIAL - 255…</td><td>&quot;Zona Norte&quot;</td><td>&quot;Cerrado&quot;</td><td>2022-06-01</td><td>2022-06-10</td><td>2022-06-10</td><td>&quot;IMPERIAL &quot;</td><td>255001</td><td>2022-06-10</td><td>9</td><td>&quot;8 a 15 días&quot;</td></tr><tr><td>&quot;WO000000412230…</td><td>&quot;IMPERIAL - 255…</td><td>&quot;Zona Norte&quot;</td><td>&quot;Cerrado&quot;</td><td>2022-06-01</td><td>2022-06-17</td><td>2022-06-17</td><td>&quot;IMPERIAL &quot;</td><td>255001</td><td>2022-06-17</td><td>16</td><td>&quot;+15 días&quot;</td></tr><tr><td>&quot;WO000000412235…</td><td>&quot;PLAZA UNION - …</td><td>&quot;Zona Centro&quot;</td><td>&quot;Cerrado&quot;</td><td>2022-06-01</td><td>2022-06-05</td><td>2022-06-05</td><td>&quot;PLAZA UNION &quot;</td><td>191062</td><td>2022-06-05</td><td>4</td><td>&quot;4 a 7 días&quot;</td></tr><tr><td>&quot;WO000000412236…</td><td>&quot;AREQUIPA - 215…</td><td>&quot;Zona Norte&quot;</td><td>&quot;Cerrado&quot;</td><td>2022-06-01</td><td>2022-06-13</td><td>2022-06-13</td><td>&quot;AREQUIPA &quot;</td><td>215000</td><td>2022-06-13</td><td>12</td><td>&quot;8 a 15 días&quot;</td></tr><tr><td>&quot;WO000000412238…</td><td>&quot;PLAZA LIMA NOR…</td><td>&quot;Zona Centro&quot;</td><td>&quot;Rechazado&quot;</td><td>2022-06-01</td><td>2022-06-06</td><td>null</td><td>&quot;PLAZA LIMA NOR…</td><td>191058</td><td>2022-06-06</td><td>5</td><td>&quot;4 a 7 días&quot;</td></tr><tr><td>&quot;WO000000412240…</td><td>&quot;TUPAC AMARU - …</td><td>&quot;Zona Centro&quot;</td><td>&quot;Cerrado&quot;</td><td>2022-06-01</td><td>2022-06-07</td><td>2022-06-07</td><td>&quot;TUPAC AMARU &quot;</td><td>191038</td><td>2022-06-07</td><td>6</td><td>&quot;4 a 7 días&quot;</td></tr><tr><td>&quot;WO000000412241…</td><td>&quot;ICA - 380000&quot;</td><td>&quot;Zona Norte&quot;</td><td>&quot;Rechazado&quot;</td><td>2022-06-01</td><td>2022-06-26</td><td>null</td><td>&quot;ICA &quot;</td><td>380000</td><td>2022-06-26</td><td>25</td><td>&quot;+15 días&quot;</td></tr><tr><td>&hellip;</td><td>&hellip;</td><td>&hellip;</td><td>&hellip;</td><td>&hellip;</td><td>&hellip;</td><td>&hellip;</td><td>&hellip;</td><td>&hellip;</td><td>&hellip;</td><td>&hellip;</td><td>&hellip;</td></tr><tr><td>&quot;WO000000573832…</td><td>&quot;PUNTO BCP SANT…</td><td>&quot;Zona Sur&quot;</td><td>&quot;En curso&quot;</td><td>2023-10-29</td><td>null</td><td>null</td><td>&quot;PUNTO BCP SANT…</td><td>191173</td><td>null</td><td>null</td><td>null</td></tr><tr><td>&quot;WO000000573833…</td><td>&quot;LA FONTANA - 1…</td><td>&quot;Zona Sur&quot;</td><td>&quot;En curso&quot;</td><td>2023-10-29</td><td>null</td><td>null</td><td>&quot;LA FONTANA &quot;</td><td>193054</td><td>null</td><td>null</td><td>null</td></tr><tr><td>&quot;WO000000573834…</td><td>&quot;LA FONTANA - 1…</td><td>&quot;Zona Sur&quot;</td><td>&quot;Rechazado&quot;</td><td>2023-10-29</td><td>null</td><td>null</td><td>&quot;LA FONTANA &quot;</td><td>193054</td><td>null</td><td>null</td><td>null</td></tr><tr><td>&quot;WO000000573834…</td><td>&quot;LA FONTANA - 1…</td><td>&quot;Zona Sur&quot;</td><td>&quot;Rechazado&quot;</td><td>2023-10-29</td><td>null</td><td>null</td><td>&quot;LA FONTANA &quot;</td><td>193054</td><td>null</td><td>null</td><td>null</td></tr><tr><td>&quot;WO000000573870…</td><td>&quot;IMPERIAL - 255…</td><td>&quot;Zona Sur&quot;</td><td>&quot;En curso&quot;</td><td>2023-10-29</td><td>null</td><td>null</td><td>&quot;IMPERIAL &quot;</td><td>255001</td><td>null</td><td>null</td><td>null</td></tr><tr><td>&quot;WO000000573870…</td><td>&quot;PISCO - 470000…</td><td>&quot;Zona Sur&quot;</td><td>&quot;En curso&quot;</td><td>2023-10-29</td><td>null</td><td>null</td><td>&quot;PISCO &quot;</td><td>470000</td><td>null</td><td>null</td><td>null</td></tr><tr><td>&quot;WO000000573870…</td><td>&quot;PUENTE PIEDRA …</td><td>&quot;Zona Centro&quot;</td><td>&quot;En curso&quot;</td><td>2023-10-29</td><td>null</td><td>null</td><td>&quot;PUENTE PIEDRA …</td><td>191035</td><td>null</td><td>null</td><td>null</td></tr><tr><td>&quot;WO000000573870…</td><td>&quot;MEGA PLAZA - 1…</td><td>&quot;Zona Centro&quot;</td><td>&quot;En curso&quot;</td><td>2023-10-29</td><td>null</td><td>null</td><td>&quot;MEGA PLAZA &quot;</td><td>191010</td><td>null</td><td>null</td><td>null</td></tr><tr><td>&quot;WO000000573871…</td><td>&quot;LUREN - 380004…</td><td>&quot;Zona Sur&quot;</td><td>&quot;En curso&quot;</td><td>2023-10-29</td><td>null</td><td>null</td><td>&quot;LUREN &quot;</td><td>380004</td><td>null</td><td>null</td><td>null</td></tr><tr><td>&quot;WO000000573872…</td><td>&quot;PISCO - 470000…</td><td>&quot;Zona Sur&quot;</td><td>&quot;En curso&quot;</td><td>2023-10-29</td><td>null</td><td>null</td><td>&quot;PISCO &quot;</td><td>470000</td><td>null</td><td>null</td><td>null</td></tr><tr><td>&quot;WO000000573872…</td><td>&quot;NACIONES UNIDA…</td><td>&quot;Zona Centro&quot;</td><td>&quot;En curso&quot;</td><td>2023-10-29</td><td>null</td><td>null</td><td>&quot;NACIONES UNIDA…</td><td>191084</td><td>null</td><td>null</td><td>null</td></tr><tr><td>&quot;WO000000573872…</td><td>&quot;NACIONES UNIDA…</td><td>&quot;Zona Centro&quot;</td><td>&quot;En curso&quot;</td><td>2023-10-29</td><td>null</td><td>null</td><td>&quot;NACIONES UNIDA…</td><td>191084</td><td>null</td><td>null</td><td>null</td></tr></tbody></table></div>"
      ],
      "text/plain": [
       "shape: (22_215, 12)\n",
       "┌───────────┬───────────┬───────────┬───────────┬───┬───────────┬───────────┬───────────┬──────────┐\n",
       "│ TicketID  ┆ Ubicacion ┆ Service   ┆ Estado    ┆ … ┆ AgenciaID ┆ Fecha     ┆ Dias      ┆ Grupo    │\n",
       "│ ---       ┆ ---       ┆ Desk      ┆ ---       ┆   ┆ ---       ┆ Real Fin  ┆ Cierre    ┆ Dias     │\n",
       "│ str       ┆ str       ┆ ---       ┆ str       ┆   ┆ i64       ┆ ---       ┆ ---       ┆ ---      │\n",
       "│           ┆           ┆ str       ┆           ┆   ┆           ┆ date      ┆ i64       ┆ str      │\n",
       "╞═══════════╪═══════════╪═══════════╪═══════════╪═══╪═══════════╪═══════════╪═══════════╪══════════╡\n",
       "│ OT0000004 ┆ NAYLAMP - ┆ Zona      ┆ Cerrado   ┆ … ┆ 191143    ┆ 2023-01-2 ┆ 25        ┆ +15 días │\n",
       "│ 849379    ┆ 191143    ┆ Centro    ┆           ┆   ┆           ┆ 5         ┆           ┆          │\n",
       "│ OT0000004 ┆ LOS       ┆ Zona Sur  ┆ Cerrado   ┆ … ┆ 193038    ┆ 2023-01-0 ┆ 4         ┆ 4 a 7    │\n",
       "│ 849382    ┆ DAMASCOS  ┆           ┆           ┆   ┆           ┆ 4         ┆           ┆ días     │\n",
       "│           ┆ - 193038  ┆           ┆           ┆   ┆           ┆           ┆           ┆          │\n",
       "│ OT0000004 ┆ LUREN -   ┆ Zona Sur  ┆ Cerrado   ┆ … ┆ 380004    ┆ 2023-01-0 ┆ 2         ┆ 0 a 3    │\n",
       "│ 849726    ┆ 380004    ┆           ┆           ┆   ┆           ┆ 2         ┆           ┆ días     │\n",
       "│ OT0000004 ┆ EL PINO - ┆ Zona      ┆ Cerrado   ┆ … ┆ 191087    ┆ 2023-01-0 ┆ 6         ┆ 4 a 7    │\n",
       "│ 849732    ┆ 191087    ┆ Centro    ┆           ┆   ┆           ┆ 6         ┆           ┆ días     │\n",
       "│ SA0000004 ┆ TUSILAGOS ┆ Zona      ┆ Rechazado ┆ … ┆ 191108    ┆ null      ┆ null      ┆ null     │\n",
       "│ 849307    ┆ - 191108  ┆ Centro    ┆           ┆   ┆           ┆           ┆           ┆          │\n",
       "│ …         ┆ …         ┆ …         ┆ …         ┆ … ┆ …         ┆ …         ┆ …         ┆ …        │\n",
       "│ WO0000005 ┆ MEGA      ┆ Zona      ┆ En curso  ┆ … ┆ 191010    ┆ null      ┆ null      ┆ null     │\n",
       "│ 738709    ┆ PLAZA -   ┆ Centro    ┆           ┆   ┆           ┆           ┆           ┆          │\n",
       "│           ┆ 191010    ┆           ┆           ┆   ┆           ┆           ┆           ┆          │\n",
       "│ WO0000005 ┆ LUREN -   ┆ Zona Sur  ┆ En curso  ┆ … ┆ 380004    ┆ null      ┆ null      ┆ null     │\n",
       "│ 738715    ┆ 380004    ┆           ┆           ┆   ┆           ┆           ┆           ┆          │\n",
       "│ WO0000005 ┆ PISCO -   ┆ Zona Sur  ┆ En curso  ┆ … ┆ 470000    ┆ null      ┆ null      ┆ null     │\n",
       "│ 738721    ┆ 470000    ┆           ┆           ┆   ┆           ┆           ┆           ┆          │\n",
       "│ WO0000005 ┆ NACIONES  ┆ Zona      ┆ En curso  ┆ … ┆ 191084    ┆ null      ┆ null      ┆ null     │\n",
       "│ 738726    ┆ UNIDAS -  ┆ Centro    ┆           ┆   ┆           ┆           ┆           ┆          │\n",
       "│           ┆ 191084    ┆           ┆           ┆   ┆           ┆           ┆           ┆          │\n",
       "│ WO0000005 ┆ NACIONES  ┆ Zona      ┆ En curso  ┆ … ┆ 191084    ┆ null      ┆ null      ┆ null     │\n",
       "│ 738729    ┆ UNIDAS -  ┆ Centro    ┆           ┆   ┆           ┆           ┆           ┆          │\n",
       "│           ┆ 191084    ┆           ┆           ┆   ┆           ┆           ┆           ┆          │\n",
       "└───────────┴───────────┴───────────┴───────────┴───┴───────────┴───────────┴───────────┴──────────┘"
      ]
     },
     "execution_count": 16,
     "metadata": {},
     "output_type": "execute_result"
    }
   ],
   "source": [
    "condiciones_dias_cierre = [\n",
    "    \n",
    "    (pl.col(\"Dias Cierre\").is_null(), None),\n",
    "    (pl.col(\"Dias Cierre\") <= 3, pl.lit(\"0 a 3 días\")),\n",
    "    (pl.col(\"Dias Cierre\") <= 7, pl.lit(\"4 a 7 días\")),\n",
    "    (pl.col(\"Dias Cierre\") <= 15, pl.lit(\"8 a 15 días\")),\n",
    "    (pl.col(\"Dias Cierre\") > 15, pl.lit(\"+15 días\")),\n",
    "]\n",
    "\n",
    "df_tickets = df_tickets.with_columns(\n",
    "    pl.when(condiciones_dias_cierre[0][0]).then(condiciones_dias_cierre[0][1])\n",
    "    .when(condiciones_dias_cierre[1][0]).then(condiciones_dias_cierre[1][1])\n",
    "    .when(condiciones_dias_cierre[2][0]).then(condiciones_dias_cierre[2][1])\n",
    "    .when(condiciones_dias_cierre[3][0]).then(condiciones_dias_cierre[3][1])\n",
    "    .when(condiciones_dias_cierre[4][0]).then(condiciones_dias_cierre[4][1])\n",
    "    # Agrega más condiciones según sea necesario\n",
    "    .otherwise(None).alias(\"Grupo Dias\")\n",
    ")\n",
    "df_tickets.sort(\"TicketID\")"
   ]
  },
  {
   "cell_type": "code",
   "execution_count": 17,
   "metadata": {},
   "outputs": [],
   "source": [
    "#%pip install xlsx2csv"
   ]
  },
  {
   "cell_type": "code",
   "execution_count": 18,
   "metadata": {},
   "outputs": [
    {
     "data": {
      "text/html": [
       "<div><style>\n",
       ".dataframe > thead > tr,\n",
       ".dataframe > tbody > tr {\n",
       "  text-align: right;\n",
       "  white-space: pre-wrap;\n",
       "}\n",
       "</style>\n",
       "<small>shape: (22_717, 4)</small><table border=\"1\" class=\"dataframe\"><thead><tr><th>Numero Ticket</th><th>Tipo de Ticket</th><th>Proveedor</th><th>Costo Atencion</th></tr><tr><td>str</td><td>str</td><td>str</td><td>str</td></tr></thead><tbody><tr><td>&quot;WO000000558468…</td><td>&quot;Variable&quot;</td><td>&quot;MR EXPRESS&quot;</td><td>null</td></tr><tr><td>&quot;WO000000454494…</td><td>&quot;Rechazado&quot;</td><td>null</td><td>&quot;100&quot;</td></tr><tr><td>&quot;WO000000454524…</td><td>&quot;Rechazado&quot;</td><td>null</td><td>&quot;100&quot;</td></tr><tr><td>&quot;WO000000455912…</td><td>&quot;Rechazado&quot;</td><td>null</td><td>&quot;100&quot;</td></tr><tr><td>&quot;WO000000470747…</td><td>&quot;Rechazado&quot;</td><td>null</td><td>&quot;100&quot;</td></tr><tr><td>&quot;WO000000475997…</td><td>&quot;Rechazado&quot;</td><td>null</td><td>&quot;100&quot;</td></tr><tr><td>&quot;WO000000479587…</td><td>&quot;Rechazado&quot;</td><td>null</td><td>&quot;100&quot;</td></tr><tr><td>&quot;WO000000482530…</td><td>&quot;Rechazado&quot;</td><td>null</td><td>&quot;100&quot;</td></tr><tr><td>&quot;WO000000485368…</td><td>&quot;Flat&quot;</td><td>&quot;ACCENTURE&quot;</td><td>&quot;100&quot;</td></tr><tr><td>&quot;WO000000492538…</td><td>&quot;Flat&quot;</td><td>&quot;ACCENTURE&quot;</td><td>&quot;100&quot;</td></tr><tr><td>&quot;WO000000502490…</td><td>&quot;Flat&quot;</td><td>&quot;ACCENTURE&quot;</td><td>&quot;100&quot;</td></tr><tr><td>&quot;WO000000502497…</td><td>&quot;Flat&quot;</td><td>&quot;ACCENTURE&quot;</td><td>&quot;100&quot;</td></tr><tr><td>&hellip;</td><td>&hellip;</td><td>&hellip;</td><td>&hellip;</td></tr><tr><td>&quot;WO000000573716…</td><td>&quot;Flat&quot;</td><td>&quot;ACCENTURE&quot;</td><td>null</td></tr><tr><td>&quot;WO000000573750…</td><td>&quot;Variable&quot;</td><td>&quot;COORPORACION R…</td><td>null</td></tr><tr><td>&quot;WO000000573756…</td><td>&quot;Variable&quot;</td><td>null</td><td>null</td></tr><tr><td>&quot;WO000000573758…</td><td>&quot;Rechazado&quot;</td><td>&quot;OTROS&quot;</td><td>null</td></tr><tr><td>&quot;WO000000573832…</td><td>&quot;Variable&quot;</td><td>&quot;TRAZAIDEA&quot;</td><td>null</td></tr><tr><td>&quot;WO000000573833…</td><td>&quot;Variable&quot;</td><td>&quot;PROSEGUR&quot;</td><td>null</td></tr><tr><td>&quot;WO000000573834…</td><td>&quot;Rechazado&quot;</td><td>&quot;OTROS&quot;</td><td>null</td></tr><tr><td>&quot;WO000000573834…</td><td>&quot;Rechazado&quot;</td><td>&quot;OTROS&quot;</td><td>null</td></tr><tr><td>&quot;WO000000573870…</td><td>&quot;Variable&quot;</td><td>&quot;PROSEGUR&quot;</td><td>null</td></tr><tr><td>&quot;WO000000573870…</td><td>&quot;Variable&quot;</td><td>&quot;COORPORACION R…</td><td>null</td></tr><tr><td>&quot;WO000000573871…</td><td>&quot;Variable&quot;</td><td>&quot;PROSEGUR&quot;</td><td>null</td></tr><tr><td>&quot;WO000000573872…</td><td>&quot;Flat&quot;</td><td>&quot;ACCENTURE&quot;</td><td>null</td></tr></tbody></table></div>"
      ],
      "text/plain": [
       "shape: (22_717, 4)\n",
       "┌─────────────────┬────────────────┬──────────────────┬────────────────┐\n",
       "│ Numero Ticket   ┆ Tipo de Ticket ┆ Proveedor        ┆ Costo Atencion │\n",
       "│ ---             ┆ ---            ┆ ---              ┆ ---            │\n",
       "│ str             ┆ str            ┆ str              ┆ str            │\n",
       "╞═════════════════╪════════════════╪══════════════════╪════════════════╡\n",
       "│ WO0000005584689 ┆ Variable       ┆ MR EXPRESS       ┆ null           │\n",
       "│ WO0000004544943 ┆ Rechazado      ┆ null             ┆ 100            │\n",
       "│ WO0000004545246 ┆ Rechazado      ┆ null             ┆ 100            │\n",
       "│ WO0000004559125 ┆ Rechazado      ┆ null             ┆ 100            │\n",
       "│ WO0000004707477 ┆ Rechazado      ┆ null             ┆ 100            │\n",
       "│ …               ┆ …              ┆ …                ┆ …              │\n",
       "│ WO0000005738348 ┆ Rechazado      ┆ OTROS            ┆ null           │\n",
       "│ WO0000005738704 ┆ Variable       ┆ PROSEGUR         ┆ null           │\n",
       "│ WO0000005738705 ┆ Variable       ┆ COORPORACION R&M ┆ null           │\n",
       "│ WO0000005738715 ┆ Variable       ┆ PROSEGUR         ┆ null           │\n",
       "│ WO0000005738721 ┆ Flat           ┆ ACCENTURE        ┆ null           │\n",
       "└─────────────────┴────────────────┴──────────────────┴────────────────┘"
      ]
     },
     "execution_count": 18,
     "metadata": {},
     "output_type": "execute_result"
    }
   ],
   "source": [
    "import os\n",
    "from xlsx2csv import Xlsx2csv\n",
    "#Importar excels de manera masiva?\n",
    "dataframes_xlsx = []\n",
    "directorio=\"./Atenciones\"\n",
    "#excelss=pl.read_excel(source=\"C:/Users/ycruz003/Desktop/pythonETL/Gestion Atenciones/Atenciones/Atenciones_Centro.xlsx\")\n",
    "dtypes = {\n",
    "    \"Numero Ticket\": pl.Utf8,\n",
    "    \"Tipo de Ticket\": pl.Utf8,\n",
    "    \"Proveedor\": pl.Utf8,  # Agregar la columna \"COSTO CERO\" y su tipo de dato\n",
    "    \"Costo Atencion\":pl.Utf8\n",
    "}\n",
    "null_values = [\"\", \"NA\", \"N/A\", \"null\", \"NaN\", \"None\", \"COSTO CERO\"]\n",
    "\n",
    "for archivo in os.listdir(directorio):\n",
    "    if archivo.endswith('.xlsx'):\n",
    "        # Ruta completa del archivo Excel\n",
    "        ruta_excel = os.path.join(directorio, archivo)\n",
    "        # Nombre del archivo CSV (mismo nombre pero con extensión .csv)\n",
    "        nombre_csv = os.path.splitext(archivo)[0] + '.csv'\n",
    "        # Ruta completa del archivo CSV\n",
    "        ruta_csv = os.path.join(directorio, nombre_csv)\n",
    "        # Convertir el archivo Excel a CSV con xlsx2csv\n",
    "        Xlsx2csv(ruta_excel, outputencoding=\"utf-8\").convert(ruta_csv)\n",
    "        # Leer el archivo CSV con Polars\n",
    "        df_csv = pl.read_csv(ruta_csv, columns=[\"Numero Ticket\", \"Tipo de Ticket\", \"Proveedor\",\"Costo Atencion\"],dtypes=dtypes, ignore_errors=True, null_values=null_values)\n",
    "        # Agregar el DataFrame a la lista\n",
    "        dataframes_xlsx.append(df_csv)\n",
    "\n",
    "# Concatenar todos los DataFrames en uno solo\n",
    "df_atenciones = pl.concat(dataframes_xlsx)\n",
    "df_atenciones\n"
   ]
  },
  {
   "cell_type": "code",
   "execution_count": 19,
   "metadata": {},
   "outputs": [
    {
     "data": {
      "text/html": [
       "<div><style>\n",
       ".dataframe > thead > tr,\n",
       ".dataframe > tbody > tr {\n",
       "  text-align: right;\n",
       "  white-space: pre-wrap;\n",
       "}\n",
       "</style>\n",
       "<small>shape: (22_717, 4)</small><table border=\"1\" class=\"dataframe\"><thead><tr><th>TicketID</th><th>Tipo de Ticket</th><th>Proveedor</th><th>Costo Atencion</th></tr><tr><td>str</td><td>str</td><td>str</td><td>str</td></tr></thead><tbody><tr><td>&quot;WO000000412230…</td><td>&quot;Flat&quot;</td><td>&quot;ACCENTURE&quot;</td><td>null</td></tr><tr><td>&quot;WO000000412230…</td><td>&quot;Flat&quot;</td><td>&quot;ACCENTURE&quot;</td><td>null</td></tr><tr><td>&quot;WO000000412235…</td><td>&quot;Flat&quot;</td><td>&quot;ACCENTURE&quot;</td><td>null</td></tr><tr><td>&quot;WO000000412236…</td><td>&quot;Flat&quot;</td><td>&quot;ACCENTURE&quot;</td><td>null</td></tr><tr><td>&quot;WO000000412238…</td><td>&quot;Rechazado&quot;</td><td>null</td><td>null</td></tr><tr><td>&quot;WO000000412240…</td><td>&quot;Flat&quot;</td><td>&quot;ACCENTURE&quot;</td><td>null</td></tr><tr><td>&quot;WO000000412241…</td><td>&quot;Rechazado&quot;</td><td>null</td><td>null</td></tr><tr><td>&quot;WO000000412242…</td><td>&quot;Variable&quot;</td><td>&quot;PROSEGUR&quot;</td><td>null</td></tr><tr><td>&quot;WO000000412244…</td><td>&quot;Variable&quot;</td><td>&quot;PROSEGUR&quot;</td><td>null</td></tr><tr><td>&quot;WO000000412245…</td><td>&quot;Variable&quot;</td><td>&quot;PROSEGUR&quot;</td><td>null</td></tr><tr><td>&quot;WO000000412250…</td><td>&quot;Flat&quot;</td><td>&quot;ACCENTURE&quot;</td><td>null</td></tr><tr><td>&quot;WO000000412251…</td><td>&quot;Variable&quot;</td><td>&quot;PROSEGUR&quot;</td><td>null</td></tr><tr><td>&hellip;</td><td>&hellip;</td><td>&hellip;</td><td>&hellip;</td></tr><tr><td>&quot;WO000000573832…</td><td>&quot;Variable&quot;</td><td>&quot;TRAZAIDEA&quot;</td><td>null</td></tr><tr><td>&quot;WO000000573833…</td><td>&quot;Variable&quot;</td><td>&quot;PROSEGUR&quot;</td><td>null</td></tr><tr><td>&quot;WO000000573834…</td><td>&quot;Rechazado&quot;</td><td>&quot;OTROS&quot;</td><td>null</td></tr><tr><td>&quot;WO000000573834…</td><td>&quot;Rechazado&quot;</td><td>&quot;OTROS&quot;</td><td>null</td></tr><tr><td>&quot;WO000000573870…</td><td>&quot;Variable&quot;</td><td>&quot;PROSEGUR&quot;</td><td>null</td></tr><tr><td>&quot;WO000000573870…</td><td>&quot;Variable&quot;</td><td>&quot;COORPORACION R…</td><td>null</td></tr><tr><td>&quot;WO000000573870…</td><td>&quot;Variable&quot;</td><td>&quot;ACCENTURE&quot;</td><td>null</td></tr><tr><td>&quot;WO000000573870…</td><td>&quot;Variable&quot;</td><td>&quot;COORPORACION R…</td><td>null</td></tr><tr><td>&quot;WO000000573871…</td><td>&quot;Variable&quot;</td><td>&quot;PROSEGUR&quot;</td><td>null</td></tr><tr><td>&quot;WO000000573872…</td><td>&quot;Flat&quot;</td><td>&quot;ACCENTURE&quot;</td><td>null</td></tr><tr><td>&quot;WO000000573872…</td><td>&quot;Variable&quot;</td><td>&quot;ACCENTURE&quot;</td><td>null</td></tr><tr><td>&quot;WO000000573872…</td><td>&quot;Variable&quot;</td><td>&quot;ACCENTURE&quot;</td><td>null</td></tr></tbody></table></div>"
      ],
      "text/plain": [
       "shape: (22_717, 4)\n",
       "┌─────────────────┬────────────────┬──────────────────┬────────────────┐\n",
       "│ TicketID        ┆ Tipo de Ticket ┆ Proveedor        ┆ Costo Atencion │\n",
       "│ ---             ┆ ---            ┆ ---              ┆ ---            │\n",
       "│ str             ┆ str            ┆ str              ┆ str            │\n",
       "╞═════════════════╪════════════════╪══════════════════╪════════════════╡\n",
       "│ WO0000004122302 ┆ Flat           ┆ ACCENTURE        ┆ null           │\n",
       "│ WO0000004122303 ┆ Flat           ┆ ACCENTURE        ┆ null           │\n",
       "│ WO0000004122353 ┆ Flat           ┆ ACCENTURE        ┆ null           │\n",
       "│ WO0000004122360 ┆ Flat           ┆ ACCENTURE        ┆ null           │\n",
       "│ WO0000004122387 ┆ Rechazado      ┆ null             ┆ null           │\n",
       "│ …               ┆ …              ┆ …                ┆ …              │\n",
       "│ WO0000005738709 ┆ Variable       ┆ COORPORACION R&M ┆ null           │\n",
       "│ WO0000005738715 ┆ Variable       ┆ PROSEGUR         ┆ null           │\n",
       "│ WO0000005738721 ┆ Flat           ┆ ACCENTURE        ┆ null           │\n",
       "│ WO0000005738726 ┆ Variable       ┆ ACCENTURE        ┆ null           │\n",
       "│ WO0000005738729 ┆ Variable       ┆ ACCENTURE        ┆ null           │\n",
       "└─────────────────┴────────────────┴──────────────────┴────────────────┘"
      ]
     },
     "execution_count": 19,
     "metadata": {},
     "output_type": "execute_result"
    }
   ],
   "source": [
    "# Cambiar el tipo\n",
    "df_atenciones=df_atenciones.select( pl.col(\"Numero Ticket\").alias(\"TicketID\"), *df_atenciones.drop(\"Numero Ticket\"))\n",
    "df_atenciones.sort(\"TicketID\")"
   ]
  },
  {
   "cell_type": "code",
   "execution_count": 20,
   "metadata": {},
   "outputs": [
    {
     "data": {
      "text/html": [
       "<div><style>\n",
       ".dataframe > thead > tr,\n",
       ".dataframe > tbody > tr {\n",
       "  text-align: right;\n",
       "  white-space: pre-wrap;\n",
       "}\n",
       "</style>\n",
       "<small>shape: (22_717, 4)</small><table border=\"1\" class=\"dataframe\"><thead><tr><th>TicketID</th><th>Tipo de Ticket</th><th>Proveedor</th><th>Costo Atencion</th></tr><tr><td>str</td><td>str</td><td>str</td><td>f64</td></tr></thead><tbody><tr><td>&quot;WO000000558468…</td><td>&quot;Variable&quot;</td><td>&quot;MR EXPRESS&quot;</td><td>null</td></tr><tr><td>&quot;WO000000454494…</td><td>&quot;Rechazado&quot;</td><td>null</td><td>100.0</td></tr><tr><td>&quot;WO000000454524…</td><td>&quot;Rechazado&quot;</td><td>null</td><td>100.0</td></tr><tr><td>&quot;WO000000455912…</td><td>&quot;Rechazado&quot;</td><td>null</td><td>100.0</td></tr><tr><td>&quot;WO000000470747…</td><td>&quot;Rechazado&quot;</td><td>null</td><td>100.0</td></tr><tr><td>&quot;WO000000475997…</td><td>&quot;Rechazado&quot;</td><td>null</td><td>100.0</td></tr><tr><td>&quot;WO000000479587…</td><td>&quot;Rechazado&quot;</td><td>null</td><td>100.0</td></tr><tr><td>&quot;WO000000482530…</td><td>&quot;Rechazado&quot;</td><td>null</td><td>100.0</td></tr><tr><td>&quot;WO000000485368…</td><td>&quot;Flat&quot;</td><td>&quot;ACCENTURE&quot;</td><td>100.0</td></tr><tr><td>&quot;WO000000492538…</td><td>&quot;Flat&quot;</td><td>&quot;ACCENTURE&quot;</td><td>100.0</td></tr><tr><td>&quot;WO000000502490…</td><td>&quot;Flat&quot;</td><td>&quot;ACCENTURE&quot;</td><td>100.0</td></tr><tr><td>&quot;WO000000502497…</td><td>&quot;Flat&quot;</td><td>&quot;ACCENTURE&quot;</td><td>100.0</td></tr><tr><td>&hellip;</td><td>&hellip;</td><td>&hellip;</td><td>&hellip;</td></tr><tr><td>&quot;WO000000573716…</td><td>&quot;Flat&quot;</td><td>&quot;ACCENTURE&quot;</td><td>null</td></tr><tr><td>&quot;WO000000573750…</td><td>&quot;Variable&quot;</td><td>&quot;COORPORACION R…</td><td>null</td></tr><tr><td>&quot;WO000000573756…</td><td>&quot;Variable&quot;</td><td>null</td><td>null</td></tr><tr><td>&quot;WO000000573758…</td><td>&quot;Rechazado&quot;</td><td>&quot;OTROS&quot;</td><td>null</td></tr><tr><td>&quot;WO000000573832…</td><td>&quot;Variable&quot;</td><td>&quot;TRAZAIDEA&quot;</td><td>null</td></tr><tr><td>&quot;WO000000573833…</td><td>&quot;Variable&quot;</td><td>&quot;PROSEGUR&quot;</td><td>null</td></tr><tr><td>&quot;WO000000573834…</td><td>&quot;Rechazado&quot;</td><td>&quot;OTROS&quot;</td><td>null</td></tr><tr><td>&quot;WO000000573834…</td><td>&quot;Rechazado&quot;</td><td>&quot;OTROS&quot;</td><td>null</td></tr><tr><td>&quot;WO000000573870…</td><td>&quot;Variable&quot;</td><td>&quot;PROSEGUR&quot;</td><td>null</td></tr><tr><td>&quot;WO000000573870…</td><td>&quot;Variable&quot;</td><td>&quot;COORPORACION R…</td><td>null</td></tr><tr><td>&quot;WO000000573871…</td><td>&quot;Variable&quot;</td><td>&quot;PROSEGUR&quot;</td><td>null</td></tr><tr><td>&quot;WO000000573872…</td><td>&quot;Flat&quot;</td><td>&quot;ACCENTURE&quot;</td><td>null</td></tr></tbody></table></div>"
      ],
      "text/plain": [
       "shape: (22_717, 4)\n",
       "┌─────────────────┬────────────────┬──────────────────┬────────────────┐\n",
       "│ TicketID        ┆ Tipo de Ticket ┆ Proveedor        ┆ Costo Atencion │\n",
       "│ ---             ┆ ---            ┆ ---              ┆ ---            │\n",
       "│ str             ┆ str            ┆ str              ┆ f64            │\n",
       "╞═════════════════╪════════════════╪══════════════════╪════════════════╡\n",
       "│ WO0000005584689 ┆ Variable       ┆ MR EXPRESS       ┆ null           │\n",
       "│ WO0000004544943 ┆ Rechazado      ┆ null             ┆ 100.0          │\n",
       "│ WO0000004545246 ┆ Rechazado      ┆ null             ┆ 100.0          │\n",
       "│ WO0000004559125 ┆ Rechazado      ┆ null             ┆ 100.0          │\n",
       "│ WO0000004707477 ┆ Rechazado      ┆ null             ┆ 100.0          │\n",
       "│ …               ┆ …              ┆ …                ┆ …              │\n",
       "│ WO0000005738348 ┆ Rechazado      ┆ OTROS            ┆ null           │\n",
       "│ WO0000005738704 ┆ Variable       ┆ PROSEGUR         ┆ null           │\n",
       "│ WO0000005738705 ┆ Variable       ┆ COORPORACION R&M ┆ null           │\n",
       "│ WO0000005738715 ┆ Variable       ┆ PROSEGUR         ┆ null           │\n",
       "│ WO0000005738721 ┆ Flat           ┆ ACCENTURE        ┆ null           │\n",
       "└─────────────────┴────────────────┴──────────────────┴────────────────┘"
      ]
     },
     "execution_count": 20,
     "metadata": {},
     "output_type": "execute_result"
    }
   ],
   "source": [
    "# Uppercase a Costo Atencion\n",
    "df_atenciones=df_atenciones.with_columns(pl.col(\"Costo Atencion\").str.to_uppercase())\n",
    "\n",
    "df_atenciones=df_atenciones.with_columns(pl.col(\"Costo Atencion\").str.replace(',','.'))\n",
    "\n",
    "df_atenciones = df_atenciones.with_columns(\n",
    "    (pl.when(df_atenciones['Costo Atencion'] == 'SIN COSTO').then(pl.lit('0')).otherwise(df_atenciones['Costo Atencion'])).alias(\"Costo Atencion\"),\n",
    "    \n",
    ")\n",
    "df_atenciones = df_atenciones.with_columns(\n",
    "    (pl.when(df_atenciones['Costo Atencion'] == 'COSTO CERO').then(pl.lit('0')).otherwise(df_atenciones['Costo Atencion'])).alias(\"Costo Atencion\")\n",
    ")\n",
    "\n",
    "# Convertir a decimal Costo Atencion\n",
    "df_atenciones=df_atenciones.cast({\"Costo Atencion\":pl.Float64}, strict=False)\n",
    "df_atenciones"
   ]
  },
  {
   "cell_type": "code",
   "execution_count": 21,
   "metadata": {},
   "outputs": [
    {
     "data": {
      "text/html": [
       "<div><style>\n",
       ".dataframe > thead > tr,\n",
       ".dataframe > tbody > tr {\n",
       "  text-align: right;\n",
       "  white-space: pre-wrap;\n",
       "}\n",
       "</style>\n",
       "<small>shape: (22_646, 4)</small><table border=\"1\" class=\"dataframe\"><thead><tr><th>TicketID</th><th>Tipo de Ticket</th><th>Proveedor</th><th>Costo Atencion</th></tr><tr><td>str</td><td>str</td><td>str</td><td>f64</td></tr></thead><tbody><tr><td>&quot;WO000000536311…</td><td>&quot;Variable&quot;</td><td>&quot;ACCENTURE&quot;</td><td>100.0</td></tr><tr><td>&quot;WO000000539853…</td><td>&quot;Flat&quot;</td><td>&quot;ACCENTURE&quot;</td><td>100.0</td></tr><tr><td>&quot;WO000000551838…</td><td>&quot;Flat&quot;</td><td>&quot;ACCENTURE&quot;</td><td>100.0</td></tr><tr><td>&quot;WO000000559616…</td><td>&quot;Flat&quot;</td><td>&quot;ACCENTURE&quot;</td><td>100.0</td></tr><tr><td>&quot;WO000000533136…</td><td>&quot;Emergencia&quot;</td><td>&quot;PUNTO CONTROL …</td><td>1026.6</td></tr><tr><td>&quot;WO000000552300…</td><td>&quot;Emergencia&quot;</td><td>&quot;PUNTO CONTROL …</td><td>1028.37</td></tr><tr><td>&quot;WO000000507411…</td><td>&quot;Variable&quot;</td><td>&quot;COORPORACION R…</td><td>103.84</td></tr><tr><td>&quot;WO000000530592…</td><td>&quot;Flat&quot;</td><td>&quot;ACCENTURE&quot;</td><td>105.0</td></tr><tr><td>&quot;WO000000554546…</td><td>&quot;Variable&quot;</td><td>&quot;GOICOCHEA MADI…</td><td>106.2</td></tr><tr><td>&quot;WO000000538437…</td><td>&quot;Variable&quot;</td><td>&quot;ACCENTURE&quot;</td><td>1067.85</td></tr><tr><td>&quot;WO000000569874…</td><td>&quot;Variable&quot;</td><td>&quot;CECHRIZA&quot;</td><td>1093.27</td></tr><tr><td>&quot;WO000000474138…</td><td>&quot;Rechazado&quot;</td><td>null</td><td>110.0</td></tr><tr><td>&hellip;</td><td>&hellip;</td><td>&hellip;</td><td>&hellip;</td></tr><tr><td>&quot;WO000000572075…</td><td>&quot;Rechazado&quot;</td><td>&quot;OTROS&quot;</td><td>null</td></tr><tr><td>&quot;WO000000572245…</td><td>&quot;Flat&quot;</td><td>&quot;ACCENTURE&quot;</td><td>null</td></tr><tr><td>&quot;WO000000572287…</td><td>&quot;Variable&quot;</td><td>&quot;COORPORACION R…</td><td>2092.75</td></tr><tr><td>&quot;WO000000572287…</td><td>&quot;Flat&quot;</td><td>&quot;ACCENTURE&quot;</td><td>null</td></tr><tr><td>&quot;WO000000572820…</td><td>&quot;Controlador&quot;</td><td>&quot;ACCENTURE&quot;</td><td>null</td></tr><tr><td>&quot;WO000000572979…</td><td>&quot;Variable&quot;</td><td>&quot;TRAZAIDEA&quot;</td><td>53.1</td></tr><tr><td>&quot;WO000000573134…</td><td>&quot;Flat&quot;</td><td>&quot;ACCENTURE&quot;</td><td>null</td></tr><tr><td>&quot;WO000000573389…</td><td>&quot;Emergencia&quot;</td><td>null</td><td>null</td></tr><tr><td>&quot;WO000000573416…</td><td>&quot;Flat&quot;</td><td>&quot;ACCENTURE&quot;</td><td>null</td></tr><tr><td>&quot;WO000000573712…</td><td>&quot;Variable&quot;</td><td>&quot;TRAZAIDEA&quot;</td><td>null</td></tr><tr><td>&quot;WO000000573750…</td><td>&quot;Variable&quot;</td><td>&quot;COORPORACION R…</td><td>null</td></tr><tr><td>&quot;WO000000573834…</td><td>&quot;Rechazado&quot;</td><td>&quot;OTROS&quot;</td><td>null</td></tr></tbody></table></div>"
      ],
      "text/plain": [
       "shape: (22_646, 4)\n",
       "┌─────────────────┬────────────────┬─────────────────────────┬────────────────┐\n",
       "│ TicketID        ┆ Tipo de Ticket ┆ Proveedor               ┆ Costo Atencion │\n",
       "│ ---             ┆ ---            ┆ ---                     ┆ ---            │\n",
       "│ str             ┆ str            ┆ str                     ┆ f64            │\n",
       "╞═════════════════╪════════════════╪═════════════════════════╪════════════════╡\n",
       "│ WO0000005363116 ┆ Variable       ┆ ACCENTURE               ┆ 100.0          │\n",
       "│ WO0000005398536 ┆ Flat           ┆ ACCENTURE               ┆ 100.0          │\n",
       "│ WO0000005518382 ┆ Flat           ┆ ACCENTURE               ┆ 100.0          │\n",
       "│ WO0000005596165 ┆ Flat           ┆ ACCENTURE               ┆ 100.0          │\n",
       "│ WO0000005331364 ┆ Emergencia     ┆ PUNTO CONTROL AMBIENTAL ┆ 1026.6         │\n",
       "│ …               ┆ …              ┆ …                       ┆ …              │\n",
       "│ WO0000005733892 ┆ Emergencia     ┆ null                    ┆ null           │\n",
       "│ WO0000005734169 ┆ Flat           ┆ ACCENTURE               ┆ null           │\n",
       "│ WO0000005737120 ┆ Variable       ┆ TRAZAIDEA               ┆ null           │\n",
       "│ WO0000005737503 ┆ Variable       ┆ COORPORACION R&M        ┆ null           │\n",
       "│ WO0000005738345 ┆ Rechazado      ┆ OTROS                   ┆ null           │\n",
       "└─────────────────┴────────────────┴─────────────────────────┴────────────────┘"
      ]
     },
     "execution_count": 21,
     "metadata": {},
     "output_type": "execute_result"
    }
   ],
   "source": [
    "df_atenciones=df_atenciones.group_by(\"*\").agg(pl.col(\"*\").unique())\n",
    "df_atenciones"
   ]
  },
  {
   "cell_type": "code",
   "execution_count": 22,
   "metadata": {},
   "outputs": [
    {
     "data": {
      "text/html": [
       "<div><style>\n",
       ".dataframe > thead > tr,\n",
       ".dataframe > tbody > tr {\n",
       "  text-align: right;\n",
       "  white-space: pre-wrap;\n",
       "}\n",
       "</style>\n",
       "<small>shape: (22_646, 15)</small><table border=\"1\" class=\"dataframe\"><thead><tr><th>TicketID</th><th>Tipo de Ticket</th><th>Proveedor</th><th>Costo Atencion</th><th>Ubicacion</th><th>Service Desk</th><th>Estado</th><th>Fecha Creacion</th><th>Fecha Termino</th><th>Fecha Cierre</th><th>Agencia</th><th>AgenciaID</th><th>Fecha Real Fin</th><th>Dias Cierre</th><th>Grupo Dias</th></tr><tr><td>str</td><td>str</td><td>str</td><td>f64</td><td>str</td><td>str</td><td>str</td><td>date</td><td>date</td><td>date</td><td>str</td><td>i64</td><td>date</td><td>i64</td><td>str</td></tr></thead><tbody><tr><td>&quot;WO000000536311…</td><td>&quot;Variable&quot;</td><td>&quot;ACCENTURE&quot;</td><td>100.0</td><td>&quot;TARAPACA - 191…</td><td>&quot;Zona Centro&quot;</td><td>&quot;Cerrado&quot;</td><td>2023-07-01</td><td>2023-07-07</td><td>2023-07-10</td><td>&quot;TARAPACA &quot;</td><td>191030</td><td>2023-07-07</td><td>6</td><td>&quot;4 a 7 días&quot;</td></tr><tr><td>&quot;WO000000539853…</td><td>&quot;Flat&quot;</td><td>&quot;ACCENTURE&quot;</td><td>100.0</td><td>&quot;PLAZA LIMA NOR…</td><td>&quot;Zona Centro&quot;</td><td>&quot;Cerrado&quot;</td><td>2023-07-13</td><td>2023-07-15</td><td>2023-07-18</td><td>&quot;PLAZA LIMA NOR…</td><td>191058</td><td>2023-07-15</td><td>2</td><td>&quot;0 a 3 días&quot;</td></tr><tr><td>&quot;WO000000551838…</td><td>&quot;Flat&quot;</td><td>&quot;ACCENTURE&quot;</td><td>100.0</td><td>&quot;SAN MARTIN DE …</td><td>&quot;Zona Centro&quot;</td><td>&quot;Cerrado&quot;</td><td>2023-08-20</td><td>2023-08-21</td><td>2023-08-24</td><td>&quot;SAN MARTIN DE …</td><td>191021</td><td>2023-08-21</td><td>1</td><td>&quot;0 a 3 días&quot;</td></tr><tr><td>&quot;WO000000559616…</td><td>&quot;Flat&quot;</td><td>&quot;ACCENTURE&quot;</td><td>100.0</td><td>&quot;URB SAN FELIPE…</td><td>&quot;Zona Centro&quot;</td><td>&quot;Cerrado&quot;</td><td>2023-09-11</td><td>2023-09-17</td><td>2023-09-20</td><td>&quot;URB SAN FELIPE…</td><td>191053</td><td>2023-09-17</td><td>6</td><td>&quot;4 a 7 días&quot;</td></tr><tr><td>&quot;WO000000533136…</td><td>&quot;Emergencia&quot;</td><td>&quot;PUNTO CONTROL …</td><td>1026.6</td><td>&quot;PLAZA LIMA NOR…</td><td>&quot;Zona Centro&quot;</td><td>&quot;Cerrado&quot;</td><td>2023-06-19</td><td>2023-06-30</td><td>2023-07-03</td><td>&quot;PLAZA LIMA NOR…</td><td>191058</td><td>2023-06-30</td><td>11</td><td>&quot;8 a 15 días&quot;</td></tr><tr><td>&quot;WO000000552300…</td><td>&quot;Emergencia&quot;</td><td>&quot;PUNTO CONTROL …</td><td>1028.37</td><td>&quot;PLAZA LIMA NOR…</td><td>&quot;Zona Centro&quot;</td><td>&quot;Cerrado&quot;</td><td>2023-08-21</td><td>2023-08-27</td><td>2023-08-30</td><td>&quot;PLAZA LIMA NOR…</td><td>191058</td><td>2023-08-27</td><td>6</td><td>&quot;4 a 7 días&quot;</td></tr><tr><td>&quot;WO000000507411…</td><td>&quot;Variable&quot;</td><td>&quot;COORPORACION R…</td><td>103.84</td><td>&quot;MINI AGENCIA B…</td><td>&quot;Zona Centro&quot;</td><td>&quot;Cerrado&quot;</td><td>2023-03-11</td><td>2023-04-15</td><td>2023-04-18</td><td>&quot;MINI AGENCIA B…</td><td>191090</td><td>2023-04-15</td><td>35</td><td>&quot;+15 días&quot;</td></tr><tr><td>&quot;WO000000530592…</td><td>&quot;Flat&quot;</td><td>&quot;ACCENTURE&quot;</td><td>105.0</td><td>&quot;NARANJAL - 191…</td><td>&quot;Zona Centro&quot;</td><td>&quot;Cerrado&quot;</td><td>2023-06-11</td><td>2023-06-15</td><td>2023-06-18</td><td>&quot;NARANJAL &quot;</td><td>191141</td><td>2023-06-15</td><td>4</td><td>&quot;4 a 7 días&quot;</td></tr><tr><td>&quot;WO000000554546…</td><td>&quot;Variable&quot;</td><td>&quot;GOICOCHEA MADI…</td><td>106.2</td><td>&quot;NAYLAMP - 1911…</td><td>&quot;Zona Centro&quot;</td><td>&quot;Cerrado&quot;</td><td>2023-08-27</td><td>2023-09-02</td><td>2023-09-05</td><td>&quot;NAYLAMP &quot;</td><td>191143</td><td>2023-09-02</td><td>6</td><td>&quot;4 a 7 días&quot;</td></tr><tr><td>&quot;WO000000538437…</td><td>&quot;Variable&quot;</td><td>&quot;ACCENTURE&quot;</td><td>1067.85</td><td>&quot;PUENTE PIEDRA …</td><td>&quot;Zona Centro&quot;</td><td>&quot;Cerrado&quot;</td><td>2023-07-07</td><td>2023-07-22</td><td>2023-07-24</td><td>&quot;PUENTE PIEDRA …</td><td>191035</td><td>2023-07-22</td><td>15</td><td>&quot;8 a 15 días&quot;</td></tr><tr><td>&quot;WO000000569874…</td><td>&quot;Variable&quot;</td><td>&quot;CECHRIZA&quot;</td><td>1093.27</td><td>&quot;PLAZA CIVICA V…</td><td>&quot;Zona Centro&quot;</td><td>&quot;Cerrado&quot;</td><td>2023-10-15</td><td>2023-10-21</td><td>2023-10-24</td><td>&quot;PLAZA CIVICA V…</td><td>192026</td><td>2023-10-21</td><td>6</td><td>&quot;4 a 7 días&quot;</td></tr><tr><td>&quot;WO000000474138…</td><td>&quot;Rechazado&quot;</td><td>null</td><td>110.0</td><td>&quot;TUPAC AMARU - …</td><td>&quot;Zona Centro&quot;</td><td>&quot;Rechazado&quot;</td><td>2022-11-20</td><td>null</td><td>null</td><td>&quot;TUPAC AMARU &quot;</td><td>191038</td><td>null</td><td>null</td><td>null</td></tr><tr><td>&hellip;</td><td>&hellip;</td><td>&hellip;</td><td>&hellip;</td><td>&hellip;</td><td>&hellip;</td><td>&hellip;</td><td>&hellip;</td><td>&hellip;</td><td>&hellip;</td><td>&hellip;</td><td>&hellip;</td><td>&hellip;</td><td>&hellip;</td><td>&hellip;</td></tr><tr><td>&quot;WO000000572075…</td><td>&quot;Rechazado&quot;</td><td>&quot;OTROS&quot;</td><td>null</td><td>&quot;AYACUCHO - 220…</td><td>&quot;Zona Sur&quot;</td><td>&quot;Rechazado&quot;</td><td>2023-10-23</td><td>null</td><td>null</td><td>&quot;AYACUCHO &quot;</td><td>220000</td><td>null</td><td>null</td><td>null</td></tr><tr><td>&quot;WO000000572245…</td><td>&quot;Flat&quot;</td><td>&quot;ACCENTURE&quot;</td><td>null</td><td>&quot;LOS RUISEÑORES…</td><td>&quot;Zona Sur&quot;</td><td>&quot;En curso&quot;</td><td>2023-10-23</td><td>null</td><td>null</td><td>&quot;LOS RUISEÑORES…</td><td>191115</td><td>null</td><td>null</td><td>null</td></tr><tr><td>&quot;WO000000572287…</td><td>&quot;Variable&quot;</td><td>&quot;COORPORACION R…</td><td>2092.75</td><td>&quot;ALFONSO UGARTE…</td><td>&quot;Zona Sur&quot;</td><td>&quot;En curso&quot;</td><td>2023-10-23</td><td>null</td><td>null</td><td>&quot;ALFONSO UGARTE…</td><td>191089</td><td>null</td><td>null</td><td>null</td></tr><tr><td>&quot;WO000000572287…</td><td>&quot;Flat&quot;</td><td>&quot;ACCENTURE&quot;</td><td>null</td><td>&quot;VENEZUELA - 19…</td><td>&quot;Zona Sur&quot;</td><td>&quot;Rechazado&quot;</td><td>2023-10-23</td><td>2023-10-29</td><td>2023-10-29</td><td>&quot;VENEZUELA &quot;</td><td>191026</td><td>2023-10-29</td><td>6</td><td>&quot;4 a 7 días&quot;</td></tr><tr><td>&quot;WO000000572820…</td><td>&quot;Controlador&quot;</td><td>&quot;ACCENTURE&quot;</td><td>null</td><td>&quot;LUREN - 380004…</td><td>&quot;Zona Sur&quot;</td><td>&quot;En curso&quot;</td><td>2023-10-26</td><td>null</td><td>null</td><td>&quot;LUREN &quot;</td><td>380004</td><td>null</td><td>null</td><td>null</td></tr><tr><td>&quot;WO000000572979…</td><td>&quot;Variable&quot;</td><td>&quot;TRAZAIDEA&quot;</td><td>53.1</td><td>&quot;VENEZUELA - 19…</td><td>&quot;Zona Sur&quot;</td><td>&quot;En curso&quot;</td><td>2023-10-27</td><td>null</td><td>null</td><td>&quot;VENEZUELA &quot;</td><td>191026</td><td>null</td><td>null</td><td>null</td></tr><tr><td>&quot;WO000000573134…</td><td>&quot;Flat&quot;</td><td>&quot;ACCENTURE&quot;</td><td>null</td><td>&quot;ALFONSO UGARTE…</td><td>&quot;Zona Sur&quot;</td><td>&quot;Terminado&quot;</td><td>2023-10-27</td><td>2023-10-29</td><td>2023-10-29</td><td>&quot;ALFONSO UGARTE…</td><td>191089</td><td>2023-10-29</td><td>2</td><td>&quot;0 a 3 días&quot;</td></tr><tr><td>&quot;WO000000573389…</td><td>&quot;Emergencia&quot;</td><td>null</td><td>null</td><td>&quot;LOS DAMASCOS -…</td><td>&quot;Zona Sur&quot;</td><td>&quot;En curso&quot;</td><td>2023-10-28</td><td>null</td><td>null</td><td>&quot;LOS DAMASCOS &quot;</td><td>193038</td><td>null</td><td>null</td><td>null</td></tr><tr><td>&quot;WO000000573416…</td><td>&quot;Flat&quot;</td><td>&quot;ACCENTURE&quot;</td><td>null</td><td>&quot;VITARTE - 1910…</td><td>&quot;Zona Sur&quot;</td><td>&quot;En curso&quot;</td><td>2023-10-28</td><td>null</td><td>null</td><td>&quot;VITARTE &quot;</td><td>191043</td><td>null</td><td>null</td><td>null</td></tr><tr><td>&quot;WO000000573712…</td><td>&quot;Variable&quot;</td><td>&quot;TRAZAIDEA&quot;</td><td>null</td><td>&quot;MESA REDONDA -…</td><td>&quot;Zona Sur&quot;</td><td>&quot;En curso&quot;</td><td>2023-10-29</td><td>null</td><td>null</td><td>&quot;MESA REDONDA &quot;</td><td>191069</td><td>null</td><td>null</td><td>null</td></tr><tr><td>&quot;WO000000573750…</td><td>&quot;Variable&quot;</td><td>&quot;COORPORACION R…</td><td>null</td><td>&quot;ICA - 380000&quot;</td><td>&quot;Zona Sur&quot;</td><td>&quot;En curso&quot;</td><td>2023-10-29</td><td>null</td><td>null</td><td>&quot;ICA &quot;</td><td>380000</td><td>null</td><td>null</td><td>null</td></tr><tr><td>&quot;WO000000573834…</td><td>&quot;Rechazado&quot;</td><td>&quot;OTROS&quot;</td><td>null</td><td>&quot;LA FONTANA - 1…</td><td>&quot;Zona Sur&quot;</td><td>&quot;Rechazado&quot;</td><td>2023-10-29</td><td>null</td><td>null</td><td>&quot;LA FONTANA &quot;</td><td>193054</td><td>null</td><td>null</td><td>null</td></tr></tbody></table></div>"
      ],
      "text/plain": [
       "shape: (22_646, 15)\n",
       "┌───────────┬───────────┬───────────┬───────────┬───┬───────────┬───────────┬───────────┬──────────┐\n",
       "│ TicketID  ┆ Tipo de   ┆ Proveedor ┆ Costo     ┆ … ┆ AgenciaID ┆ Fecha     ┆ Dias      ┆ Grupo    │\n",
       "│ ---       ┆ Ticket    ┆ ---       ┆ Atencion  ┆   ┆ ---       ┆ Real Fin  ┆ Cierre    ┆ Dias     │\n",
       "│ str       ┆ ---       ┆ str       ┆ ---       ┆   ┆ i64       ┆ ---       ┆ ---       ┆ ---      │\n",
       "│           ┆ str       ┆           ┆ f64       ┆   ┆           ┆ date      ┆ i64       ┆ str      │\n",
       "╞═══════════╪═══════════╪═══════════╪═══════════╪═══╪═══════════╪═══════════╪═══════════╪══════════╡\n",
       "│ WO0000005 ┆ Variable  ┆ ACCENTURE ┆ 100.0     ┆ … ┆ 191030    ┆ 2023-07-0 ┆ 6         ┆ 4 a 7    │\n",
       "│ 363116    ┆           ┆           ┆           ┆   ┆           ┆ 7         ┆           ┆ días     │\n",
       "│ WO0000005 ┆ Flat      ┆ ACCENTURE ┆ 100.0     ┆ … ┆ 191058    ┆ 2023-07-1 ┆ 2         ┆ 0 a 3    │\n",
       "│ 398536    ┆           ┆           ┆           ┆   ┆           ┆ 5         ┆           ┆ días     │\n",
       "│ WO0000005 ┆ Flat      ┆ ACCENTURE ┆ 100.0     ┆ … ┆ 191021    ┆ 2023-08-2 ┆ 1         ┆ 0 a 3    │\n",
       "│ 518382    ┆           ┆           ┆           ┆   ┆           ┆ 1         ┆           ┆ días     │\n",
       "│ WO0000005 ┆ Flat      ┆ ACCENTURE ┆ 100.0     ┆ … ┆ 191053    ┆ 2023-09-1 ┆ 6         ┆ 4 a 7    │\n",
       "│ 596165    ┆           ┆           ┆           ┆   ┆           ┆ 7         ┆           ┆ días     │\n",
       "│ WO0000005 ┆ Emergenci ┆ PUNTO     ┆ 1026.6    ┆ … ┆ 191058    ┆ 2023-06-3 ┆ 11        ┆ 8 a 15   │\n",
       "│ 331364    ┆ a         ┆ CONTROL   ┆           ┆   ┆           ┆ 0         ┆           ┆ días     │\n",
       "│           ┆           ┆ AMBIENTAL ┆           ┆   ┆           ┆           ┆           ┆          │\n",
       "│ …         ┆ …         ┆ …         ┆ …         ┆ … ┆ …         ┆ …         ┆ …         ┆ …        │\n",
       "│ WO0000005 ┆ Emergenci ┆ null      ┆ null      ┆ … ┆ 193038    ┆ null      ┆ null      ┆ null     │\n",
       "│ 733892    ┆ a         ┆           ┆           ┆   ┆           ┆           ┆           ┆          │\n",
       "│ WO0000005 ┆ Flat      ┆ ACCENTURE ┆ null      ┆ … ┆ 191043    ┆ null      ┆ null      ┆ null     │\n",
       "│ 734169    ┆           ┆           ┆           ┆   ┆           ┆           ┆           ┆          │\n",
       "│ WO0000005 ┆ Variable  ┆ TRAZAIDEA ┆ null      ┆ … ┆ 191069    ┆ null      ┆ null      ┆ null     │\n",
       "│ 737120    ┆           ┆           ┆           ┆   ┆           ┆           ┆           ┆          │\n",
       "│ WO0000005 ┆ Variable  ┆ COORPORAC ┆ null      ┆ … ┆ 380000    ┆ null      ┆ null      ┆ null     │\n",
       "│ 737503    ┆           ┆ ION R&M   ┆           ┆   ┆           ┆           ┆           ┆          │\n",
       "│ WO0000005 ┆ Rechazado ┆ OTROS     ┆ null      ┆ … ┆ 193054    ┆ null      ┆ null      ┆ null     │\n",
       "│ 738345    ┆           ┆           ┆           ┆   ┆           ┆           ┆           ┆          │\n",
       "└───────────┴───────────┴───────────┴───────────┴───┴───────────┴───────────┴───────────┴──────────┘"
      ]
     },
     "execution_count": 22,
     "metadata": {},
     "output_type": "execute_result"
    }
   ],
   "source": [
    "#Juntar los dos dataframes\n",
    "df_final=df_atenciones.join(df_tickets, on=\"TicketID\", how=\"inner\")\n",
    "df_final"
   ]
  },
  {
   "cell_type": "code",
   "execution_count": 23,
   "metadata": {},
   "outputs": [
    {
     "data": {
      "text/html": [
       "<div><style>\n",
       ".dataframe > thead > tr,\n",
       ".dataframe > tbody > tr {\n",
       "  text-align: right;\n",
       "  white-space: pre-wrap;\n",
       "}\n",
       "</style>\n",
       "<small>shape: (22_646, 10)</small><table border=\"1\" class=\"dataframe\"><thead><tr><th>TicketID</th><th>AgenciaID</th><th>Agencia</th><th>Service Desk</th><th>Estado</th><th>Fecha Creacion</th><th>Fecha Cierre</th><th>Grupo Dias</th><th>Tipo Ticket</th><th>Costo</th></tr><tr><td>str</td><td>i64</td><td>str</td><td>str</td><td>str</td><td>str</td><td>str</td><td>str</td><td>str</td><td>f64</td></tr></thead><tbody><tr><td>&quot;WO000000536311…</td><td>191030</td><td>&quot;TARAPACA &quot;</td><td>&quot;Zona Centro&quot;</td><td>&quot;Cerrado&quot;</td><td>&quot;01/07/2023&quot;</td><td>&quot;07/07/2023&quot;</td><td>&quot;4 a 7 días&quot;</td><td>&quot;Variable&quot;</td><td>100.0</td></tr><tr><td>&quot;WO000000539853…</td><td>191058</td><td>&quot;PLAZA LIMA NOR…</td><td>&quot;Zona Centro&quot;</td><td>&quot;Cerrado&quot;</td><td>&quot;13/07/2023&quot;</td><td>&quot;15/07/2023&quot;</td><td>&quot;0 a 3 días&quot;</td><td>&quot;Flat&quot;</td><td>100.0</td></tr><tr><td>&quot;WO000000551838…</td><td>191021</td><td>&quot;SAN MARTIN DE …</td><td>&quot;Zona Centro&quot;</td><td>&quot;Cerrado&quot;</td><td>&quot;20/08/2023&quot;</td><td>&quot;21/08/2023&quot;</td><td>&quot;0 a 3 días&quot;</td><td>&quot;Flat&quot;</td><td>100.0</td></tr><tr><td>&quot;WO000000559616…</td><td>191053</td><td>&quot;URB SAN FELIPE…</td><td>&quot;Zona Centro&quot;</td><td>&quot;Cerrado&quot;</td><td>&quot;11/09/2023&quot;</td><td>&quot;17/09/2023&quot;</td><td>&quot;4 a 7 días&quot;</td><td>&quot;Flat&quot;</td><td>100.0</td></tr><tr><td>&quot;WO000000533136…</td><td>191058</td><td>&quot;PLAZA LIMA NOR…</td><td>&quot;Zona Centro&quot;</td><td>&quot;Cerrado&quot;</td><td>&quot;19/06/2023&quot;</td><td>&quot;30/06/2023&quot;</td><td>&quot;8 a 15 días&quot;</td><td>&quot;Emergencia&quot;</td><td>1026.6</td></tr><tr><td>&quot;WO000000552300…</td><td>191058</td><td>&quot;PLAZA LIMA NOR…</td><td>&quot;Zona Centro&quot;</td><td>&quot;Cerrado&quot;</td><td>&quot;21/08/2023&quot;</td><td>&quot;27/08/2023&quot;</td><td>&quot;4 a 7 días&quot;</td><td>&quot;Emergencia&quot;</td><td>1028.37</td></tr><tr><td>&quot;WO000000507411…</td><td>191090</td><td>&quot;MINI AGENCIA B…</td><td>&quot;Zona Centro&quot;</td><td>&quot;Cerrado&quot;</td><td>&quot;11/03/2023&quot;</td><td>&quot;15/04/2023&quot;</td><td>&quot;+15 días&quot;</td><td>&quot;Variable&quot;</td><td>103.84</td></tr><tr><td>&quot;WO000000530592…</td><td>191141</td><td>&quot;NARANJAL &quot;</td><td>&quot;Zona Centro&quot;</td><td>&quot;Cerrado&quot;</td><td>&quot;11/06/2023&quot;</td><td>&quot;15/06/2023&quot;</td><td>&quot;4 a 7 días&quot;</td><td>&quot;Flat&quot;</td><td>105.0</td></tr><tr><td>&quot;WO000000554546…</td><td>191143</td><td>&quot;NAYLAMP &quot;</td><td>&quot;Zona Centro&quot;</td><td>&quot;Cerrado&quot;</td><td>&quot;27/08/2023&quot;</td><td>&quot;02/09/2023&quot;</td><td>&quot;4 a 7 días&quot;</td><td>&quot;Variable&quot;</td><td>106.2</td></tr><tr><td>&quot;WO000000538437…</td><td>191035</td><td>&quot;PUENTE PIEDRA …</td><td>&quot;Zona Centro&quot;</td><td>&quot;Cerrado&quot;</td><td>&quot;07/07/2023&quot;</td><td>&quot;22/07/2023&quot;</td><td>&quot;8 a 15 días&quot;</td><td>&quot;Variable&quot;</td><td>1067.85</td></tr><tr><td>&quot;WO000000569874…</td><td>192026</td><td>&quot;PLAZA CIVICA V…</td><td>&quot;Zona Centro&quot;</td><td>&quot;Cerrado&quot;</td><td>&quot;15/10/2023&quot;</td><td>&quot;21/10/2023&quot;</td><td>&quot;4 a 7 días&quot;</td><td>&quot;Variable&quot;</td><td>1093.27</td></tr><tr><td>&quot;WO000000474138…</td><td>191038</td><td>&quot;TUPAC AMARU &quot;</td><td>&quot;Zona Centro&quot;</td><td>&quot;Rechazado&quot;</td><td>&quot;20/11/2022&quot;</td><td>null</td><td>null</td><td>&quot;Rechazado&quot;</td><td>110.0</td></tr><tr><td>&hellip;</td><td>&hellip;</td><td>&hellip;</td><td>&hellip;</td><td>&hellip;</td><td>&hellip;</td><td>&hellip;</td><td>&hellip;</td><td>&hellip;</td><td>&hellip;</td></tr><tr><td>&quot;WO000000572075…</td><td>220000</td><td>&quot;AYACUCHO &quot;</td><td>&quot;Zona Sur&quot;</td><td>&quot;Rechazado&quot;</td><td>&quot;23/10/2023&quot;</td><td>null</td><td>null</td><td>&quot;Rechazado&quot;</td><td>null</td></tr><tr><td>&quot;WO000000572245…</td><td>191115</td><td>&quot;LOS RUISEÑORES…</td><td>&quot;Zona Sur&quot;</td><td>&quot;En curso&quot;</td><td>&quot;23/10/2023&quot;</td><td>null</td><td>null</td><td>&quot;Flat&quot;</td><td>null</td></tr><tr><td>&quot;WO000000572287…</td><td>191089</td><td>&quot;ALFONSO UGARTE…</td><td>&quot;Zona Sur&quot;</td><td>&quot;En curso&quot;</td><td>&quot;23/10/2023&quot;</td><td>null</td><td>null</td><td>&quot;Variable&quot;</td><td>2092.75</td></tr><tr><td>&quot;WO000000572287…</td><td>191026</td><td>&quot;VENEZUELA &quot;</td><td>&quot;Zona Sur&quot;</td><td>&quot;Rechazado&quot;</td><td>&quot;23/10/2023&quot;</td><td>&quot;29/10/2023&quot;</td><td>&quot;4 a 7 días&quot;</td><td>&quot;Flat&quot;</td><td>null</td></tr><tr><td>&quot;WO000000572820…</td><td>380004</td><td>&quot;LUREN &quot;</td><td>&quot;Zona Sur&quot;</td><td>&quot;En curso&quot;</td><td>&quot;26/10/2023&quot;</td><td>null</td><td>null</td><td>&quot;Controlador&quot;</td><td>null</td></tr><tr><td>&quot;WO000000572979…</td><td>191026</td><td>&quot;VENEZUELA &quot;</td><td>&quot;Zona Sur&quot;</td><td>&quot;En curso&quot;</td><td>&quot;27/10/2023&quot;</td><td>null</td><td>null</td><td>&quot;Variable&quot;</td><td>53.1</td></tr><tr><td>&quot;WO000000573134…</td><td>191089</td><td>&quot;ALFONSO UGARTE…</td><td>&quot;Zona Sur&quot;</td><td>&quot;Terminado&quot;</td><td>&quot;27/10/2023&quot;</td><td>&quot;29/10/2023&quot;</td><td>&quot;0 a 3 días&quot;</td><td>&quot;Flat&quot;</td><td>null</td></tr><tr><td>&quot;WO000000573389…</td><td>193038</td><td>&quot;LOS DAMASCOS &quot;</td><td>&quot;Zona Sur&quot;</td><td>&quot;En curso&quot;</td><td>&quot;28/10/2023&quot;</td><td>null</td><td>null</td><td>&quot;Emergencia&quot;</td><td>null</td></tr><tr><td>&quot;WO000000573416…</td><td>191043</td><td>&quot;VITARTE &quot;</td><td>&quot;Zona Sur&quot;</td><td>&quot;En curso&quot;</td><td>&quot;28/10/2023&quot;</td><td>null</td><td>null</td><td>&quot;Flat&quot;</td><td>null</td></tr><tr><td>&quot;WO000000573712…</td><td>191069</td><td>&quot;MESA REDONDA &quot;</td><td>&quot;Zona Sur&quot;</td><td>&quot;En curso&quot;</td><td>&quot;29/10/2023&quot;</td><td>null</td><td>null</td><td>&quot;Variable&quot;</td><td>null</td></tr><tr><td>&quot;WO000000573750…</td><td>380000</td><td>&quot;ICA &quot;</td><td>&quot;Zona Sur&quot;</td><td>&quot;En curso&quot;</td><td>&quot;29/10/2023&quot;</td><td>null</td><td>null</td><td>&quot;Variable&quot;</td><td>null</td></tr><tr><td>&quot;WO000000573834…</td><td>193054</td><td>&quot;LA FONTANA &quot;</td><td>&quot;Zona Sur&quot;</td><td>&quot;Rechazado&quot;</td><td>&quot;29/10/2023&quot;</td><td>null</td><td>null</td><td>&quot;Rechazado&quot;</td><td>null</td></tr></tbody></table></div>"
      ],
      "text/plain": [
       "shape: (22_646, 10)\n",
       "┌────────────┬───────────┬────────────┬────────────┬───┬────────────┬────────┬────────────┬────────┐\n",
       "│ TicketID   ┆ AgenciaID ┆ Agencia    ┆ Service    ┆ … ┆ Fecha      ┆ Grupo  ┆ Tipo       ┆ Costo  │\n",
       "│ ---        ┆ ---       ┆ ---        ┆ Desk       ┆   ┆ Cierre     ┆ Dias   ┆ Ticket     ┆ ---    │\n",
       "│ str        ┆ i64       ┆ str        ┆ ---        ┆   ┆ ---        ┆ ---    ┆ ---        ┆ f64    │\n",
       "│            ┆           ┆            ┆ str        ┆   ┆ str        ┆ str    ┆ str        ┆        │\n",
       "╞════════════╪═══════════╪════════════╪════════════╪═══╪════════════╪════════╪════════════╪════════╡\n",
       "│ WO00000053 ┆ 191030    ┆ TARAPACA   ┆ Zona       ┆ … ┆ 07/07/2023 ┆ 4 a 7  ┆ Variable   ┆ 100.0  │\n",
       "│ 63116      ┆           ┆            ┆ Centro     ┆   ┆            ┆ días   ┆            ┆        │\n",
       "│ WO00000053 ┆ 191058    ┆ PLAZA LIMA ┆ Zona       ┆ … ┆ 15/07/2023 ┆ 0 a 3  ┆ Flat       ┆ 100.0  │\n",
       "│ 98536      ┆           ┆ NORTE      ┆ Centro     ┆   ┆            ┆ días   ┆            ┆        │\n",
       "│ WO00000055 ┆ 191021    ┆ SAN MARTIN ┆ Zona       ┆ … ┆ 21/08/2023 ┆ 0 a 3  ┆ Flat       ┆ 100.0  │\n",
       "│ 18382      ┆           ┆ DE PORRES  ┆ Centro     ┆   ┆            ┆ días   ┆            ┆        │\n",
       "│ WO00000055 ┆ 191053    ┆ URB SAN    ┆ Zona       ┆ … ┆ 17/09/2023 ┆ 4 a 7  ┆ Flat       ┆ 100.0  │\n",
       "│ 96165      ┆           ┆ FELIPE     ┆ Centro     ┆   ┆            ┆ días   ┆            ┆        │\n",
       "│            ┆           ┆ COMAS      ┆            ┆   ┆            ┆        ┆            ┆        │\n",
       "│ WO00000053 ┆ 191058    ┆ PLAZA LIMA ┆ Zona       ┆ … ┆ 30/06/2023 ┆ 8 a 15 ┆ Emergencia ┆ 1026.6 │\n",
       "│ 31364      ┆           ┆ NORTE      ┆ Centro     ┆   ┆            ┆ días   ┆            ┆        │\n",
       "│ …          ┆ …         ┆ …          ┆ …          ┆ … ┆ …          ┆ …      ┆ …          ┆ …      │\n",
       "│ WO00000057 ┆ 193038    ┆ LOS        ┆ Zona Sur   ┆ … ┆ null       ┆ null   ┆ Emergencia ┆ null   │\n",
       "│ 33892      ┆           ┆ DAMASCOS   ┆            ┆   ┆            ┆        ┆            ┆        │\n",
       "│ WO00000057 ┆ 191043    ┆ VITARTE    ┆ Zona Sur   ┆ … ┆ null       ┆ null   ┆ Flat       ┆ null   │\n",
       "│ 34169      ┆           ┆            ┆            ┆   ┆            ┆        ┆            ┆        │\n",
       "│ WO00000057 ┆ 191069    ┆ MESA       ┆ Zona Sur   ┆ … ┆ null       ┆ null   ┆ Variable   ┆ null   │\n",
       "│ 37120      ┆           ┆ REDONDA    ┆            ┆   ┆            ┆        ┆            ┆        │\n",
       "│ WO00000057 ┆ 380000    ┆ ICA        ┆ Zona Sur   ┆ … ┆ null       ┆ null   ┆ Variable   ┆ null   │\n",
       "│ 37503      ┆           ┆            ┆            ┆   ┆            ┆        ┆            ┆        │\n",
       "│ WO00000057 ┆ 193054    ┆ LA FONTANA ┆ Zona Sur   ┆ … ┆ null       ┆ null   ┆ Rechazado  ┆ null   │\n",
       "│ 38345      ┆           ┆            ┆            ┆   ┆            ┆        ┆            ┆        │\n",
       "└────────────┴───────────┴────────────┴────────────┴───┴────────────┴────────┴────────────┴────────┘"
      ]
     },
     "execution_count": 23,
     "metadata": {},
     "output_type": "execute_result"
    }
   ],
   "source": [
    "# Definir la estructurade variables del df\n",
    "df_final=df_final.select(\"TicketID\",\"AgenciaID\",\"Agencia\",\"Service Desk\",\"Estado\",pl.col(\"Fecha Creacion\").dt.strftime(\"%d/%m/%Y\"),pl.col(\"Fecha Real Fin\").dt.strftime(\"%d/%m/%Y\").alias(\"Fecha Cierre\"),\"Grupo Dias\",pl.col(\"Tipo de Ticket\").alias(\"Tipo Ticket\"), pl.col(\"Costo Atencion\").round(2).alias(\"Costo\"))\n",
    "df_final"
   ]
  },
  {
   "cell_type": "code",
   "execution_count": 24,
   "metadata": {},
   "outputs": [],
   "source": [
    "# %pip install pandas\n",
    "# %pip install pyarrow\n",
    "# %pip install numpy\n",
    "# %pip install openpyxl"
   ]
  },
  {
   "cell_type": "code",
   "execution_count": 25,
   "metadata": {},
   "outputs": [],
   "source": [
    "# Se esta utilizando pandas, y todas las lbrerias menionadas arriba puesto que polars ni xlsx2csv tienen la funcion de exportar excels\n",
    "import pandas as pd\n",
    "dt_final_pd= df_final.to_pandas()\n",
    "dt_final_pd.to_excel(\n",
    "    \"./Consolidado.xlsx\", sheet_name=\"Atenciones\", index=False\n",
    ")"
   ]
  }
 ],
 "metadata": {
  "kernelspec": {
   "display_name": "vEdicion1",
   "language": "python",
   "name": "python3"
  },
  "language_info": {
   "codemirror_mode": {
    "name": "ipython",
    "version": 3
   },
   "file_extension": ".py",
   "mimetype": "text/x-python",
   "name": "python",
   "nbconvert_exporter": "python",
   "pygments_lexer": "ipython3",
   "version": "3.12.2"
  },
  "orig_nbformat": 4
 },
 "nbformat": 4,
 "nbformat_minor": 2
}
